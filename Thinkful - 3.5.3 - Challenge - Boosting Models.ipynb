{
 "cells": [
  {
   "cell_type": "markdown",
   "metadata": {},
   "source": [
    "**Thinkful - 3.5.3 - Challenge - Boosting Models**"
   ]
  },
  {
   "cell_type": "code",
   "execution_count": 3,
   "metadata": {},
   "outputs": [
    {
     "name": "stdout",
     "output_type": "stream",
     "text": [
      "Training set accuracy:\n",
      "Percent Type I errors: 0.04650845608292417\n",
      "Percent Type II errors: 0.17607746863066012\n",
      "\n",
      "Test set accuracy:\n",
      "Percent Type I errors: 0.06257668711656442\n",
      "Percent Type II errors: 0.18527607361963191\n"
     ]
    }
   ],
   "source": [
    "import pandas as pd\n",
    "import numpy as np\n",
    "import scipy\n",
    "import time\n",
    "import matplotlib.pyplot as plt\n",
    "%matplotlib inline\n",
    "\n",
    "from sklearn import ensemble\n",
    "from sklearn import datasets\n",
    "from sklearn.utils import shuffle\n",
    "from sklearn.metrics import mean_squared_error\n",
    "\n",
    "df = pd.read_csv((\n",
    "    \"https://raw.githubusercontent.com/Thinkful-Ed/data-201-resources/\"\n",
    "    \"master/ESS_practice_data/ESSdata_Thinkful.csv\")).dropna()\n",
    "\n",
    "# Definine outcome and predictors.\n",
    "# Set our outcome to 0 and 1.\n",
    "y = df['partner'] - 1\n",
    "X = df.loc[:, ~df.columns.isin(['partner', 'cntry', 'idno'])]\n",
    "\n",
    "# Make the categorical variable 'country' into dummies.\n",
    "X = pd.concat([X, pd.get_dummies(df['cntry'])], axis=1)\n",
    "\n",
    "# Create training and test sets.\n",
    "offset = int(X.shape[0] * 0.9)\n",
    "\n",
    "# Put 90% of the data in the training set.\n",
    "X_train, y_train = X[:offset], y[:offset]\n",
    "\n",
    "# And put 10% in the test set.\n",
    "X_test, y_test = X[offset:], y[offset:]\n",
    "\n",
    "# We'll make 500 iterations, use 2-deep trees, and set our loss function.\n",
    "params = {'n_estimators': 500,\n",
    "          'max_depth': 2,\n",
    "          'loss': 'deviance'}\n",
    "\n",
    "# Initialize and fit the model.\n",
    "clf = ensemble.GradientBoostingClassifier(**params)\n",
    "clf.fit(X_train, y_train)\n",
    "\n",
    "predict_train = clf.predict(X_train)\n",
    "predict_test = clf.predict(X_test)\n",
    "\n",
    "# Accuracy tables.\n",
    "table_train = pd.crosstab(y_train, predict_train, margins=True)\n",
    "table_test = pd.crosstab(y_test, predict_test, margins=True)\n",
    "\n",
    "train_tI_errors = table_train.loc[0.0,1.0] / table_train.loc['All','All']\n",
    "train_tII_errors = table_train.loc[1.0,0.0] / table_train.loc['All','All']\n",
    "\n",
    "test_tI_errors = table_test.loc[0.0,1.0]/table_test.loc['All','All']\n",
    "test_tII_errors = table_test.loc[1.0,0.0]/table_test.loc['All','All']\n",
    "\n",
    "print((\n",
    "    'Training set accuracy:\\n'\n",
    "    'Percent Type I errors: {}\\n'\n",
    "    'Percent Type II errors: {}\\n\\n'\n",
    "    'Test set accuracy:\\n'\n",
    "    'Percent Type I errors: {}\\n'\n",
    "    'Percent Type II errors: {}'\n",
    ").format(train_tI_errors, train_tII_errors, test_tI_errors, test_tII_errors))"
   ]
  },
  {
   "cell_type": "code",
   "execution_count": 4,
   "metadata": {},
   "outputs": [
    {
     "data": {
      "image/png": "[encoded data removed]",
      "text/plain": [
       "<matplotlib.figure.Figure at 0x108a91048>"
      ]
     },
     "metadata": {},
     "output_type": "display_data"
    }
   ],
   "source": [
    "feature_importance = clf.feature_importances_\n",
    "\n",
    "# Make importances relative to max importance.\n",
    "feature_importance = 100.0 * (feature_importance / feature_importance.max())\n",
    "sorted_idx = np.argsort(feature_importance)\n",
    "pos = np.arange(sorted_idx.shape[0]) + .5\n",
    "plt.subplot(1, 2, 2)\n",
    "plt.barh(pos, feature_importance[sorted_idx], align='center')\n",
    "plt.yticks(pos, X.columns[sorted_idx])\n",
    "plt.xlabel('Relative Importance')\n",
    "plt.title('Variable Importance')\n",
    "plt.show()"
   ]
  },
  {
   "cell_type": "markdown",
   "metadata": {},
   "source": [
    "**Improve Model**\n",
    "\n",
    "While this model is already doing alright, we've seen from the Type I and Type II error rates that there is definitely room for improvement. Your task is to see how low you can get the error rates to go in the test set, based on your model in the training set. Strategies you might use include:\n",
    "\n",
    "* Creating new features\n",
    "* Applying more overfitting-prevention strategies like subsampling\n",
    "* More iterations\n",
    "* Trying a different loss function\n",
    "* Changing the structure of the weak learner: Allowing more leaves in the tree, or other modifications"
   ]
  },
  {
   "cell_type": "code",
   "execution_count": 5,
   "metadata": {},
   "outputs": [
    {
     "name": "stdout",
     "output_type": "stream",
     "text": [
      "Run time =  868.6398210525513\n"
     ]
    }
   ],
   "source": [
    "type_I_test = []\n",
    "type_II_test = []\n",
    "iteration = []\n",
    "est_n = []\n",
    "max_depth = []\n",
    "loss = []\n",
    "subsample = []\n",
    "\n",
    "# Put 90% of the data in the training set.\n",
    "X_train, y_train = X[:offset], y[:offset]\n",
    "\n",
    "# And put 10% in the test set.\n",
    "X_test, y_test = X[offset:], y[offset:]\n",
    "i = 1\n",
    "#loss_type = ['deviance','exponential']\n",
    "\n",
    "start = time.time()\n",
    "\n",
    "for n in range(1000, 5000, 1000):\n",
    "    for m in range(1, 5):\n",
    "        for s in range(2,10,2):\n",
    "            s2 = s*0.1\n",
    "            params = {'n_estimators': n,\n",
    "                      'max_depth': m,\n",
    "                      'loss': 'deviance',\n",
    "                      'subsample':s2}\n",
    "\n",
    "            # Initialize and fit the model.\n",
    "            clf = ensemble.GradientBoostingClassifier(**params)\n",
    "            clf.fit(X_train, y_train)\n",
    "\n",
    "            predict_train = clf.predict(X_train)\n",
    "            predict_test = clf.predict(X_test)\n",
    "\n",
    "            # Accuracy tables.\n",
    "            table_train = pd.crosstab(y_train, predict_train, margins=True)\n",
    "            table_test = pd.crosstab(y_test, predict_test, margins=True)\n",
    "\n",
    "            train_tI_errors = table_train.loc[0.0,1.0] / table_train.loc['All','All']\n",
    "            train_tII_errors = table_train.loc[1.0,0.0] / table_train.loc['All','All']\n",
    "\n",
    "            test_tI_errors = table_test.loc[0.0,1.0]/table_test.loc['All','All']\n",
    "            test_tII_errors = table_test.loc[1.0,0.0]/table_test.loc['All','All']\n",
    "\n",
    "            type_I_test.append(test_tI_errors)\n",
    "            type_II_test.append(test_tII_errors)\n",
    "            est_n.append(n)\n",
    "            max_depth.append(m)\n",
    "            loss.append('deviance')\n",
    "            subsample.append(s2)\n",
    "            iteration.append(i)\n",
    "            i += 1\n",
    "\n",
    "stop = time.time()\n",
    "a = stop - start\n",
    "print(\"Run time = \",a)"
   ]
  },
  {
   "cell_type": "code",
   "execution_count": 6,
   "metadata": {},
   "outputs": [
    {
     "name": "stdout",
     "output_type": "stream",
     "text": [
      "Run time =  804.54736495018\n"
     ]
    }
   ],
   "source": [
    "# Put 90% of the data in the training set.\n",
    "X_train, y_train = X[:offset], y[:offset]\n",
    "\n",
    "# And put 10% in the test set.\n",
    "X_test, y_test = X[offset:], y[offset:]\n",
    "i = 1\n",
    "#loss_type = ['deviance','exponential']\n",
    "\n",
    "start = time.time()\n",
    "\n",
    "for n in range(1000, 5000, 1000):\n",
    "    for m in range(1, 5):\n",
    "        for s in range(2,10,2):\n",
    "            s2 = s*0.1\n",
    "            params = {'n_estimators': n,\n",
    "                      'max_depth': m,\n",
    "                      'loss': 'exponential',\n",
    "                      'subsample':s2}\n",
    "\n",
    "            # Initialize and fit the model.\n",
    "            clf = ensemble.GradientBoostingClassifier(**params)\n",
    "            clf.fit(X_train, y_train)\n",
    "\n",
    "            predict_train = clf.predict(X_train)\n",
    "            predict_test = clf.predict(X_test)\n",
    "\n",
    "            # Accuracy tables.\n",
    "            table_train = pd.crosstab(y_train, predict_train, margins=True)\n",
    "            table_test = pd.crosstab(y_test, predict_test, margins=True)\n",
    "\n",
    "            train_tI_errors = table_train.loc[0.0,1.0] / table_train.loc['All','All']\n",
    "            train_tII_errors = table_train.loc[1.0,0.0] / table_train.loc['All','All']\n",
    "\n",
    "            test_tI_errors = table_test.loc[0.0,1.0]/table_test.loc['All','All']\n",
    "            test_tII_errors = table_test.loc[1.0,0.0]/table_test.loc['All','All']\n",
    "\n",
    "            type_I_test.append(test_tI_errors)\n",
    "            type_II_test.append(test_tII_errors)\n",
    "            est_n.append(n)\n",
    "            max_depth.append(m)\n",
    "            loss.append('exponential')\n",
    "            subsample.append(s2)\n",
    "            iteration.append(i)\n",
    "            i += 1\n",
    "\n",
    "stop = time.time()\n",
    "a = stop - start\n",
    "print(\"Run time = \",a)"
   ]
  },
  {
   "cell_type": "markdown",
   "metadata": {},
   "source": [
    "**Reviewing the Results**\n",
    "\n",
    "After reviewing the data, we can see that the Type I and Type II errors are inversely related."
   ]
  },
  {
   "cell_type": "code",
   "execution_count": 33,
   "metadata": {},
   "outputs": [
    {
     "data": {
      "text/html": [
       "<div>\n",
       "<style>\n",
       "    .dataframe thead tr:only-child th {\n",
       "        text-align: right;\n",
       "    }\n",
       "\n",
       "    .dataframe thead th {\n",
       "        text-align: left;\n",
       "    }\n",
       "\n",
       "    .dataframe tbody tr th {\n",
       "        vertical-align: top;\n",
       "    }\n",
       "</style>\n",
       "<table border=\"1\" class=\"dataframe\">\n",
       "  <thead>\n",
       "    <tr style=\"text-align: right;\">\n",
       "      <th></th>\n",
       "      <th>Type I Error</th>\n",
       "      <th>Type II Error</th>\n",
       "      <th>Estimators</th>\n",
       "      <th>Max Depth</th>\n",
       "      <th>Loss Type</th>\n",
       "      <th>Subsample</th>\n",
       "      <th>Iteration</th>\n",
       "    </tr>\n",
       "  </thead>\n",
       "  <tbody>\n",
       "    <tr>\n",
       "      <th>0</th>\n",
       "      <td>0.061350</td>\n",
       "      <td>0.204908</td>\n",
       "      <td>1000</td>\n",
       "      <td>1</td>\n",
       "      <td>deviance</td>\n",
       "      <td>0.2</td>\n",
       "      <td>1</td>\n",
       "    </tr>\n",
       "    <tr>\n",
       "      <th>1</th>\n",
       "      <td>0.053988</td>\n",
       "      <td>0.207362</td>\n",
       "      <td>1000</td>\n",
       "      <td>1</td>\n",
       "      <td>deviance</td>\n",
       "      <td>0.4</td>\n",
       "      <td>2</td>\n",
       "    </tr>\n",
       "    <tr>\n",
       "      <th>2</th>\n",
       "      <td>0.057669</td>\n",
       "      <td>0.206135</td>\n",
       "      <td>1000</td>\n",
       "      <td>1</td>\n",
       "      <td>deviance</td>\n",
       "      <td>0.6</td>\n",
       "      <td>3</td>\n",
       "    </tr>\n",
       "    <tr>\n",
       "      <th>3</th>\n",
       "      <td>0.053988</td>\n",
       "      <td>0.208589</td>\n",
       "      <td>1000</td>\n",
       "      <td>1</td>\n",
       "      <td>deviance</td>\n",
       "      <td>0.8</td>\n",
       "      <td>4</td>\n",
       "    </tr>\n",
       "    <tr>\n",
       "      <th>4</th>\n",
       "      <td>0.085890</td>\n",
       "      <td>0.175460</td>\n",
       "      <td>1000</td>\n",
       "      <td>2</td>\n",
       "      <td>deviance</td>\n",
       "      <td>0.2</td>\n",
       "      <td>5</td>\n",
       "    </tr>\n",
       "  </tbody>\n",
       "</table>\n",
       "</div>"
      ],
      "text/plain": [
       "   Type I Error  Type II Error  Estimators  Max Depth Loss Type  Subsample  \\\n",
       "0      0.061350       0.204908        1000          1  deviance        0.2   \n",
       "1      0.053988       0.207362        1000          1  deviance        0.4   \n",
       "2      0.057669       0.206135        1000          1  deviance        0.6   \n",
       "3      0.053988       0.208589        1000          1  deviance        0.8   \n",
       "4      0.085890       0.175460        1000          2  deviance        0.2   \n",
       "\n",
       "   Iteration  \n",
       "0          1  \n",
       "1          2  \n",
       "2          3  \n",
       "3          4  \n",
       "4          5  "
      ]
     },
     "execution_count": 33,
     "metadata": {},
     "output_type": "execute_result"
    }
   ],
   "source": [
    "df2 = pd.DataFrame(type_I_test,columns=['Type I Error'])\n",
    "df2['Type II Error'] = pd.Series(type_II_test, index=df2.index)\n",
    "df2['Estimators'] = pd.Series(est_n, index=df2.index)\n",
    "df2['Max Depth'] = pd.Series(max_depth, index=df2.index)\n",
    "df2['Loss Type'] = pd.Series(loss, index=df2.index)\n",
    "df2['Subsample'] = pd.Series(subsample, index=df2.index)\n",
    "df2['Iteration'] = pd.Series(iteration, index=df2.index)\n",
    "\n",
    "df2.head()"
   ]
  },
  {
   "cell_type": "code",
   "execution_count": 34,
   "metadata": {},
   "outputs": [
    {
     "data": {
      "image/png": "[encoded data removed]",
      "text/plain": [
       "<matplotlib.figure.Figure at 0x10d024278>"
      ]
     },
     "metadata": {},
     "output_type": "display_data"
    }
   ],
   "source": [
    "# Look at our data.\n",
    "plt.scatter(type_I_test,type_II_test,color='blue')\n",
    "plt.title('Type II vs Type I Errors')\n",
    "plt.xlabel('Type I')\n",
    "plt.ylabel('Type II')\n",
    "plt.show()"
   ]
  },
  {
   "cell_type": "markdown",
   "metadata": {},
   "source": [
    "**Error Types**\n",
    "\n",
    "The parameters used to obtain each minimum error are shown below. In this case, the Type I and Type II error are defined as follows:\n",
    "* Type I Error - False Positive - when we predict that a person has a partner when they do not. \n",
    "* Type II Error - False Negative - when we predict that a person does not have a partner when they do."
   ]
  },
  {
   "cell_type": "code",
   "execution_count": 31,
   "metadata": {},
   "outputs": [
    {
     "data": {
      "text/plain": [
       "Type I Error       0.0404908\n",
       "Type II Error       0.207362\n",
       "Estimators              2000\n",
       "Max Depth                  1\n",
       "Loss Type        exponential\n",
       "Subsample                0.2\n",
       "Iteration                 17\n",
       "Name: 80, dtype: object"
      ]
     },
     "execution_count": 31,
     "metadata": {},
     "output_type": "execute_result"
    }
   ],
   "source": [
    "df2.loc[df2['Type I Error'].idxmin()]"
   ]
  },
  {
   "cell_type": "code",
   "execution_count": 32,
   "metadata": {},
   "outputs": [
    {
     "data": {
      "text/plain": [
       "Type I Error     0.159509\n",
       "Type II Error    0.146012\n",
       "Estimators           1000\n",
       "Max Depth               4\n",
       "Loss Type        deviance\n",
       "Subsample             0.2\n",
       "Iteration              13\n",
       "Name: 12, dtype: object"
      ]
     },
     "execution_count": 32,
     "metadata": {},
     "output_type": "execute_result"
    }
   ],
   "source": [
    "df2.loc[df2['Type II Error'].idxmin()]"
   ]
  }
 ],
 "metadata": {
  "kernelspec": {
   "display_name": "Python 3",
   "language": "python",
   "name": "python3"
  },
  "language_info": {
   "codemirror_mode": {
    "name": "ipython",
    "version": 3
   },
   "file_extension": ".py",
   "mimetype": "text/x-python",
   "name": "python",
   "nbconvert_exporter": "python",
   "pygments_lexer": "ipython3",
   "version": "3.5.2"
  }
 },
 "nbformat": 4,
 "nbformat_minor": 2
}
