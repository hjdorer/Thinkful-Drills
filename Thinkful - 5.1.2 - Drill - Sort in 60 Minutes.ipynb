{
 "cells": [
  {
   "cell_type": "markdown",
   "metadata": {},
   "source": [
    "**Thinkful - 5.1.2 - Drill - Sort in 60 Minutes**\n",
    "\n",
    "Implement it in Python below and see how it compares in sorting our short and long lists. You should be able to easily find guides on how to implement any of the algorithms. Can you figure out why it runs faster or slower than our other sorting algorithms?\n",
    "\n",
    "Some good sorts to try are:\n",
    "\n",
    "* Heap Sort\n",
    "* Selection Sort\n",
    "* QuickSort"
   ]
  },
  {
   "cell_type": "code",
   "execution_count": 1,
   "metadata": {
    "collapsed": true
   },
   "outputs": [],
   "source": [
    "# The following short and long lists were used for testing all three sort methods\n",
    "\n",
    "import time\n",
    "import random\n",
    "import pandas as pd\n",
    "\n",
    "# Set seed.\n",
    "#random.seed(a=100)\n",
    "\n",
    "# Create our default list.\n",
    "#short_list = list(random.sample(range(1000000), 10))\n",
    "#long_list = list(random.sample(range(1000000), 10000))"
   ]
  },
  {
   "cell_type": "markdown",
   "metadata": {
    "collapsed": true
   },
   "source": [
    "**HEAP SORT**\n",
    "\n",
    "The code for the heap sort was acquired from the GeeksForGeeks page here:\n",
    "https://www.geeksforgeeks.org/python-program-for-heap-sort/\n",
    "\n",
    "A heap sort uses a data structure known as a \"heap\", which, I understand it, is a set of rules such that an array can be evaluated as a tree, where each parent has no more than 2 children. The tree is built top to bottom, left to right. For a min heap, each parent should be smaller than its child. For a max heap, each parent should be larger than its child. The heap outputs the smallest (for a min heap) or largest (max heap) value in the array, without each number having to be compared against every other number."
   ]
  },
  {
   "cell_type": "code",
   "execution_count": 2,
   "metadata": {
    "collapsed": true
   },
   "outputs": [],
   "source": [
    "# Python program for implementation of heap Sort \n",
    "  \n",
    "# To heapify subtree rooted at index i. \n",
    "# n is size of heap \n",
    "def heapify(arr, n, i): \n",
    "    largest = i  # Initialize largest as root \n",
    "    l = 2 * i + 1     # left = 2*i + 1 \n",
    "    r = 2 * i + 2     # right = 2*i + 2 \n",
    "  \n",
    "    # See if left child of root exists and is \n",
    "    # greater than root \n",
    "    if l < n and arr[i] < arr[l]: \n",
    "        largest = l \n",
    "  \n",
    "    # See if right child of root exists and is \n",
    "    # greater than root \n",
    "    if r < n and arr[largest] < arr[r]: \n",
    "        largest = r \n",
    "  \n",
    "    # Change root, if needed \n",
    "    if largest != i: \n",
    "        arr[i],arr[largest] = arr[largest],arr[i]  # swap \n",
    "  \n",
    "        # Heapify the root. \n",
    "        heapify(arr, n, largest)"
   ]
  },
  {
   "cell_type": "code",
   "execution_count": 3,
   "metadata": {
    "collapsed": true
   },
   "outputs": [],
   "source": [
    "# The main function to sort an array of given size \n",
    "def heapSort(arr): \n",
    "    n = len(arr) \n",
    "  \n",
    "    # Build a maxheap. \n",
    "    # Since last parent will be at ((n//2)-1) we can start at that location. \n",
    "    for i in range(n // 2 - 1, -1, -1): \n",
    "        heapify(arr, n, i) \n",
    "  \n",
    "    # One by one extract elements \n",
    "    for i in range(n-1, 0, -1): \n",
    "        arr[i], arr[0] = arr[0], arr[i]   # swap \n",
    "        heapify(arr, i, 0) "
   ]
  },
  {
   "cell_type": "code",
   "execution_count": 4,
   "metadata": {},
   "outputs": [
    {
     "name": "stdout",
     "output_type": "stream",
     "text": [
      "Sorted array is\n",
      "152745\n",
      "183236\n",
      "366725\n",
      "412125\n",
      "477025\n",
      "481850\n",
      "739784\n",
      "767514\n",
      "808225\n",
      "997948\n",
      "--- 0.0007350444793701172 seconds ---\n"
     ]
    }
   ],
   "source": [
    "# Create our list.\n",
    "random.seed(a=100)\n",
    "short_list_heap = list(random.sample(range(1000000), 10))\n",
    "\n",
    "# Start timer.\n",
    "start_time = time.time()\n",
    "\n",
    "# Run our heap sort.\n",
    "heapSort(short_list_heap)\n",
    "n = len(short_list_heap) \n",
    "\n",
    "# Print sorted array\n",
    "print (\"Sorted array is\") \n",
    "for i in range(n): \n",
    "    print (\"%d\" %short_list_heap[i])\n",
    "    \n",
    "heapsort_time_short = time.time() - start_time\n",
    "\n",
    "# Print time to show runtime.\n",
    "print(\"--- %s seconds ---\" % (heapsort_time_short))"
   ]
  },
  {
   "cell_type": "code",
   "execution_count": 5,
   "metadata": {},
   "outputs": [
    {
     "name": "stdout",
     "output_type": "stream",
     "text": [
      "The ten largest numbers of sorted array are\n",
      "[999122, 999179, 999240, 999247, 999343, 999409, 999412, 999430, 999752, 999886]\n",
      "--- 0.07413315773010254 seconds ---\n"
     ]
    }
   ],
   "source": [
    "# Create list.\n",
    "random.seed(a=100)\n",
    "long_list_heap = list(random.sample(range(1000000), 10000))\n",
    "\n",
    "# Start timer.\n",
    "start_time = time.time()\n",
    "\n",
    "# Run our heap sort.\n",
    "heapSort(long_list_heap)\n",
    "n = len(long_list_heap) \n",
    "\n",
    "# Print sorted array\n",
    "print (\"The ten largest numbers of sorted array are\") \n",
    "print (long_list_heap[-10:])\n",
    "\n",
    "heapsort_time_long = time.time() - start_time\n",
    "\n",
    "# Print time to show runtime.\n",
    "print(\"--- %s seconds ---\" % (heapsort_time_long))"
   ]
  },
  {
   "cell_type": "markdown",
   "metadata": {},
   "source": [
    "**SELECTION SORT**\n",
    "\n",
    "The code for the selection sort was acquired from the GeeksForGeeks page here:\n",
    "https://www.geeksforgeeks.org/python-program-for-selection-sort/\n",
    "\n",
    "A selection sort has a variable \"min_idx\" that stores the index of the lowest number in the array. Min_idx is initialized at index i (starting with the first number in the array). The algorithm then compares the value in each subsequent index j with the value at index i. If the value at index i is smaller than the value at index j, min_idx remains i. If the value at index j is smaller than the value at index i, min_idx updates to contain index j. After the algorithm has compared every value in the array to the value at index i, the algorithm replaces the value at index i with the value at index j, and replaces the value at index j with the value at index i (AKA a swap). The variable then updates to the next index in the array and the comparison is repeated for all values in the array."
   ]
  },
  {
   "cell_type": "code",
   "execution_count": 6,
   "metadata": {
    "collapsed": true
   },
   "outputs": [],
   "source": [
    "# Traverse through all array elements \n",
    "def selectionSort(arr): \n",
    "    n = len(arr) \n",
    "\n",
    "    for i in range(len(arr)): \n",
    "\n",
    "        # Find the minimum element in remaining  \n",
    "        # unsorted array \n",
    "        min_idx = i \n",
    "        for j in range(i+1, len(arr)): \n",
    "            if arr[min_idx] > arr[j]: \n",
    "                min_idx = j \n",
    "\n",
    "        # Swap the found minimum element with  \n",
    "        # the first element         \n",
    "        arr[i], arr[min_idx] = arr[min_idx], arr[i] "
   ]
  },
  {
   "cell_type": "code",
   "execution_count": 7,
   "metadata": {},
   "outputs": [
    {
     "name": "stdout",
     "output_type": "stream",
     "text": [
      "Sorted array is\n",
      "152745\n",
      "183236\n",
      "366725\n",
      "412125\n",
      "477025\n",
      "481850\n",
      "739784\n",
      "767514\n",
      "808225\n",
      "997948\n",
      "--- 0.0014400482177734375 seconds ---\n"
     ]
    }
   ],
   "source": [
    "# Create our list.\n",
    "random.seed(a=100)\n",
    "short_list_selection = list(random.sample(range(1000000), 10))\n",
    "\n",
    "# Start timer.\n",
    "start_time = time.time()\n",
    "\n",
    "# Run our selection sort.\n",
    "selectionSort(short_list_selection)\n",
    "n = len(short_list_selection) \n",
    "\n",
    "# Print sorted array\n",
    "print (\"Sorted array is\") \n",
    "for i in range(n): \n",
    "    print (\"%d\" %short_list_selection[i])\n",
    "    \n",
    "selectionsort_time_short = time.time() - start_time\n",
    "\n",
    "# Print time to show runtime.\n",
    "print(\"--- %s seconds ---\" % (selectionsort_time_short))"
   ]
  },
  {
   "cell_type": "code",
   "execution_count": 8,
   "metadata": {},
   "outputs": [
    {
     "name": "stdout",
     "output_type": "stream",
     "text": [
      "The ten largest numbers of sorted array are\n",
      "[999122, 999179, 999240, 999247, 999343, 999409, 999412, 999430, 999752, 999886]\n",
      "--- 3.7866311073303223 seconds ---\n"
     ]
    }
   ],
   "source": [
    "# Create list.\n",
    "random.seed(a=100)\n",
    "long_list_selection = list(random.sample(range(1000000), 10000))\n",
    "\n",
    "# Start timer.\n",
    "start_time = time.time()\n",
    "\n",
    "# Run our selection sort.\n",
    "selectionSort(long_list_selection)\n",
    "n = len(long_list_selection) \n",
    "\n",
    "# Print sorted array\n",
    "print (\"The ten largest numbers of sorted array are\") \n",
    "print (long_list_selection[-10:])\n",
    "\n",
    "selectionsort_time_long = time.time() - start_time\n",
    "\n",
    "# Print time to show runtime.\n",
    "print(\"--- %s seconds ---\" % (selectionsort_time_long))"
   ]
  },
  {
   "cell_type": "markdown",
   "metadata": {
    "collapsed": true
   },
   "source": [
    "**QUICK SORT**\n",
    "\n",
    "The code for the selection sort was acquired from the GeeksForGeeks page here: https://www.geeksforgeeks.org/python-program-for-quicksort/\n",
    "\n",
    "Quicksort chooses a number in the list (the last number, in this case), called a pivot, and compares every other number to the pivot. Any number that is less than the pivot is added to one sublist, and any number that is greater than the pivot is added to another sublist. The algorithm then sorts each of the sublists, using the last number in the sublist as the pivot. The sorted sublists are then concatenated back into the master list."
   ]
  },
  {
   "cell_type": "code",
   "execution_count": 9,
   "metadata": {
    "collapsed": true
   },
   "outputs": [],
   "source": [
    "# This function takes last element as pivot, places \n",
    "# the pivot element at its correct position in sorted \n",
    "# array, and places all smaller (smaller than pivot) \n",
    "# to left of pivot and all greater elements to right \n",
    "# of pivot \n",
    "def partition(arr,low,high): \n",
    "    i = ( low-1 )         # index of smaller element \n",
    "    pivot = arr[high]     # pivot \n",
    "  \n",
    "    for j in range(low , high): \n",
    "  \n",
    "        # If current element is smaller than or \n",
    "        # equal to pivot \n",
    "        if   arr[j] <= pivot: \n",
    "          \n",
    "            # increment index of smaller element \n",
    "            i = i+1 \n",
    "            arr[i],arr[j] = arr[j],arr[i] \n",
    "  \n",
    "    arr[i+1],arr[high] = arr[high],arr[i+1] \n",
    "    return ( i+1 )"
   ]
  },
  {
   "cell_type": "code",
   "execution_count": 10,
   "metadata": {
    "collapsed": true
   },
   "outputs": [],
   "source": [
    "# The main function that implements QuickSort \n",
    "# arr[] --> Array to be sorted, \n",
    "# low  --> Starting index, \n",
    "# high  --> Ending index \n",
    "  \n",
    "# Function to do Quick sort \n",
    "def quickSort(arr,low,high): \n",
    "    if low < high: \n",
    "  \n",
    "        # pi is partitioning index, arr[p] is now \n",
    "        # at right place \n",
    "        pi = partition(arr,low,high) \n",
    "  \n",
    "        # Separately sort elements before \n",
    "        # partition and after partition \n",
    "        quickSort(arr, low, pi-1) \n",
    "        quickSort(arr, pi+1, high)"
   ]
  },
  {
   "cell_type": "code",
   "execution_count": 11,
   "metadata": {},
   "outputs": [
    {
     "name": "stdout",
     "output_type": "stream",
     "text": [
      "Sorted array is\n",
      "152745\n",
      "183236\n",
      "366725\n",
      "412125\n",
      "477025\n",
      "481850\n",
      "739784\n",
      "767514\n",
      "808225\n",
      "997948\n",
      "--- 0.0012359619140625 seconds ---\n"
     ]
    }
   ],
   "source": [
    "# Create our list.\n",
    "random.seed(a=100)\n",
    "short_list_quick = list(random.sample(range(1000000), 10))\n",
    "\n",
    "# Start timer.\n",
    "start_time = time.time()\n",
    "\n",
    "# Run our quick sort.\n",
    "n = len(short_list_quick) \n",
    "quickSort(short_list_quick,0,n-1)\n",
    "\n",
    "# Print sorted array\n",
    "print (\"Sorted array is\") \n",
    "for i in range(n): \n",
    "    print (\"%d\" %short_list_quick[i])\n",
    "\n",
    "quicksort_time_short = time.time() - start_time\n",
    "    \n",
    "# Print time to show runtime.\n",
    "print(\"--- %s seconds ---\" % (quicksort_time_short))"
   ]
  },
  {
   "cell_type": "code",
   "execution_count": 12,
   "metadata": {},
   "outputs": [
    {
     "data": {
      "text/plain": [
       "2000"
      ]
     },
     "execution_count": 12,
     "metadata": {},
     "output_type": "execute_result"
    }
   ],
   "source": [
    "import sys\n",
    "sys.getrecursionlimit()"
   ]
  },
  {
   "cell_type": "code",
   "execution_count": 16,
   "metadata": {},
   "outputs": [
    {
     "name": "stdout",
     "output_type": "stream",
     "text": [
      "The ten largest numbers of sorted array are\n",
      "[993083, 993799, 993816, 994936, 994971, 995112, 995988, 997948, 999020, 999122]\n",
      "--- 0.00455784797668457 seconds ---\n"
     ]
    }
   ],
   "source": [
    "# Create list.\n",
    "random.seed(a=100)\n",
    "\n",
    "# Note: only used 1500 items due to recursion error\n",
    "long_list_quick = list(random.sample(range(1000000), 1500))\n",
    "\n",
    "# Start timer.\n",
    "start_time = time.time()\n",
    "\n",
    "# Run our selection sort.\n",
    "n = len(long_list_quick)\n",
    "quickSort(long_list_quick,0,n-1) \n",
    "\n",
    "# Print sorted array\n",
    "print (\"The ten largest numbers of sorted array are\") \n",
    "print (long_list_quick[-10:])\n",
    "\n",
    "quicksort_time_long = time.time() - start_time\n",
    "\n",
    "# Print time to show runtime.\n",
    "print(\"--- %s seconds ---\" % (quicksort_time_long))"
   ]
  },
  {
   "cell_type": "markdown",
   "metadata": {
    "collapsed": true
   },
   "source": [
    "**DISCUSSION REGARDING SORTING SPEEDS**\n",
    "\n",
    "As the comparison table below shows, the Python default sort was by far the fastest sorting method, while the insertion sort was the slowest method, and selection sort was the second slowest. This makes intuitive sense because both sorting methods have a time complexity of n^2. However, it is interesting that the runtimes between the insertion and selection sorting methods are nowhere near each other despite having the same time complexity.\n",
    "\n",
    "A time complexity of n^2 is usually indicative of each element having to be compared against every other element, which is true for insertion sort and selection sort. In comparison, merge sort, heap sort and quick sort all compare subsets of data, which reduces the number of operations that must be beformed to n * log(n). "
   ]
  },
  {
   "cell_type": "code",
   "execution_count": 26,
   "metadata": {},
   "outputs": [
    {
     "data": {
      "text/html": [
       "<div>\n",
       "<style scoped>\n",
       "    .dataframe tbody tr th:only-of-type {\n",
       "        vertical-align: middle;\n",
       "    }\n",
       "\n",
       "    .dataframe tbody tr th {\n",
       "        vertical-align: top;\n",
       "    }\n",
       "\n",
       "    .dataframe thead th {\n",
       "        text-align: right;\n",
       "    }\n",
       "</style>\n",
       "<table border=\"1\" class=\"dataframe\">\n",
       "  <thead>\n",
       "    <tr style=\"text-align: right;\">\n",
       "      <th></th>\n",
       "      <th>Sort Type</th>\n",
       "      <th>SL times</th>\n",
       "      <th>LL times</th>\n",
       "      <th>LL times / n</th>\n",
       "      <th>Performance</th>\n",
       "    </tr>\n",
       "  </thead>\n",
       "  <tbody>\n",
       "    <tr>\n",
       "      <th>HeapSort</th>\n",
       "      <td>HeapSort</td>\n",
       "      <td>0.000735</td>\n",
       "      <td>0.074133</td>\n",
       "      <td>7.413316e-06</td>\n",
       "      <td>n * log(n)</td>\n",
       "    </tr>\n",
       "    <tr>\n",
       "      <th>SelectionSort</th>\n",
       "      <td>SelectionSort</td>\n",
       "      <td>0.001440</td>\n",
       "      <td>3.786631</td>\n",
       "      <td>3.786631e-04</td>\n",
       "      <td>n^2</td>\n",
       "    </tr>\n",
       "    <tr>\n",
       "      <th>QuickSort</th>\n",
       "      <td>QuickSort</td>\n",
       "      <td>0.001236</td>\n",
       "      <td>0.004558</td>\n",
       "      <td>3.038565e-06</td>\n",
       "      <td>n * log(n)</td>\n",
       "    </tr>\n",
       "    <tr>\n",
       "      <th>Insertion Sort</th>\n",
       "      <td>Insertion Sort</td>\n",
       "      <td>0.000158</td>\n",
       "      <td>12.538145</td>\n",
       "      <td>1.253814e-03</td>\n",
       "      <td>n * log(n)</td>\n",
       "    </tr>\n",
       "    <tr>\n",
       "      <th>Merge Sort</th>\n",
       "      <td>Merge Sort</td>\n",
       "      <td>0.000162</td>\n",
       "      <td>0.093490</td>\n",
       "      <td>9.349000e-06</td>\n",
       "      <td>n^2</td>\n",
       "    </tr>\n",
       "    <tr>\n",
       "      <th>Python Default</th>\n",
       "      <td>Python Default</td>\n",
       "      <td>NaN</td>\n",
       "      <td>0.000691</td>\n",
       "      <td>6.910000e-08</td>\n",
       "      <td>Unknown</td>\n",
       "    </tr>\n",
       "  </tbody>\n",
       "</table>\n",
       "</div>"
      ],
      "text/plain": [
       "                     Sort Type  SL times   LL times  LL times / n Performance\n",
       "HeapSort              HeapSort  0.000735   0.074133  7.413316e-06  n * log(n)\n",
       "SelectionSort    SelectionSort  0.001440   3.786631  3.786631e-04         n^2\n",
       "QuickSort            QuickSort  0.001236   0.004558  3.038565e-06  n * log(n)\n",
       "Insertion Sort  Insertion Sort  0.000158  12.538145  1.253814e-03  n * log(n)\n",
       "Merge Sort          Merge Sort  0.000162   0.093490  9.349000e-06         n^2\n",
       "Python Default  Python Default       NaN   0.000691  6.910000e-08     Unknown"
      ]
     },
     "execution_count": 26,
     "metadata": {},
     "output_type": "execute_result"
    }
   ],
   "source": [
    "sort_type = ['HeapSort','SelectionSort','QuickSort','Insertion Sort','Merge Sort','Python Default']\n",
    "\n",
    "time_comparison = pd.DataFrame(sort_type,index=sort_type)\n",
    "time_comparison['SL times'] = [heapsort_time_short,selectionsort_time_short,quicksort_time_short,0.000158,0.000162,None]\n",
    "time_comparison['LL times'] = [heapsort_time_long,selectionsort_time_long,quicksort_time_long,12.538145,0.093490,0.000691]\n",
    "\n",
    "# Include this line for performance comparison purposes, as we only sorted 1500 items with quicksort\n",
    "time_comparison['LL times / n'] = [heapsort_time_long/10000,selectionsort_time_long/10000,quicksort_time_long/1500,\n",
    "                                   12.538145/10000,0.093490/10000,0.000691/10000]\n",
    "time_comparison['Performance'] = ['n * log(n)','n^2','n * log(n)','n * log(n)','n^2','Unknown']\n",
    "time_comparison.columns = ['Sort Type','SL times','LL times','LL times / n','Performance']\n",
    "time_comparison"
   ]
  },
  {
   "cell_type": "markdown",
   "metadata": {},
   "source": [
    "**Questions for Mentor:**\n",
    "\n",
    "How to accurately calculate estimated execution time for long list using run time of short list and estimated performance?\n",
    "\n",
    "Example: the performance for heapsort and quicksort is n * log(n), and n^2 for selectionsort. \n",
    "\n",
    "To estimate the runtime for heapsort and quicksort, use:\n",
    "\n",
    "* t_short/(n_short*log(n_short)) = t_long/(n_long*log(n_long))\n",
    "* Therefore, t_long = t_short*((n_long/n_short)*(log(n_long)/log(n_short))\n",
    "* n_long = 10,000. n_short = 10.\n",
    "* Log(10000) / Log(10) = 4 / 1 = 4\n",
    "* Therefore, t_long = 4000 * t_short\n",
    "\n",
    "To estimate the runtime for selectionsort, use:\n",
    "\n",
    "* t_short/(n_short^2) = t_long/(n_long^2)\n",
    "* Therefore, t_long = t_short * ((n_long^2) / (n_short^2))\n",
    "* n_long = 10,000. n_short = 10.\n",
    "* 10000 ^ 2 / 10^2 = 100,000,000 / 100 = 1,000,000\n",
    "* Therefore, t_long = 1,000,000 * t_short\n",
    "\n",
    "However, using the calculations above vastly overestimates the execution time.\n"
   ]
  },
  {
   "cell_type": "code",
   "execution_count": 23,
   "metadata": {},
   "outputs": [
    {
     "data": {
      "text/html": [
       "<div>\n",
       "<style scoped>\n",
       "    .dataframe tbody tr th:only-of-type {\n",
       "        vertical-align: middle;\n",
       "    }\n",
       "\n",
       "    .dataframe tbody tr th {\n",
       "        vertical-align: top;\n",
       "    }\n",
       "\n",
       "    .dataframe thead th {\n",
       "        text-align: right;\n",
       "    }\n",
       "</style>\n",
       "<table border=\"1\" class=\"dataframe\">\n",
       "  <thead>\n",
       "    <tr style=\"text-align: right;\">\n",
       "      <th></th>\n",
       "      <th>Sort Type</th>\n",
       "      <th>SL times</th>\n",
       "      <th>LL times</th>\n",
       "      <th>Performance</th>\n",
       "      <th>Pred Time</th>\n",
       "    </tr>\n",
       "  </thead>\n",
       "  <tbody>\n",
       "    <tr>\n",
       "      <th>HeapSort</th>\n",
       "      <td>HeapSort</td>\n",
       "      <td>0.000735</td>\n",
       "      <td>0.074133</td>\n",
       "      <td>nlog(n)</td>\n",
       "      <td>2.940178</td>\n",
       "    </tr>\n",
       "    <tr>\n",
       "      <th>SelectionSort</th>\n",
       "      <td>SelectionSort</td>\n",
       "      <td>0.001440</td>\n",
       "      <td>3.786631</td>\n",
       "      <td>n^2</td>\n",
       "      <td>1440.048218</td>\n",
       "    </tr>\n",
       "    <tr>\n",
       "      <th>QuickSort</th>\n",
       "      <td>QuickSort</td>\n",
       "      <td>0.001236</td>\n",
       "      <td>0.030386</td>\n",
       "      <td>nlog(n)</td>\n",
       "      <td>4.943848</td>\n",
       "    </tr>\n",
       "  </tbody>\n",
       "</table>\n",
       "</div>"
      ],
      "text/plain": [
       "                   Sort Type  SL times  LL times Performance    Pred Time\n",
       "HeapSort            HeapSort  0.000735  0.074133     nlog(n)     2.940178\n",
       "SelectionSort  SelectionSort  0.001440  3.786631         n^2  1440.048218\n",
       "QuickSort          QuickSort  0.001236  0.030386     nlog(n)     4.943848"
      ]
     },
     "execution_count": 23,
     "metadata": {},
     "output_type": "execute_result"
    }
   ],
   "source": [
    "sort_type = ['HeapSort','SelectionSort','QuickSort']\n",
    "\n",
    "time_comparison = pd.DataFrame(sort_type,index=sort_type)\n",
    "time_comparison['SL times'] = [heapsort_time_short,selectionsort_time_short,quicksort_time_short]\n",
    "time_comparison['LL times'] = [heapsort_time_long,selectionsort_time_long,quicksort_time_long*(100/15)]\n",
    "time_comparison['Performance'] = ['n * log(n)','n^2','n * log(n)']\n",
    "time_comparison['Pred Time'] = [4000*heapsort_time_short,1000000*selectionsort_time_short,4000*quicksort_time_short]\n",
    "time_comparison.columns = ['Sort Type','SL times','LL times','Performance','Pred Time']\n",
    "time_comparison"
   ]
  },
  {
   "cell_type": "code",
   "execution_count": null,
   "metadata": {
    "collapsed": true
   },
   "outputs": [],
   "source": []
  }
 ],
 "metadata": {
  "kernelspec": {
   "display_name": "Python 3",
   "language": "python",
   "name": "python3"
  },
  "language_info": {
   "codemirror_mode": {
    "name": "ipython",
    "version": 3
   },
   "file_extension": ".py",
   "mimetype": "text/x-python",
   "name": "python",
   "nbconvert_exporter": "python",
   "pygments_lexer": "ipython3",
   "version": "3.5.2"
  }
 },
 "nbformat": 4,
 "nbformat_minor": 2
}
