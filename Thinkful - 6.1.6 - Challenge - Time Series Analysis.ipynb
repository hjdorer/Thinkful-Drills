{
 "cells": [
  {
   "cell_type": "markdown",
   "metadata": {},
   "source": [
    "**Thinkful - 6.1.6 - Challenge - Time Series Analysis**\n",
    "\n",
    "* Plot the time series, along with any logical or necessary differences to get a stationary dataset\n",
    "* Generate and interpret a PACF for the time series (and/or its differences)\n",
    "* Generate 5 ARIMA specifications and evaluate their efficacy at modeling your data\n",
    "* Finally choose one specification and make the case for that as a logical model for your dataset."
   ]
  },
  {
   "cell_type": "markdown",
   "metadata": {},
   "source": [
    "**Heather's Questions**\n",
    "\n",
    "1. I watched some videos on ritvikmath (Youtube channel), who said that PACF is used to determine the order of the auto-regressive portion of the model, and ACF is used to determine the order of the moving average model. This contradicts what was done in the guided example, where they used PACF on both the S&P data and the differenced S&P data, but ACF was never used.\n",
    "2. Should the ARIMA models be run on the given data, or differenced data? I tried five models of the same order on both, below.\n",
    "3. If you run an ARIMA model on differenced data, how do you get back to the original data?\n",
    "4. What does integrating an ARIMA model actually do?\n",
    "5. Need assistance troubleshooting why my models aren't fitting the data better."
   ]
  },
  {
   "cell_type": "code",
   "execution_count": 134,
   "metadata": {
    "collapsed": true
   },
   "outputs": [],
   "source": [
    "import numpy as np\n",
    "import pandas as pd\n",
    "import scipy\n",
    "from datetime import datetime\n",
    "from datetime import timedelta\n",
    "import datetime as dt\n",
    "import matplotlib.pyplot as plt\n",
    "from statsmodels.graphics.tsaplots import plot_acf, plot_pacf\n",
    "from statsmodels.tsa.stattools import pacf, acf\n",
    "from statsmodels.tsa.arima_model import ARIMA\n",
    "%matplotlib inline"
   ]
  },
  {
   "cell_type": "code",
   "execution_count": 135,
   "metadata": {},
   "outputs": [
    {
     "data": {
      "text/html": [
       "<div>\n",
       "<style scoped>\n",
       "    .dataframe tbody tr th:only-of-type {\n",
       "        vertical-align: middle;\n",
       "    }\n",
       "\n",
       "    .dataframe tbody tr th {\n",
       "        vertical-align: top;\n",
       "    }\n",
       "\n",
       "    .dataframe thead th {\n",
       "        text-align: right;\n",
       "    }\n",
       "</style>\n",
       "<table border=\"1\" class=\"dataframe\">\n",
       "  <thead>\n",
       "    <tr style=\"text-align: right;\">\n",
       "      <th></th>\n",
       "      <th>DATE</th>\n",
       "      <th>UNRATE</th>\n",
       "    </tr>\n",
       "  </thead>\n",
       "  <tbody>\n",
       "    <tr>\n",
       "      <th>0</th>\n",
       "      <td>1948-01-01</td>\n",
       "      <td>3.4</td>\n",
       "    </tr>\n",
       "    <tr>\n",
       "      <th>1</th>\n",
       "      <td>1948-02-01</td>\n",
       "      <td>3.8</td>\n",
       "    </tr>\n",
       "    <tr>\n",
       "      <th>2</th>\n",
       "      <td>1948-03-01</td>\n",
       "      <td>4.0</td>\n",
       "    </tr>\n",
       "    <tr>\n",
       "      <th>3</th>\n",
       "      <td>1948-04-01</td>\n",
       "      <td>3.9</td>\n",
       "    </tr>\n",
       "    <tr>\n",
       "      <th>4</th>\n",
       "      <td>1948-05-01</td>\n",
       "      <td>3.5</td>\n",
       "    </tr>\n",
       "  </tbody>\n",
       "</table>\n",
       "</div>"
      ],
      "text/plain": [
       "         DATE  UNRATE\n",
       "0  1948-01-01     3.4\n",
       "1  1948-02-01     3.8\n",
       "2  1948-03-01     4.0\n",
       "3  1948-04-01     3.9\n",
       "4  1948-05-01     3.5"
      ]
     },
     "execution_count": 135,
     "metadata": {},
     "output_type": "execute_result"
    }
   ],
   "source": [
    "df = pd.read_csv('Data/unemployment rate.csv')\n",
    "\n",
    "# Remove NA's\n",
    "df.dropna(inplace=True)\n",
    "df.head()"
   ]
  },
  {
   "cell_type": "code",
   "execution_count": 136,
   "metadata": {},
   "outputs": [
    {
     "data": {
      "image/png": "[encoded data removed]",
      "text/plain": [
       "<matplotlib.figure.Figure at 0x12d9937f0>"
      ]
     },
     "metadata": {},
     "output_type": "display_data"
    }
   ],
   "source": [
    "df.index = pd.to_datetime(df.DATE)\n",
    "df.plot()\n",
    "plt.title('Unemployment Rate Over Time')\n",
    "plt.show()"
   ]
  },
  {
   "cell_type": "code",
   "execution_count": 137,
   "metadata": {},
   "outputs": [
    {
     "data": {
      "image/png": "[encoded data removed]",
      "text/plain": [
       "<matplotlib.figure.Figure at 0x12da9fcf8>"
      ]
     },
     "metadata": {},
     "output_type": "display_data"
    }
   ],
   "source": [
    "df['diff_1'] = df['UNRATE'] - df['UNRATE'].shift()\n",
    "unrate = df['UNRATE']\n",
    "diff_1 = df['diff_1']\n",
    "df.plot(y='diff_1')\n",
    "plt.title('Unemployment Rate Time Series')\n",
    "plt.show()"
   ]
  },
  {
   "cell_type": "code",
   "execution_count": 138,
   "metadata": {},
   "outputs": [
    {
     "data": {
      "text/html": [
       "<div>\n",
       "<style scoped>\n",
       "    .dataframe tbody tr th:only-of-type {\n",
       "        vertical-align: middle;\n",
       "    }\n",
       "\n",
       "    .dataframe tbody tr th {\n",
       "        vertical-align: top;\n",
       "    }\n",
       "\n",
       "    .dataframe thead th {\n",
       "        text-align: right;\n",
       "    }\n",
       "</style>\n",
       "<table border=\"1\" class=\"dataframe\">\n",
       "  <thead>\n",
       "    <tr style=\"text-align: right;\">\n",
       "      <th></th>\n",
       "      <th>DATE</th>\n",
       "      <th>UNRATE</th>\n",
       "      <th>diff_1</th>\n",
       "    </tr>\n",
       "    <tr>\n",
       "      <th>DATE</th>\n",
       "      <th></th>\n",
       "      <th></th>\n",
       "      <th></th>\n",
       "    </tr>\n",
       "  </thead>\n",
       "  <tbody>\n",
       "    <tr>\n",
       "      <th>1948-01-01</th>\n",
       "      <td>1948-01-01</td>\n",
       "      <td>3.4</td>\n",
       "      <td>NaN</td>\n",
       "    </tr>\n",
       "    <tr>\n",
       "      <th>1948-02-01</th>\n",
       "      <td>1948-02-01</td>\n",
       "      <td>3.8</td>\n",
       "      <td>0.4</td>\n",
       "    </tr>\n",
       "    <tr>\n",
       "      <th>1948-03-01</th>\n",
       "      <td>1948-03-01</td>\n",
       "      <td>4.0</td>\n",
       "      <td>0.2</td>\n",
       "    </tr>\n",
       "    <tr>\n",
       "      <th>1948-04-01</th>\n",
       "      <td>1948-04-01</td>\n",
       "      <td>3.9</td>\n",
       "      <td>-0.1</td>\n",
       "    </tr>\n",
       "    <tr>\n",
       "      <th>1948-05-01</th>\n",
       "      <td>1948-05-01</td>\n",
       "      <td>3.5</td>\n",
       "      <td>-0.4</td>\n",
       "    </tr>\n",
       "  </tbody>\n",
       "</table>\n",
       "</div>"
      ],
      "text/plain": [
       "                  DATE  UNRATE  diff_1\n",
       "DATE                                  \n",
       "1948-01-01  1948-01-01     3.4     NaN\n",
       "1948-02-01  1948-02-01     3.8     0.4\n",
       "1948-03-01  1948-03-01     4.0     0.2\n",
       "1948-04-01  1948-04-01     3.9    -0.1\n",
       "1948-05-01  1948-05-01     3.5    -0.4"
      ]
     },
     "execution_count": 138,
     "metadata": {},
     "output_type": "execute_result"
    }
   ],
   "source": [
    "df.head()"
   ]
  },
  {
   "cell_type": "markdown",
   "metadata": {},
   "source": [
    "**PACF on INITIAL and DIFFERENCED time series**"
   ]
  },
  {
   "cell_type": "code",
   "execution_count": 139,
   "metadata": {},
   "outputs": [
    {
     "data": {
      "image/png": "[encoded data removed]",
      "text/plain": [
       "<matplotlib.figure.Figure at 0x12b1b49b0>"
      ]
     },
     "metadata": {},
     "output_type": "display_data"
    }
   ],
   "source": [
    "pacf_plot1 = plot_pacf(df['UNRATE'])"
   ]
  },
  {
   "cell_type": "code",
   "execution_count": 140,
   "metadata": {},
   "outputs": [
    {
     "data": {
      "text/plain": [
       "<matplotlib.axes._subplots.AxesSubplot at 0x12fa1c5f8>"
      ]
     },
     "execution_count": 140,
     "metadata": {},
     "output_type": "execute_result"
    },
    {
     "data": {
      "image/png": "[encoded data removed]",
      "text/plain": [
       "<matplotlib.figure.Figure at 0x12fb12d68>"
      ]
     },
     "metadata": {},
     "output_type": "display_data"
    }
   ],
   "source": [
    "pacf_plot2 = pd.DataFrame(pacf(df.diff_1[1:]))\n",
    "pacf_plot2.plot(kind='bar')"
   ]
  },
  {
   "cell_type": "markdown",
   "metadata": {},
   "source": [
    "**ACF on INITIAL and DIFFERENCED time series**"
   ]
  },
  {
   "cell_type": "code",
   "execution_count": 141,
   "metadata": {},
   "outputs": [
    {
     "data": {
      "image/png": "[encoded data removed]",
      "text/plain": [
       "<matplotlib.figure.Figure at 0x12fb6c9e8>"
      ]
     },
     "metadata": {},
     "output_type": "display_data"
    }
   ],
   "source": [
    "acf_plot1 = plot_acf(df['UNRATE'])"
   ]
  },
  {
   "cell_type": "code",
   "execution_count": 142,
   "metadata": {},
   "outputs": [
    {
     "name": "stderr",
     "output_type": "stream",
     "text": [
      "/Library/Frameworks/Python.framework/Versions/3.5/lib/python3.5/site-packages/statsmodels/tsa/stattools.py:572: FutureWarning: fft=True will become the default in a future version of statsmodels. To suppress this warning, explicitly set fft=False.\n",
      "  FutureWarning\n"
     ]
    },
    {
     "data": {
      "text/plain": [
       "<matplotlib.axes._subplots.AxesSubplot at 0x12f05f898>"
      ]
     },
     "execution_count": 142,
     "metadata": {},
     "output_type": "execute_result"
    },
    {
     "data": {
      "image/png": "[encoded data removed]",
      "text/plain": [
       "<matplotlib.figure.Figure at 0x12fb732b0>"
      ]
     },
     "metadata": {},
     "output_type": "display_data"
    }
   ],
   "source": [
    "acf_plot2 = pd.DataFrame(acf(df.diff_1[1:]))\n",
    "acf_plot2.plot(kind='bar')"
   ]
  },
  {
   "cell_type": "markdown",
   "metadata": {},
   "source": [
    "**ARIMA Models**"
   ]
  },
  {
   "cell_type": "code",
   "execution_count": 143,
   "metadata": {
    "collapsed": true
   },
   "outputs": [],
   "source": [
    "train_end = datetime(1970,1,1)\n",
    "test_end = datetime(2020,3,25)\n",
    "\n",
    "train_data = unrate[:train_end]\n",
    "test_data = unrate[train_end + timedelta(days=1):test_end]"
   ]
  },
  {
   "cell_type": "code",
   "execution_count": 144,
   "metadata": {},
   "outputs": [
    {
     "name": "stdout",
     "output_type": "stream",
     "text": [
      "                             ARIMA Model Results                              \n",
      "==============================================================================\n",
      "Dep. Variable:               D.UNRATE   No. Observations:                  264\n",
      "Model:                 ARIMA(1, 1, 1)   Log Likelihood                 -17.658\n",
      "Method:                       css-mle   S.D. of innovations              0.259\n",
      "Date:                Thu, 28 May 2020   AIC                             43.317\n",
      "Time:                        20:04:35   BIC                             57.620\n",
      "Sample:                    02-01-1948   HQIC                            49.064\n",
      "                         - 01-01-1970                                         \n",
      "==================================================================================\n",
      "                     coef    std err          z      P>|z|      [0.025      0.975]\n",
      "----------------------------------------------------------------------------------\n",
      "const              0.0041      0.028      0.147      0.883      -0.051       0.059\n",
      "ar.L1.D.UNRATE     0.8197      0.067     12.298      0.000       0.689       0.950\n",
      "ma.L1.D.UNRATE    -0.6793      0.077     -8.847      0.000      -0.830      -0.529\n",
      "                                    Roots                                    \n",
      "=============================================================================\n",
      "                  Real          Imaginary           Modulus         Frequency\n",
      "-----------------------------------------------------------------------------\n",
      "AR.1            1.2199           +0.0000j            1.2199            0.0000\n",
      "MA.1            1.4720           +0.0000j            1.4720            0.0000\n",
      "-----------------------------------------------------------------------------\n",
      "Residuals Description\n",
      "count    264.000000\n",
      "mean      -0.000858\n",
      "std        0.259226\n",
      "min       -1.724969\n",
      "25%       -0.136204\n",
      "50%        0.001296\n",
      "75%        0.137606\n",
      "max        1.238540\n",
      "dtype: float64\n"
     ]
    },
    {
     "name": "stderr",
     "output_type": "stream",
     "text": [
      "/Library/Frameworks/Python.framework/Versions/3.5/lib/python3.5/site-packages/statsmodels/tsa/base/tsa_model.py:162: ValueWarning: No frequency information was provided, so inferred frequency MS will be used.\n",
      "  % freq, ValueWarning)\n",
      "/Library/Frameworks/Python.framework/Versions/3.5/lib/python3.5/site-packages/statsmodels/tsa/base/tsa_model.py:162: ValueWarning: No frequency information was provided, so inferred frequency MS will be used.\n",
      "  % freq, ValueWarning)\n"
     ]
    }
   ],
   "source": [
    "model_111 = ARIMA(train_data, order=(1,1,1))\n",
    "model_111_fit = model_111.fit()\n",
    "print(model_111_fit.summary())\n",
    "print('Residuals Description')\n",
    "print(model_111_fit.resid.describe())"
   ]
  },
  {
   "cell_type": "code",
   "execution_count": 145,
   "metadata": {},
   "outputs": [
    {
     "name": "stdout",
     "output_type": "stream",
     "text": [
      "                              ARMA Model Results                              \n",
      "==============================================================================\n",
      "Dep. Variable:                 UNRATE   No. Observations:                  265\n",
      "Model:                     ARMA(0, 1)   Log Likelihood                -279.957\n",
      "Method:                       css-mle   S.D. of innovations              0.694\n",
      "Date:                Thu, 28 May 2020   AIC                            565.913\n",
      "Time:                        20:04:35   BIC                            576.653\n",
      "Sample:                    01-01-1948   HQIC                           570.228\n",
      "                         - 01-01-1970                                         \n",
      "================================================================================\n",
      "                   coef    std err          z      P>|z|      [0.025      0.975]\n",
      "--------------------------------------------------------------------------------\n",
      "const            4.6614      0.080     58.185      0.000       4.504       4.818\n",
      "ma.L1.UNRATE     0.8826      0.024     36.969      0.000       0.836       0.929\n",
      "                                    Roots                                    \n",
      "=============================================================================\n",
      "                  Real          Imaginary           Modulus         Frequency\n",
      "-----------------------------------------------------------------------------\n",
      "MA.1           -1.1330           +0.0000j            1.1330            0.5000\n",
      "-----------------------------------------------------------------------------\n",
      "Residuals Description\n",
      "count    265.000000\n",
      "mean       0.000228\n",
      "std        0.697738\n",
      "min       -1.262207\n",
      "25%       -0.560759\n",
      "50%       -0.104433\n",
      "75%        0.532192\n",
      "max        2.206667\n",
      "dtype: float64\n"
     ]
    },
    {
     "name": "stderr",
     "output_type": "stream",
     "text": [
      "/Library/Frameworks/Python.framework/Versions/3.5/lib/python3.5/site-packages/statsmodels/tsa/base/tsa_model.py:162: ValueWarning: No frequency information was provided, so inferred frequency MS will be used.\n",
      "  % freq, ValueWarning)\n"
     ]
    }
   ],
   "source": [
    "model_001 = ARIMA(train_data, order=(0,0,1))\n",
    "model_001_fit = model_001.fit()\n",
    "print(model_001_fit.summary())\n",
    "print('Residuals Description')\n",
    "print(model_001_fit.resid.describe())"
   ]
  },
  {
   "cell_type": "code",
   "execution_count": 146,
   "metadata": {},
   "outputs": [
    {
     "name": "stderr",
     "output_type": "stream",
     "text": [
      "/Library/Frameworks/Python.framework/Versions/3.5/lib/python3.5/site-packages/statsmodels/tsa/base/tsa_model.py:162: ValueWarning: No frequency information was provided, so inferred frequency MS will be used.\n",
      "  % freq, ValueWarning)\n",
      "/Library/Frameworks/Python.framework/Versions/3.5/lib/python3.5/site-packages/statsmodels/tsa/base/tsa_model.py:162: ValueWarning: No frequency information was provided, so inferred frequency MS will be used.\n",
      "  % freq, ValueWarning)\n",
      "/Library/Frameworks/Python.framework/Versions/3.5/lib/python3.5/site-packages/statsmodels/base/model.py:548: HessianInversionWarning: Inverting hessian failed, no bse or cov_params available\n",
      "  'available', HessianInversionWarning)\n"
     ]
    },
    {
     "name": "stdout",
     "output_type": "stream",
     "text": [
      "                             ARIMA Model Results                              \n",
      "==============================================================================\n",
      "Dep. Variable:               D.UNRATE   No. Observations:                  264\n",
      "Model:                 ARIMA(6, 1, 6)   Log Likelihood                   6.699\n",
      "Method:                       css-mle   S.D. of innovations              0.231\n",
      "Date:                Thu, 28 May 2020   AIC                             14.602\n",
      "Time:                        20:04:42   BIC                             64.665\n",
      "Sample:                    02-01-1948   HQIC                            34.719\n",
      "                         - 01-01-1970                                         \n",
      "==================================================================================\n",
      "                     coef    std err          z      P>|z|      [0.025      0.975]\n",
      "----------------------------------------------------------------------------------\n",
      "const              0.0051      0.025      0.206      0.837      -0.043       0.054\n",
      "ar.L1.D.UNRATE     1.1470      0.060     19.154      0.000       1.030       1.264\n",
      "ar.L2.D.UNRATE    -0.4322      0.083     -5.217      0.000      -0.595      -0.270\n",
      "ar.L3.D.UNRATE     0.0120      0.060      0.200      0.841      -0.106       0.130\n",
      "ar.L4.D.UNRATE    -0.7358      0.038    -19.264      0.000      -0.811      -0.661\n",
      "ar.L5.D.UNRATE     1.1729      0.056     20.997      0.000       1.063       1.282\n",
      "ar.L6.D.UNRATE    -0.6912      0.062    -11.167      0.000      -0.813      -0.570\n",
      "ma.L1.D.UNRATE    -1.2474      0.036    -34.426      0.000      -1.318      -1.176\n",
      "ma.L2.D.UNRATE     0.7045      0.105      6.719      0.000       0.499       0.910\n",
      "ma.L3.D.UNRATE    -0.0154      0.128     -0.121      0.904      -0.266       0.235\n",
      "ma.L4.D.UNRATE     0.7489      0.110      6.790      0.000       0.533       0.965\n",
      "ma.L5.D.UNRATE    -1.2395      0.078    -15.953      0.000      -1.392      -1.087\n",
      "ma.L6.D.UNRATE     0.9710      0.032     30.148      0.000       0.908       1.034\n",
      "                                    Roots                                    \n",
      "=============================================================================\n",
      "                  Real          Imaginary           Modulus         Frequency\n",
      "-----------------------------------------------------------------------------\n",
      "AR.1           -0.7347           -0.6800j            1.0011           -0.3812\n",
      "AR.2           -0.7347           +0.6800j            1.0011            0.3812\n",
      "AR.3            0.5704           -0.9158j            1.0789           -0.1613\n",
      "AR.4            0.5704           +0.9158j            1.0789            0.1613\n",
      "AR.5            1.0127           -0.4633j            1.1136           -0.0683\n",
      "AR.6            1.0127           +0.4633j            1.1136            0.0683\n",
      "MA.1           -0.7306           -0.6828j            1.0000           -0.3804\n",
      "MA.2           -0.7306           +0.6828j            1.0000            0.3804\n",
      "MA.3            0.8661           -0.4999j            1.0000           -0.0833\n",
      "MA.4            0.8661           +0.4999j            1.0000            0.0833\n",
      "MA.5            0.5028           -0.8815j            1.0148           -0.1675\n",
      "MA.6            0.5028           +0.8815j            1.0148            0.1675\n",
      "-----------------------------------------------------------------------------\n",
      "Residuals Description\n",
      "count    264.000000\n",
      "mean      -0.001126\n",
      "std        0.238990\n",
      "min       -1.434175\n",
      "25%       -0.134032\n",
      "50%       -0.011904\n",
      "75%        0.146126\n",
      "max        1.089141\n",
      "dtype: float64\n"
     ]
    }
   ],
   "source": [
    "model_616 = ARIMA(train_data, order=(6,1,6))\n",
    "model_616_fit = model_616.fit()\n",
    "print(model_616_fit.summary())\n",
    "print('Residuals Description')\n",
    "print(model_616_fit.resid.describe())"
   ]
  },
  {
   "cell_type": "code",
   "execution_count": 147,
   "metadata": {},
   "outputs": [
    {
     "name": "stdout",
     "output_type": "stream",
     "text": [
      "                             ARIMA Model Results                              \n",
      "==============================================================================\n",
      "Dep. Variable:               D.UNRATE   No. Observations:                  264\n",
      "Model:                 ARIMA(0, 1, 0)   Log Likelihood                 -25.345\n",
      "Method:                           css   S.D. of innovations              0.266\n",
      "Date:                Thu, 28 May 2020   AIC                             54.689\n",
      "Time:                        20:04:43   BIC                             61.841\n",
      "Sample:                    02-01-1948   HQIC                            57.563\n",
      "                         - 01-01-1970                                         \n",
      "==============================================================================\n",
      "                 coef    std err          z      P>|z|      [0.025      0.975]\n",
      "------------------------------------------------------------------------------\n",
      "const          0.0019      0.016      0.116      0.908      -0.030       0.034\n",
      "==============================================================================\n",
      "Residuals Description\n",
      "count    2.640000e+02\n",
      "mean     2.009712e-09\n",
      "std      2.668579e-01\n",
      "min     -1.501894e+00\n",
      "25%     -1.018939e-01\n",
      "50%     -1.893937e-03\n",
      "75%      9.810606e-02\n",
      "max      1.298106e+00\n",
      "dtype: float64\n"
     ]
    },
    {
     "name": "stderr",
     "output_type": "stream",
     "text": [
      "/Library/Frameworks/Python.framework/Versions/3.5/lib/python3.5/site-packages/statsmodels/tsa/base/tsa_model.py:162: ValueWarning: No frequency information was provided, so inferred frequency MS will be used.\n",
      "  % freq, ValueWarning)\n",
      "/Library/Frameworks/Python.framework/Versions/3.5/lib/python3.5/site-packages/statsmodels/tsa/base/tsa_model.py:162: ValueWarning: No frequency information was provided, so inferred frequency MS will be used.\n",
      "  % freq, ValueWarning)\n"
     ]
    }
   ],
   "source": [
    "model_010 = ARIMA(train_data, order=(0,1,0))\n",
    "model_010_fit = model_010.fit()\n",
    "print(model_010_fit.summary())\n",
    "print('Residuals Description')\n",
    "print(model_010_fit.resid.describe())"
   ]
  },
  {
   "cell_type": "code",
   "execution_count": 148,
   "metadata": {},
   "outputs": [
    {
     "name": "stderr",
     "output_type": "stream",
     "text": [
      "/Library/Frameworks/Python.framework/Versions/3.5/lib/python3.5/site-packages/statsmodels/tsa/base/tsa_model.py:162: ValueWarning: No frequency information was provided, so inferred frequency MS will be used.\n",
      "  % freq, ValueWarning)\n",
      "/Library/Frameworks/Python.framework/Versions/3.5/lib/python3.5/site-packages/statsmodels/tsa/base/tsa_model.py:162: ValueWarning: No frequency information was provided, so inferred frequency MS will be used.\n",
      "  % freq, ValueWarning)\n"
     ]
    },
    {
     "name": "stdout",
     "output_type": "stream",
     "text": [
      "                             ARIMA Model Results                              \n",
      "==============================================================================\n",
      "Dep. Variable:               D.UNRATE   No. Observations:                  264\n",
      "Model:                 ARIMA(2, 1, 2)   Log Likelihood                  -1.992\n",
      "Method:                       css-mle   S.D. of innovations              0.242\n",
      "Date:                Thu, 28 May 2020   AIC                             15.984\n",
      "Time:                        20:04:43   BIC                             37.439\n",
      "Sample:                    02-01-1948   HQIC                            24.605\n",
      "                         - 01-01-1970                                         \n",
      "==================================================================================\n",
      "                     coef    std err          z      P>|z|      [0.025      0.975]\n",
      "----------------------------------------------------------------------------------\n",
      "const              0.0035      0.023      0.149      0.882      -0.042       0.049\n",
      "ar.L1.D.UNRATE     1.6657      0.038     43.673      0.000       1.591       1.740\n",
      "ar.L2.D.UNRATE    -0.8342      0.039    -21.565      0.000      -0.910      -0.758\n",
      "ma.L1.D.UNRATE    -1.7263      0.033    -52.427      0.000      -1.791      -1.662\n",
      "ma.L2.D.UNRATE     0.9912      0.035     28.561      0.000       0.923       1.059\n",
      "                                    Roots                                    \n",
      "=============================================================================\n",
      "                  Real          Imaginary           Modulus         Frequency\n",
      "-----------------------------------------------------------------------------\n",
      "AR.1            0.9984           -0.4494j            1.0949           -0.0673\n",
      "AR.2            0.9984           +0.4494j            1.0949            0.0673\n",
      "MA.1            0.8708           -0.5005j            1.0044           -0.0830\n",
      "MA.2            0.8708           +0.5005j            1.0044            0.0830\n",
      "-----------------------------------------------------------------------------\n",
      "Residuals Description\n",
      "count    264.000000\n",
      "mean      -0.000561\n",
      "std        0.245777\n",
      "min       -1.500128\n",
      "25%       -0.146186\n",
      "50%       -0.009817\n",
      "75%        0.156204\n",
      "max        1.180974\n",
      "dtype: float64\n"
     ]
    }
   ],
   "source": [
    "model_212 = ARIMA(train_data, order=(2,1,2))\n",
    "model_212_fit = model_212.fit()\n",
    "print(model_212_fit.summary())\n",
    "print('Residuals Description')\n",
    "print(model_212_fit.resid.describe())"
   ]
  },
  {
   "cell_type": "markdown",
   "metadata": {},
   "source": [
    "**Comparing Model AIC**"
   ]
  },
  {
   "cell_type": "code",
   "execution_count": 151,
   "metadata": {},
   "outputs": [
    {
     "data": {
      "text/html": [
       "<div>\n",
       "<style scoped>\n",
       "    .dataframe tbody tr th:only-of-type {\n",
       "        vertical-align: middle;\n",
       "    }\n",
       "\n",
       "    .dataframe tbody tr th {\n",
       "        vertical-align: top;\n",
       "    }\n",
       "\n",
       "    .dataframe thead th {\n",
       "        text-align: right;\n",
       "    }\n",
       "</style>\n",
       "<table border=\"1\" class=\"dataframe\">\n",
       "  <thead>\n",
       "    <tr style=\"text-align: right;\">\n",
       "      <th></th>\n",
       "      <th>Model</th>\n",
       "      <th>AIC</th>\n",
       "      <th>Loss</th>\n",
       "    </tr>\n",
       "  </thead>\n",
       "  <tbody>\n",
       "    <tr>\n",
       "      <th>ARIMA(1,1,1)</th>\n",
       "      <td>ARIMA(1,1,1)</td>\n",
       "      <td>43.317</td>\n",
       "      <td>5.815901e-07</td>\n",
       "    </tr>\n",
       "    <tr>\n",
       "      <th>ARIMA(0,0,1)</th>\n",
       "      <td>ARIMA(0,0,1)</td>\n",
       "      <td>565.913</td>\n",
       "      <td>1.924587e-120</td>\n",
       "    </tr>\n",
       "    <tr>\n",
       "      <th>ARIMA(6,1,6)</th>\n",
       "      <td>ARIMA(6,1,6)</td>\n",
       "      <td>14.602</td>\n",
       "      <td>1.000000e+00</td>\n",
       "    </tr>\n",
       "    <tr>\n",
       "      <th>ARIMA(0,1,0)</th>\n",
       "      <td>ARIMA(0,1,0)</td>\n",
       "      <td>54.689</td>\n",
       "      <td>1.973416e-09</td>\n",
       "    </tr>\n",
       "    <tr>\n",
       "      <th>ARIMA(2,1,2)</th>\n",
       "      <td>ARIMA(2,1,2)</td>\n",
       "      <td>15.984</td>\n",
       "      <td>5.010747e-01</td>\n",
       "    </tr>\n",
       "  </tbody>\n",
       "</table>\n",
       "</div>"
      ],
      "text/plain": [
       "                     Model      AIC           Loss\n",
       "ARIMA(1,1,1)  ARIMA(1,1,1)   43.317   5.815901e-07\n",
       "ARIMA(0,0,1)  ARIMA(0,0,1)  565.913  1.924587e-120\n",
       "ARIMA(6,1,6)  ARIMA(6,1,6)   14.602   1.000000e+00\n",
       "ARIMA(0,1,0)  ARIMA(0,1,0)   54.689   1.973416e-09\n",
       "ARIMA(2,1,2)  ARIMA(2,1,2)   15.984   5.010747e-01"
      ]
     },
     "execution_count": 151,
     "metadata": {},
     "output_type": "execute_result"
    }
   ],
   "source": [
    "models = ['ARIMA(1,1,1)',\n",
    "          'ARIMA(0,0,1)',\n",
    "          'ARIMA(6,1,6)',\n",
    "          'ARIMA(0,1,0)',\n",
    "          'ARIMA(2,1,2)',]\n",
    "AIC_comparison = pd.DataFrame(models,index=models)\n",
    "AIC_comparison['AIC'] = [43.317,\n",
    "                         565.913,\n",
    "                         14.602,\n",
    "                         54.689,\n",
    "                         15.984]\n",
    "AIC_comparison.columns = ['Model','AIC']\n",
    "AIC_comparison['Loss'] = np.exp((14.602-AIC_comparison['AIC'])/2)\n",
    "AIC_comparison"
   ]
  },
  {
   "cell_type": "code",
   "execution_count": 150,
   "metadata": {},
   "outputs": [
    {
     "data": {
      "text/plain": [
       "<matplotlib.text.Text at 0x12dcfbcf8>"
      ]
     },
     "execution_count": 150,
     "metadata": {},
     "output_type": "execute_result"
    },
    {
     "data": {
      "image/png": "[encoded data removed]",
      "text/plain": [
       "<matplotlib.figure.Figure at 0x12dc20438>"
      ]
     },
     "metadata": {},
     "output_type": "display_data"
    }
   ],
   "source": [
    "#get prediction start and end dates\n",
    "pred_start_date = test_data.index[0]\n",
    "pred_end_date = test_data.index[-1]\n",
    "\n",
    "pred111 = model_111_fit.predict(start=pred_start_date, end=pred_end_date)\n",
    "pred001 = model_001_fit.predict(start=pred_start_date, end=pred_end_date)\n",
    "pred616 = model_616_fit.predict(start=pred_start_date, end=pred_end_date)\n",
    "pred010 = model_010_fit.predict(start=pred_start_date, end=pred_end_date)\n",
    "pred212 = model_212_fit.predict(start=pred_start_date, end=pred_end_date)\n",
    "\n",
    "\n",
    "plt.figure(figsize=(10,10))\n",
    "\n",
    "plt.plot(test_data)\n",
    "plt.plot(pred111)\n",
    "plt.plot(pred001)\n",
    "plt.plot(pred616)\n",
    "plt.plot(pred010)\n",
    "plt.plot(pred212)\n",
    "\n",
    "plt.legend(('Data', 'ARIMA(1,1,1)','ARIMA(0,0,1)',\n",
    "            'ARIMA(6,1,6)','ARIMA(0,1,0)','ARIMA(2,1,2)'),\n",
    "           fontsize=16)\n",
    "\n",
    "plt.title('Unemployment Since 1970', fontsize=20)\n",
    "plt.ylabel('Unemployment Rate', fontsize=16)"
   ]
  },
  {
   "cell_type": "markdown",
   "metadata": {},
   "source": [
    "**ARIMA Models Using First Difference**"
   ]
  },
  {
   "cell_type": "code",
   "execution_count": 124,
   "metadata": {},
   "outputs": [],
   "source": [
    "#train_end = datetime(1970,1,1)\n",
    "test_end = datetime(2020,4,1)\n",
    "\n",
    "train_start = datetime(1948,1,1)\n",
    "train_data_diff = diff_1[train_start+ timedelta(days=1):train_end]\n",
    "test_data_diff = diff_1[train_end + timedelta(days=1):test_end]"
   ]
  },
  {
   "cell_type": "code",
   "execution_count": 116,
   "metadata": {},
   "outputs": [
    {
     "data": {
      "text/html": [
       "<div>\n",
       "<style scoped>\n",
       "    .dataframe tbody tr th:only-of-type {\n",
       "        vertical-align: middle;\n",
       "    }\n",
       "\n",
       "    .dataframe tbody tr th {\n",
       "        vertical-align: top;\n",
       "    }\n",
       "\n",
       "    .dataframe thead th {\n",
       "        text-align: right;\n",
       "    }\n",
       "</style>\n",
       "<table border=\"1\" class=\"dataframe\">\n",
       "  <thead>\n",
       "    <tr style=\"text-align: right;\">\n",
       "      <th></th>\n",
       "      <th>DATE</th>\n",
       "      <th>UNRATE</th>\n",
       "      <th>diff_1</th>\n",
       "    </tr>\n",
       "    <tr>\n",
       "      <th>DATE</th>\n",
       "      <th></th>\n",
       "      <th></th>\n",
       "      <th></th>\n",
       "    </tr>\n",
       "  </thead>\n",
       "  <tbody>\n",
       "    <tr>\n",
       "      <th>1948-02-01</th>\n",
       "      <td>1948-02-01</td>\n",
       "      <td>3.8</td>\n",
       "      <td>0.4</td>\n",
       "    </tr>\n",
       "    <tr>\n",
       "      <th>1948-03-01</th>\n",
       "      <td>1948-03-01</td>\n",
       "      <td>4.0</td>\n",
       "      <td>0.2</td>\n",
       "    </tr>\n",
       "    <tr>\n",
       "      <th>1948-04-01</th>\n",
       "      <td>1948-04-01</td>\n",
       "      <td>3.9</td>\n",
       "      <td>-0.1</td>\n",
       "    </tr>\n",
       "    <tr>\n",
       "      <th>1948-05-01</th>\n",
       "      <td>1948-05-01</td>\n",
       "      <td>3.5</td>\n",
       "      <td>-0.4</td>\n",
       "    </tr>\n",
       "    <tr>\n",
       "      <th>1948-06-01</th>\n",
       "      <td>1948-06-01</td>\n",
       "      <td>3.6</td>\n",
       "      <td>0.1</td>\n",
       "    </tr>\n",
       "  </tbody>\n",
       "</table>\n",
       "</div>"
      ],
      "text/plain": [
       "                  DATE  UNRATE  diff_1\n",
       "DATE                                  \n",
       "1948-02-01  1948-02-01     3.8     0.4\n",
       "1948-03-01  1948-03-01     4.0     0.2\n",
       "1948-04-01  1948-04-01     3.9    -0.1\n",
       "1948-05-01  1948-05-01     3.5    -0.4\n",
       "1948-06-01  1948-06-01     3.6     0.1"
      ]
     },
     "execution_count": 116,
     "metadata": {},
     "output_type": "execute_result"
    }
   ],
   "source": [
    "# Remove NA's\n",
    "df.dropna(inplace=True)\n",
    "df.head()"
   ]
  },
  {
   "cell_type": "code",
   "execution_count": 118,
   "metadata": {},
   "outputs": [
    {
     "name": "stdout",
     "output_type": "stream",
     "text": [
      "                             ARIMA Model Results                              \n",
      "==============================================================================\n",
      "Dep. Variable:               D.diff_1   No. Observations:                  263\n",
      "Model:                 ARIMA(1, 1, 1)   Log Likelihood                 -20.964\n",
      "Method:                       css-mle   S.D. of innovations              0.262\n",
      "Date:                Thu, 28 May 2020   AIC                             49.928\n",
      "Time:                        19:35:01   BIC                             64.217\n",
      "Sample:                    03-01-1948   HQIC                            55.670\n",
      "                         - 01-01-1970                                         \n",
      "==================================================================================\n",
      "                     coef    std err          z      P>|z|      [0.025      0.975]\n",
      "----------------------------------------------------------------------------------\n",
      "const             -0.0001      0.005     -0.024      0.981      -0.009       0.009\n",
      "ar.L1.D.diff_1    -0.3015      0.079     -3.817      0.000      -0.456      -0.147\n",
      "ma.L1.D.diff_1    -0.6312      0.069     -9.158      0.000      -0.766      -0.496\n",
      "                                    Roots                                    \n",
      "=============================================================================\n",
      "                  Real          Imaginary           Modulus         Frequency\n",
      "-----------------------------------------------------------------------------\n",
      "AR.1           -3.3170           +0.0000j            3.3170            0.5000\n",
      "MA.1            1.5843           +0.0000j            1.5843            0.0000\n",
      "-----------------------------------------------------------------------------\n",
      "Residuals Description\n",
      "count    263.000000\n",
      "mean      -0.002398\n",
      "std        0.262589\n",
      "min       -1.687202\n",
      "25%       -0.151182\n",
      "50%        0.005834\n",
      "75%        0.152193\n",
      "max        1.046366\n",
      "dtype: float64\n"
     ]
    },
    {
     "name": "stderr",
     "output_type": "stream",
     "text": [
      "/Library/Frameworks/Python.framework/Versions/3.5/lib/python3.5/site-packages/statsmodels/tsa/base/tsa_model.py:162: ValueWarning: No frequency information was provided, so inferred frequency MS will be used.\n",
      "  % freq, ValueWarning)\n",
      "/Library/Frameworks/Python.framework/Versions/3.5/lib/python3.5/site-packages/statsmodels/tsa/base/tsa_model.py:162: ValueWarning: No frequency information was provided, so inferred frequency MS will be used.\n",
      "  % freq, ValueWarning)\n"
     ]
    }
   ],
   "source": [
    "model_111_diff = ARIMA(train_data_diff, order=(1,1,1))\n",
    "model_111_diff_fit = model_111_diff.fit()\n",
    "print(model_111_diff_fit.summary())\n",
    "print('Residuals Description')\n",
    "print(model_111_diff_fit.resid.describe())"
   ]
  },
  {
   "cell_type": "code",
   "execution_count": 132,
   "metadata": {},
   "outputs": [
    {
     "name": "stdout",
     "output_type": "stream",
     "text": [
      "                              ARMA Model Results                              \n",
      "==============================================================================\n",
      "Dep. Variable:                 diff_1   No. Observations:                  264\n",
      "Model:                     ARMA(0, 1)   Log Likelihood                 -25.077\n",
      "Method:                       css-mle   S.D. of innovations              0.266\n",
      "Date:                Thu, 28 May 2020   AIC                             56.153\n",
      "Time:                        19:47:03   BIC                             66.881\n",
      "Sample:                    02-01-1948   HQIC                            60.464\n",
      "                         - 01-01-1970                                         \n",
      "================================================================================\n",
      "                   coef    std err          z      P>|z|      [0.025      0.975]\n",
      "--------------------------------------------------------------------------------\n",
      "const            0.0020      0.017      0.118      0.906      -0.031       0.035\n",
      "ma.L1.diff_1     0.0363      0.050      0.730      0.465      -0.061       0.134\n",
      "                                    Roots                                    \n",
      "=============================================================================\n",
      "                  Real          Imaginary           Modulus         Frequency\n",
      "-----------------------------------------------------------------------------\n",
      "MA.1          -27.5672           +0.0000j           27.5672            0.5000\n",
      "-----------------------------------------------------------------------------\n",
      "Residuals Description\n",
      "count    264.000000\n",
      "mean      -0.000052\n",
      "std        0.266588\n",
      "min       -1.549357\n",
      "25%       -0.109992\n",
      "50%       -0.001993\n",
      "75%        0.112470\n",
      "max        1.305431\n",
      "dtype: float64\n"
     ]
    },
    {
     "name": "stderr",
     "output_type": "stream",
     "text": [
      "/Library/Frameworks/Python.framework/Versions/3.5/lib/python3.5/site-packages/statsmodels/tsa/base/tsa_model.py:162: ValueWarning: No frequency information was provided, so inferred frequency MS will be used.\n",
      "  % freq, ValueWarning)\n"
     ]
    }
   ],
   "source": [
    "model_001_diff = ARIMA(train_data_diff, order=(0,0,1))\n",
    "model_001_diff_fit = model_001_diff.fit()\n",
    "print(model_001_diff_fit.summary())\n",
    "print('Residuals Description')\n",
    "print(model_001_diff_fit.resid.describe())"
   ]
  },
  {
   "cell_type": "code",
   "execution_count": 121,
   "metadata": {},
   "outputs": [
    {
     "name": "stderr",
     "output_type": "stream",
     "text": [
      "/Library/Frameworks/Python.framework/Versions/3.5/lib/python3.5/site-packages/statsmodels/tsa/base/tsa_model.py:162: ValueWarning: No frequency information was provided, so inferred frequency MS will be used.\n",
      "  % freq, ValueWarning)\n",
      "/Library/Frameworks/Python.framework/Versions/3.5/lib/python3.5/site-packages/statsmodels/base/model.py:548: HessianInversionWarning: Inverting hessian failed, no bse or cov_params available\n",
      "  'available', HessianInversionWarning)\n"
     ]
    },
    {
     "name": "stdout",
     "output_type": "stream",
     "text": [
      "                              ARMA Model Results                              \n",
      "==============================================================================\n",
      "Dep. Variable:                 diff_1   No. Observations:                  264\n",
      "Model:                     ARMA(6, 6)   Log Likelihood                   6.699\n",
      "Method:                       css-mle   S.D. of innovations              0.231\n",
      "Date:                Thu, 28 May 2020   AIC                             14.602\n",
      "Time:                        19:36:37   BIC                             64.665\n",
      "Sample:                    02-01-1948   HQIC                            34.719\n",
      "                         - 01-01-1970                                         \n",
      "================================================================================\n",
      "                   coef    std err          z      P>|z|      [0.025      0.975]\n",
      "--------------------------------------------------------------------------------\n",
      "const            0.0051      0.025      0.206      0.837      -0.043       0.054\n",
      "ar.L1.diff_1     1.1470      0.060     19.154      0.000       1.030       1.264\n",
      "ar.L2.diff_1    -0.4322      0.083     -5.217      0.000      -0.595      -0.270\n",
      "ar.L3.diff_1     0.0120      0.060      0.200      0.841      -0.106       0.130\n",
      "ar.L4.diff_1    -0.7358      0.038    -19.264      0.000      -0.811      -0.661\n",
      "ar.L5.diff_1     1.1729      0.056     20.997      0.000       1.063       1.282\n",
      "ar.L6.diff_1    -0.6912      0.062    -11.167      0.000      -0.813      -0.570\n",
      "ma.L1.diff_1    -1.2474      0.036    -34.426      0.000      -1.318      -1.176\n",
      "ma.L2.diff_1     0.7045      0.105      6.719      0.000       0.499       0.910\n",
      "ma.L3.diff_1    -0.0154      0.128     -0.121      0.904      -0.266       0.235\n",
      "ma.L4.diff_1     0.7489      0.110      6.790      0.000       0.533       0.965\n",
      "ma.L5.diff_1    -1.2395      0.078    -15.953      0.000      -1.392      -1.087\n",
      "ma.L6.diff_1     0.9710      0.032     30.148      0.000       0.908       1.034\n",
      "                                    Roots                                    \n",
      "=============================================================================\n",
      "                  Real          Imaginary           Modulus         Frequency\n",
      "-----------------------------------------------------------------------------\n",
      "AR.1           -0.7347           -0.6800j            1.0011           -0.3812\n",
      "AR.2           -0.7347           +0.6800j            1.0011            0.3812\n",
      "AR.3            0.5704           -0.9158j            1.0789           -0.1613\n",
      "AR.4            0.5704           +0.9158j            1.0789            0.1613\n",
      "AR.5            1.0127           -0.4633j            1.1136           -0.0683\n",
      "AR.6            1.0127           +0.4633j            1.1136            0.0683\n",
      "MA.1           -0.7306           -0.6828j            1.0000           -0.3804\n",
      "MA.2           -0.7306           +0.6828j            1.0000            0.3804\n",
      "MA.3            0.8661           -0.4999j            1.0000           -0.0833\n",
      "MA.4            0.8661           +0.4999j            1.0000            0.0833\n",
      "MA.5            0.5028           -0.8815j            1.0148           -0.1675\n",
      "MA.6            0.5028           +0.8815j            1.0148            0.1675\n",
      "-----------------------------------------------------------------------------\n",
      "Residuals Description\n",
      "count    264.000000\n",
      "mean      -0.001126\n",
      "std        0.238990\n",
      "min       -1.434175\n",
      "25%       -0.134032\n",
      "50%       -0.011904\n",
      "75%        0.146126\n",
      "max        1.089141\n",
      "dtype: float64\n"
     ]
    }
   ],
   "source": [
    "model_616_diff = ARIMA(train_data_diff, order=(6,0,6))\n",
    "model_616_diff_fit = model_616_diff.fit()\n",
    "print(model_616_diff_fit.summary())\n",
    "print('Residuals Description')\n",
    "print(model_616_diff_fit.resid.describe())"
   ]
  },
  {
   "cell_type": "code",
   "execution_count": 122,
   "metadata": {},
   "outputs": [
    {
     "name": "stdout",
     "output_type": "stream",
     "text": [
      "                             ARIMA Model Results                              \n",
      "==============================================================================\n",
      "Dep. Variable:               D.diff_1   No. Observations:                  263\n",
      "Model:                 ARIMA(0, 1, 0)   Log Likelihood                -108.121\n",
      "Method:                           css   S.D. of innovations              0.365\n",
      "Date:                Thu, 28 May 2020   AIC                            220.242\n",
      "Time:                        19:37:48   BIC                            227.386\n",
      "Sample:                    03-01-1948   HQIC                           223.113\n",
      "                         - 01-01-1970                                         \n",
      "==============================================================================\n",
      "                 coef    std err          z      P>|z|      [0.025      0.975]\n",
      "------------------------------------------------------------------------------\n",
      "const      -3.223e-14      0.023  -1.43e-12      1.000      -0.044       0.044\n",
      "==============================================================================\n",
      "Residuals Description\n",
      "count    2.630000e+02\n",
      "mean     3.223868e-14\n",
      "std      3.657054e-01\n",
      "min     -2.800000e+00\n",
      "25%     -2.000000e-01\n",
      "50%      3.223419e-14\n",
      "75%      2.000000e-01\n",
      "max      1.700000e+00\n",
      "dtype: float64\n"
     ]
    },
    {
     "name": "stderr",
     "output_type": "stream",
     "text": [
      "/Library/Frameworks/Python.framework/Versions/3.5/lib/python3.5/site-packages/statsmodels/tsa/base/tsa_model.py:162: ValueWarning: No frequency information was provided, so inferred frequency MS will be used.\n",
      "  % freq, ValueWarning)\n",
      "/Library/Frameworks/Python.framework/Versions/3.5/lib/python3.5/site-packages/statsmodels/tsa/base/tsa_model.py:162: ValueWarning: No frequency information was provided, so inferred frequency MS will be used.\n",
      "  % freq, ValueWarning)\n"
     ]
    }
   ],
   "source": [
    "model_010_diff = ARIMA(train_data_diff, order=(0,1,0))\n",
    "model_010_diff_fit = model_010_diff.fit()\n",
    "print(model_010_diff_fit.summary())\n",
    "print('Residuals Description')\n",
    "print(model_010_diff_fit.resid.describe())"
   ]
  },
  {
   "cell_type": "code",
   "execution_count": 123,
   "metadata": {},
   "outputs": [
    {
     "name": "stderr",
     "output_type": "stream",
     "text": [
      "/Library/Frameworks/Python.framework/Versions/3.5/lib/python3.5/site-packages/statsmodels/tsa/base/tsa_model.py:162: ValueWarning: No frequency information was provided, so inferred frequency MS will be used.\n",
      "  % freq, ValueWarning)\n",
      "/Library/Frameworks/Python.framework/Versions/3.5/lib/python3.5/site-packages/statsmodels/tsa/base/tsa_model.py:162: ValueWarning: No frequency information was provided, so inferred frequency MS will be used.\n",
      "  % freq, ValueWarning)\n",
      "/Library/Frameworks/Python.framework/Versions/3.5/lib/python3.5/site-packages/statsmodels/tsa/tsatools.py:689: RuntimeWarning: overflow encountered in exp\n",
      "  newparams = ((1-np.exp(-params))/(1+np.exp(-params))).copy()\n",
      "/Library/Frameworks/Python.framework/Versions/3.5/lib/python3.5/site-packages/statsmodels/tsa/tsatools.py:689: RuntimeWarning: invalid value encountered in true_divide\n",
      "  newparams = ((1-np.exp(-params))/(1+np.exp(-params))).copy()\n",
      "/Library/Frameworks/Python.framework/Versions/3.5/lib/python3.5/site-packages/statsmodels/tsa/tsatools.py:690: RuntimeWarning: overflow encountered in exp\n",
      "  tmp = ((1-np.exp(-params))/(1+np.exp(-params))).copy()\n",
      "/Library/Frameworks/Python.framework/Versions/3.5/lib/python3.5/site-packages/statsmodels/tsa/tsatools.py:690: RuntimeWarning: invalid value encountered in true_divide\n",
      "  tmp = ((1-np.exp(-params))/(1+np.exp(-params))).copy()\n"
     ]
    },
    {
     "name": "stdout",
     "output_type": "stream",
     "text": [
      "                             ARIMA Model Results                              \n",
      "==============================================================================\n",
      "Dep. Variable:               D.diff_1   No. Observations:                  263\n",
      "Model:                 ARIMA(2, 1, 2)   Log Likelihood                 -12.175\n",
      "Method:                       css-mle   S.D. of innovations              0.251\n",
      "Date:                Thu, 28 May 2020   AIC                             36.350\n",
      "Time:                        19:38:30   BIC                             57.783\n",
      "Sample:                    03-01-1948   HQIC                            44.963\n",
      "                         - 01-01-1970                                         \n",
      "==================================================================================\n",
      "                     coef    std err          z      P>|z|      [0.025      0.975]\n",
      "----------------------------------------------------------------------------------\n",
      "const             -0.0002      0.000     -0.453      0.650      -0.001       0.001\n",
      "ar.L1.D.diff_1     0.4431      0.120      3.692      0.000       0.208       0.678\n",
      "ar.L2.D.diff_1     0.2815      0.064      4.388      0.000       0.156       0.407\n",
      "ma.L1.D.diff_1    -1.4494      0.117    -12.439      0.000      -1.678      -1.221\n",
      "ma.L2.D.diff_1     0.4495      0.116      3.871      0.000       0.222       0.677\n",
      "                                    Roots                                    \n",
      "=============================================================================\n",
      "                  Real          Imaginary           Modulus         Frequency\n",
      "-----------------------------------------------------------------------------\n",
      "AR.1            1.2555           +0.0000j            1.2555            0.0000\n",
      "AR.2           -2.8294           +0.0000j            2.8294            0.5000\n",
      "MA.1            1.0002           +0.0000j            1.0002            0.0000\n",
      "MA.2            2.2242           +0.0000j            2.2242            0.0000\n",
      "-----------------------------------------------------------------------------\n",
      "Residuals Description\n",
      "count    263.000000\n",
      "mean      -0.007550\n",
      "std        0.254854\n",
      "min       -1.607609\n",
      "25%       -0.142758\n",
      "50%        0.002554\n",
      "75%        0.135249\n",
      "max        1.100545\n",
      "dtype: float64\n"
     ]
    }
   ],
   "source": [
    "model_212_diff = ARIMA(train_data_diff, order=(2,1,2))\n",
    "model_212_diff_fit = model_212_diff.fit()\n",
    "print(model_212_diff_fit.summary())\n",
    "print('Residuals Description')\n",
    "print(model_212_diff_fit.resid.describe())"
   ]
  },
  {
   "cell_type": "code",
   "execution_count": 133,
   "metadata": {},
   "outputs": [
    {
     "data": {
      "text/plain": [
       "<matplotlib.text.Text at 0x12da9f2b0>"
      ]
     },
     "execution_count": 133,
     "metadata": {},
     "output_type": "execute_result"
    },
    {
     "data": {
      "image/png": "[encoded data removed]",
      "text/plain": [
       "<matplotlib.figure.Figure at 0x12e77a5c0>"
      ]
     },
     "metadata": {},
     "output_type": "display_data"
    }
   ],
   "source": [
    "#get prediction start and end dates\n",
    "pred_start_date_diff = test_data_diff.index[0]\n",
    "pred_end_date_diff = test_data_diff.index[-1]\n",
    "\n",
    "pred111_diff = model_111_diff_fit.predict(start=pred_start_date_diff, end=pred_end_date_diff)\n",
    "pred001_diff = model_001_diff_fit.predict(start=pred_start_date_diff, end=pred_end_date_diff)\n",
    "pred616_diff = model_616_diff_fit.predict(start=pred_start_date_diff, end=pred_end_date_diff)\n",
    "pred010_diff = model_010_diff_fit.predict(start=pred_start_date_diff, end=pred_end_date_diff)\n",
    "pred212_diff = model_212_diff_fit.predict(start=pred_start_date_diff, end=pred_end_date_diff)\n",
    "\n",
    "\n",
    "plt.figure(figsize=(10,10))\n",
    "\n",
    "plt.plot(test_data_diff)\n",
    "plt.plot(pred111_diff)\n",
    "plt.plot(pred001_diff)\n",
    "plt.plot(pred616_diff)\n",
    "plt.plot(pred010_diff)\n",
    "plt.plot(pred212_diff)\n",
    "\n",
    "plt.legend(('Data', 'ARIMA(1,1,1)','ARIMA(1,0,1)',\n",
    "            'ARIMA(6,1,6)','ARIMA(0,1,0)','ARIMA(2,1,2)'),\n",
    "           fontsize=16)\n",
    "\n",
    "plt.title('Unemployment Differences Since 1970', fontsize=20)\n",
    "plt.ylabel('Unemployment Rate', fontsize=16)"
   ]
  },
  {
   "cell_type": "code",
   "execution_count": null,
   "metadata": {
    "collapsed": true
   },
   "outputs": [],
   "source": []
  }
 ],
 "metadata": {
  "kernelspec": {
   "display_name": "Python 3",
   "language": "python",
   "name": "python3"
  },
  "language_info": {
   "codemirror_mode": {
    "name": "ipython",
    "version": 3
   },
   "file_extension": ".py",
   "mimetype": "text/x-python",
   "name": "python",
   "nbconvert_exporter": "python",
   "pygments_lexer": "ipython3",
   "version": "3.5.2"
  }
 },
 "nbformat": 4,
 "nbformat_minor": 2
}
