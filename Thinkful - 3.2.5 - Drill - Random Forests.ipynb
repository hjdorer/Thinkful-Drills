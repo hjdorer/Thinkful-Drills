{
 "cells": [
  {
   "cell_type": "markdown",
   "metadata": {},
   "source": [
    "**Thinkful - 3.2.5 - Drill - Random Forests**"
   ]
  },
  {
   "cell_type": "code",
   "execution_count": 5,
   "metadata": {},
   "outputs": [
    {
     "name": "stderr",
     "output_type": "stream",
     "text": [
      "/Library/Frameworks/Python.framework/Versions/3.5/lib/python3.5/site-packages/IPython/core/interactiveshell.py:2698: DtypeWarning: Columns (0,19,55) have mixed types. Specify dtype option on import or set low_memory=False.\n",
      "  interactivity=interactivity, compiler=compiler, result=result)\n"
     ]
    }
   ],
   "source": [
    "import pandas as pd\n",
    "import numpy as np\n",
    "import matplotlib.pyplot as plt\n",
    "from sklearn import ensemble\n",
    "from sklearn.feature_selection import SelectKBest\n",
    "from sklearn.model_selection import cross_val_score\n",
    "%matplotlib inline\n",
    "\n",
    "# Replace the path with the correct path for your data.\n",
    "y2015 = pd.read_csv('data/LoanStats3d.csv',skipinitialspace=True,header=1)\n",
    "# Remove two summary rows at the end that don't actually contain data.\n",
    "y2015 = y2015[:-2]\n",
    "\n",
    "# Drop other columns with many unique variables\n",
    "y2015['id'] = pd.to_numeric(y2015['id'], errors='coerce')\n",
    "y2015['int_rate'] = pd.to_numeric(y2015['int_rate'].str.strip('%'), errors='coerce')\n",
    "y2015.drop(['url', 'emp_title', 'zip_code', 'earliest_cr_line', 'revol_util',\n",
    "            'sub_grade', 'addr_state', 'desc', 'verification_status_joint',\n",
    "           'policy_code'], 1,inplace=True)\n",
    "\n",
    "# Create dataset for use in models\n",
    "X = y2015.drop(['loan_status'], 1)\n",
    "y = y2015['loan_status']\n",
    "X = pd.get_dummies(X)\n",
    "X = X.dropna(axis=1)"
   ]
  },
  {
   "cell_type": "code",
   "execution_count": 6,
   "metadata": {
    "collapsed": true
   },
   "outputs": [],
   "source": [
    "X = X.drop('pymnt_plan_n',1)"
   ]
  },
  {
   "cell_type": "code",
   "execution_count": 7,
   "metadata": {},
   "outputs": [
    {
     "name": "stdout",
     "output_type": "stream",
     "text": [
      "[ 0.97530336  0.98026644  0.98152502  0.98164375  0.968891    0.97900736\n",
      "  0.92771142  0.9808117   0.98005082  0.98047784]\n",
      "Weighted Accuracy: 0.97 (+/- 0.03)\n"
     ]
    }
   ],
   "source": [
    "rfc = ensemble.RandomForestClassifier()\n",
    "score = cross_val_score(rfc, X, y, cv=10)\n",
    "print(score)\n",
    "print(\"Weighted Accuracy: %0.2f (+/- %0.2f)\" % (score.mean(), score.std() * 2))"
   ]
  },
  {
   "cell_type": "code",
   "execution_count": 8,
   "metadata": {},
   "outputs": [
    {
     "name": "stdout",
     "output_type": "stream",
     "text": [
      "[ 0.97530336  0.98026644  0.98152502  0.98164375  0.968891    0.97900736\n",
      "  0.92771142  0.9808117   0.98005082  0.98047784]\n",
      "Weighted Accuracy: 0.97 (+/- 0.03)\n"
     ]
    }
   ],
   "source": [
    "rfc_kbest = SelectKBest(k=80).fit(X,y)\n",
    "X_new = rfc_kbest.transform(X)\n",
    "cross_val_score(rfc, X_new, y, cv=10)\n",
    "print(score)\n",
    "print(\"Weighted Accuracy: %0.2f (+/- %0.2f)\" % (score.mean(), score.std() * 2))"
   ]
  },
  {
   "cell_type": "code",
   "execution_count": 9,
   "metadata": {},
   "outputs": [
    {
     "name": "stdout",
     "output_type": "stream",
     "text": [
      "Index(['out_prncp', 'out_prncp_inv', 'total_pymnt', 'total_pymnt_inv',\n",
      "       'total_rec_prncp', 'recoveries', 'collection_recovery_fee',\n",
      "       'last_pymnt_amnt', 'last_pymnt_d_Aug-2016', 'last_pymnt_d_Dec-2016',\n",
      "       'last_pymnt_d_Jan-2017', 'last_pymnt_d_Jul-2016',\n",
      "       'last_pymnt_d_Jun-2016', 'last_pymnt_d_Nov-2016',\n",
      "       'last_pymnt_d_Oct-2016', 'last_pymnt_d_Sep-2016',\n",
      "       'next_pymnt_d_Feb-2017', 'last_credit_pull_d_Dec-2016',\n",
      "       'last_credit_pull_d_Jan-2017', 'last_credit_pull_d_Oct-2016'],\n",
      "      dtype='object')\n",
      "[ 0.97530336  0.98026644  0.98152502  0.98164375  0.968891    0.97900736\n",
      "  0.92771142  0.9808117   0.98005082  0.98047784]\n",
      "Weighted Accuracy: 0.97 (+/- 0.03)\n"
     ]
    }
   ],
   "source": [
    "rfc_kbest = SelectKBest(k=20).fit(X,y)\n",
    "X_new = rfc_kbest.transform(X)\n",
    "cross_val_score(rfc, X_new, y, cv=10)\n",
    "best = rfc_kbest.get_support(indices=True)\n",
    "print(X.columns[best])\n",
    "print(score)\n",
    "print(\"Weighted Accuracy: %0.2f (+/- %0.2f)\" % (score.mean(), score.std() * 2))"
   ]
  },
  {
   "cell_type": "code",
   "execution_count": 10,
   "metadata": {},
   "outputs": [
    {
     "name": "stdout",
     "output_type": "stream",
     "text": [
      "Index(['out_prncp', 'out_prncp_inv', 'total_pymnt', 'total_pymnt_inv',\n",
      "       'total_rec_prncp', 'collection_recovery_fee', 'last_pymnt_amnt',\n",
      "       'last_pymnt_d_Jan-2017', 'next_pymnt_d_Feb-2017',\n",
      "       'last_credit_pull_d_Jan-2017'],\n",
      "      dtype='object')\n",
      "[ 0.97530336  0.98026644  0.98152502  0.98164375  0.968891    0.97900736\n",
      "  0.92771142  0.9808117   0.98005082  0.98047784]\n",
      "Weighted Accuracy: 0.97 (+/- 0.03)\n"
     ]
    }
   ],
   "source": [
    "rfc_kbest = SelectKBest(k=10).fit(X,y)\n",
    "X_new = rfc_kbest.transform(X)\n",
    "cross_val_score(rfc, X_new, y, cv=10)\n",
    "best = rfc_kbest.get_support(indices=True)\n",
    "print(X.columns[best])\n",
    "print(score)\n",
    "print(\"Weighted Accuracy: %0.2f (+/- %0.2f)\" % (score.mean(), score.std() * 2))"
   ]
  },
  {
   "cell_type": "code",
   "execution_count": 11,
   "metadata": {},
   "outputs": [
    {
     "name": "stdout",
     "output_type": "stream",
     "text": [
      "Index(['out_prncp_inv', 'last_pymnt_amnt', 'last_pymnt_d_Jan-2017',\n",
      "       'next_pymnt_d_Feb-2017', 'last_credit_pull_d_Jan-2017'],\n",
      "      dtype='object')\n",
      "[ 0.9273349   0.92548265  0.92875971  0.93892332  0.91177867  0.93315127\n",
      "  0.92908879  0.93690185  0.9163797   0.9401273 ]\n",
      "Weighted Accuracy: 0.93 (+/- 0.02)\n"
     ]
    }
   ],
   "source": [
    "rfc_kbest = SelectKBest(k=5).fit(X,y)\n",
    "X_new = rfc_kbest.transform(X)\n",
    "cross_val_score(rfc, X_new, y, cv=10)\n",
    "score = cross_val_score(rfc, X_new, y, cv=10)\n",
    "best = rfc_kbest.get_support(indices=True)\n",
    "print(X.columns[best])\n",
    "print(score)\n",
    "print(\"Weighted Accuracy: %0.2f (+/- %0.2f)\" % (score.mean(), score.std() * 2))"
   ]
  },
  {
   "cell_type": "code",
   "execution_count": 12,
   "metadata": {},
   "outputs": [
    {
     "name": "stdout",
     "output_type": "stream",
     "text": [
      "Index(['last_pymnt_d_Jan-2017', 'next_pymnt_d_Feb-2017'], dtype='object')\n",
      "[ 0.87962765  0.86255373  0.85326874  0.88188359  0.85568749  0.86321539\n",
      "  0.87159515  0.85706144  0.86888166  0.87210849]\n",
      "Weighted Accuracy: 0.87 (+/- 0.02)\n"
     ]
    }
   ],
   "source": [
    "rfc_kbest = SelectKBest(k=2).fit(X,y)\n",
    "X_new = rfc_kbest.transform(X)\n",
    "cross_val_score(rfc, X_new, y, cv=10)\n",
    "score = cross_val_score(rfc, X_new, y, cv=10)\n",
    "best = rfc_kbest.get_support(indices=True)\n",
    "print(X.columns[best])\n",
    "print(score)\n",
    "print(\"Weighted Accuracy: %0.2f (+/- %0.2f)\" % (score.mean(), score.std() * 2))"
   ]
  },
  {
   "cell_type": "code",
   "execution_count": 13,
   "metadata": {},
   "outputs": [
    {
     "name": "stdout",
     "output_type": "stream",
     "text": [
      "Index(['last_pymnt_amnt', 'last_pymnt_d_Jan-2017', 'next_pymnt_d_Feb-2017',\n",
      "       'last_credit_pull_d_Jan-2017'],\n",
      "      dtype='object')\n",
      "[ 0.91246943  0.9111871   0.91289687  0.9306357   0.91037758  0.91864165\n",
      "  0.92310432  0.91484006  0.90934999  0.91276778]\n",
      "Weighted Accuracy: 0.92 (+/- 0.01)\n"
     ]
    }
   ],
   "source": [
    "rfc_kbest = SelectKBest(k=4).fit(X,y)\n",
    "X_new = rfc_kbest.transform(X)\n",
    "cross_val_score(rfc, X_new, y, cv=10)\n",
    "score = cross_val_score(rfc, X_new, y, cv=10)\n",
    "best = rfc_kbest.get_support(indices=True)\n",
    "print(X.columns[best])\n",
    "print(score)\n",
    "print(\"Weighted Accuracy: %0.2f (+/- %0.2f)\" % (score.mean(), score.std() * 2))"
   ]
  },
  {
   "cell_type": "code",
   "execution_count": 14,
   "metadata": {},
   "outputs": [
    {
     "name": "stdout",
     "output_type": "stream",
     "text": [
      "Index(['last_pymnt_amnt', 'last_pymnt_d_Jan-2017', 'next_pymnt_d_Feb-2017'], dtype='object')\n",
      "[ 0.91192325  0.91109211  0.91085465  0.93284415  0.90767039  0.91728806\n",
      "  0.92322306  0.91191907  0.90787755  0.91338527]\n",
      "Weighted Accuracy: 0.91 (+/- 0.01)\n"
     ]
    }
   ],
   "source": [
    "rfc_kbest = SelectKBest(k=3).fit(X,y)\n",
    "X_new = rfc_kbest.transform(X)\n",
    "cross_val_score(rfc, X_new, y, cv=10)\n",
    "score = cross_val_score(rfc, X_new, y, cv=10)\n",
    "best = rfc_kbest.get_support(indices=True)\n",
    "print(X.columns[best])\n",
    "print(score)\n",
    "print(\"Weighted Accuracy: %0.2f (+/- %0.2f)\" % (score.mean(), score.std() * 2))"
   ]
  },
  {
   "cell_type": "code",
   "execution_count": 15,
   "metadata": {},
   "outputs": [
    {
     "data": {
      "image/png": "[encoded data removed]",
      "text/plain": [
       "<matplotlib.figure.Figure at 0x114e1f9b0>"
      ]
     },
     "metadata": {},
     "output_type": "display_data"
    }
   ],
   "source": [
    "import seaborn as sns\n",
    "\n",
    "df = pd.DataFrame()\n",
    "df['Avg Cross Val Score'] = [0.97, 0.97, 0.97,0.97,0.93,0.87,0.92,0.91]\n",
    "df['k'] = [100,80,20,10,5,2,4,3]\n",
    "g = sns.lmplot(y='Avg Cross Val Score', x='k',data=df, fit_reg=False,scatter_kws={'alpha':0.4})\n",
    "g.set_ylabels('Avg Cross Val Score')\n",
    "g.set_xlabels('k')\n",
    "plt.title('Cross Val Score vs. k')\n",
    "plt.show()"
   ]
  },
  {
   "cell_type": "code",
   "execution_count": null,
   "metadata": {
    "collapsed": true
   },
   "outputs": [],
   "source": []
  }
 ],
 "metadata": {
  "kernelspec": {
   "display_name": "Python 3",
   "language": "python",
   "name": "python3"
  },
  "language_info": {
   "codemirror_mode": {
    "name": "ipython",
    "version": 3
   },
   "file_extension": ".py",
   "mimetype": "text/x-python",
   "name": "python",
   "nbconvert_exporter": "python",
   "pygments_lexer": "ipython3",
   "version": "3.5.2"
  }
 },
 "nbformat": 4,
 "nbformat_minor": 2
}
