{
 "cells": [
  {
   "cell_type": "markdown",
   "metadata": {},
   "source": [
    "**Thinkful - 3.3.3 - Drill - Lasso Regression**"
   ]
  },
  {
   "cell_type": "code",
   "execution_count": 22,
   "metadata": {},
   "outputs": [],
   "source": [
    "import pandas as pd\n",
    "from matplotlib import pyplot as plt\n",
    "import numpy as np\n",
    "import math\n",
    "import seaborn as sns\n",
    "import sklearn\n",
    "from sklearn import linear_model\n",
    "from sklearn import preprocessing\n",
    "%matplotlib inline\n",
    "sns.set_style('white')\n",
    "\n",
    "# Load the data again. Keep air quality data, drop the index column\n",
    "# and any missing data columns.\n",
    "df = pd.read_csv('Data/Default.csv').iloc[:,1:].dropna()\n",
    "\n",
    "# Recode strings to numeric.\n",
    "df['default'] = np.where(df['default']=='Yes', 1, 0)\n",
    "df['student'] = np.where(df['student']=='Yes', 1, 0)\n",
    "names = df.columns\n",
    "df = pd.DataFrame(preprocessing.scale(df), columns=names)\n",
    "\n",
    "# Define the training and test sizes.\n",
    "trainsize = int(df.shape[0] / 2)\n",
    "df_test = df.iloc[trainsize:, :].copy()\n",
    "df_train = df.iloc[:trainsize, :].copy()\n",
    "\n",
    "Y_train = df_train['income'].values.reshape(-1, 1)\n",
    "X_train = df_train.loc[:, ~(df_train.columns).isin(['income'])]"
   ]
  },
  {
   "cell_type": "markdown",
   "metadata": {},
   "source": [
    "**Ridge and Lasso Regression with steps Alpha = 5000**\n",
    "\n",
    "Using very large steps for alpha, we can see that the R-squared values for ridge regression stabilize at ~Alpha = 300,000"
   ]
  },
  {
   "cell_type": "code",
   "execution_count": 23,
   "metadata": {},
   "outputs": [
    {
     "data": {
      "image/png": "[encoded data removed]",
      "text/plain": [
       "<matplotlib.figure.Figure at 0x10d8db588>"
      ]
     },
     "metadata": {},
     "output_type": "display_data"
    }
   ],
   "source": [
    "alphaStep = []\n",
    "R2_ridge = []\n",
    "R2_lasso = []\n",
    "Alph_1 = 0.01\n",
    "i = 1\n",
    "\n",
    "while i < 100:\n",
    "    \n",
    "    #Ridge Regression\n",
    "    ridgeregr = linear_model.Ridge(alpha=Alph_1, fit_intercept=False) \n",
    "    ridgeregr.fit(X_train, Y_train)\n",
    "    R2_ridge.append(ridgeregr.score(X_train, Y_train))\n",
    "    \n",
    "    # Lasso Regression\n",
    "    lass = linear_model.Lasso(alpha=Alph_1)\n",
    "    lassfit = lass.fit(X_train, Y_train)\n",
    "    R2_lasso.append(lass.score(X_train, Y_train))\n",
    "    \n",
    "    # Iterate\n",
    "    alphaStep.append(Alph_1)\n",
    "    i += 1\n",
    "    Alph_1 += 5000\n",
    "\n",
    "# Plot Results\n",
    "plt.scatter(alphaStep,R2_ridge,color='blue')\n",
    "plt.scatter(alphaStep,R2_lasso,color='red')\n",
    "plt.legend(['Ridge', 'Lasso'])\n",
    "plt.title('R-squared vs. Alpha')\n",
    "plt.xlabel('Alpha')\n",
    "plt.ylabel('R-squared')\n",
    "plt.show()"
   ]
  },
  {
   "cell_type": "markdown",
   "metadata": {},
   "source": [
    "**Ridge and Lasso Regression with steps Alpha = 0.01**\n",
    "\n",
    "Using very large steps for alpha, we can see that the R-squared values for lasso regression stabilize at ~Alpha = 0.75."
   ]
  },
  {
   "cell_type": "code",
   "execution_count": 24,
   "metadata": {},
   "outputs": [
    {
     "data": {
      "image/png": "[encoded data removed]",
      "text/plain": [
       "<matplotlib.figure.Figure at 0x10d8095c0>"
      ]
     },
     "metadata": {},
     "output_type": "display_data"
    }
   ],
   "source": [
    "alphaStep = []\n",
    "R2_ridge = []\n",
    "R2_lasso = []\n",
    "Alph_1 = 0.01\n",
    "i = 1\n",
    "\n",
    "while i < 100:\n",
    "    \n",
    "    #Ridge Regression\n",
    "    ridgeregr = linear_model.Ridge(alpha=Alph_1, fit_intercept=False) \n",
    "    ridgeregr.fit(X_train, Y_train)\n",
    "    R2_ridge.append(ridgeregr.score(X_train, Y_train))\n",
    "    \n",
    "    # Lasso Regression\n",
    "    lass = linear_model.Lasso(alpha=Alph_1)\n",
    "    lassfit = lass.fit(X_train, Y_train)\n",
    "    R2_lasso.append(lass.score(X_train, Y_train))\n",
    "    \n",
    "    # Iterate\n",
    "    alphaStep.append(Alph_1)\n",
    "    i += 1\n",
    "    Alph_1 += 0.01\n",
    "\n",
    "# Plot Results\n",
    "plt.scatter(alphaStep,R2_ridge,color='blue')\n",
    "plt.scatter(alphaStep,R2_lasso,color='red')\n",
    "plt.legend(['Ridge', 'Lasso'])\n",
    "plt.title('R-squared vs. Alpha')\n",
    "plt.xlabel('Alpha')\n",
    "plt.ylabel('R-squared')\n",
    "plt.show()"
   ]
  }
 ],
 "metadata": {
  "kernelspec": {
   "display_name": "Python 3",
   "language": "python",
   "name": "python3"
  },
  "language_info": {
   "codemirror_mode": {
    "name": "ipython",
    "version": 3
   },
   "file_extension": ".py",
   "mimetype": "text/x-python",
   "name": "python",
   "nbconvert_exporter": "python",
   "pygments_lexer": "ipython3",
   "version": "3.5.2"
  }
 },
 "nbformat": 4,
 "nbformat_minor": 2
}
