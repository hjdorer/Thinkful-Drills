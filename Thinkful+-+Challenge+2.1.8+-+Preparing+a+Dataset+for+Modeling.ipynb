{
 "cells": [
  {
   "cell_type": "markdown",
   "metadata": {},
   "source": [
    "**Thinkful - Challenge 2.1.8 - Preparing a Dataset for Modeling**\n",
    "\n",
    "Using a dataset of your choice, select an outcome variable and then pick four or five other variables (one to two categorical, three to four continuous) to act as the basis for features. Explore the variables using the univariate and bivariate methods you've learned so far.\n",
    "\n",
    "**Outcome Variable:**\n",
    "Adoptibility of dogs\n",
    "\n",
    "**Other variables**\n",
    "\n",
    "1. Categorical - breed\n",
    "2. Categorical - sex and spay/neuter status\n",
    "3. Categorical - outcome (transfer, euthanasia, adoption, partner)\n",
    "4. Continuous - date of birth\n",
    "5. Continuous - date of outcome\n",
    "6. Continuous - age upon outcome\n",
    "\n",
    "**Ten new features**\n",
    "1. Sex\n",
    "2. Spay/neuter status\n",
    "3. Bully breed\n",
    "4. Success ranking/category\n",
    "\n",
    "**Outstanding Tasks**\n",
    "1. Convert week/month age data to years or calculate years"
   ]
  },
  {
   "cell_type": "code",
   "execution_count": 10,
   "metadata": {},
   "outputs": [
    {
     "data": {
      "text/plain": [
       "not_bully    35000\n",
       "not dog      34014\n",
       "bully         9242\n",
       "Name: Bully Category, dtype: int64"
      ]
     },
     "execution_count": 10,
     "metadata": {},
     "output_type": "execute_result"
    }
   ],
   "source": [
    "import matplotlib.pyplot as plt\n",
    "import seaborn as sns\n",
    "import pandas as pd\n",
    "import numpy as np\n",
    "import re\n",
    "\n",
    "df = pd.read_csv('aac_shelter_outcomes.csv')\n",
    "\n",
    "DOB = df['date_of_birth']\n",
    "date_of_outcome = df['datetime']\n",
    "animal_type = df['animal_type']\n",
    "breed = df['breed']\n",
    "dogbreed_bully = []\n",
    "for i in range(len(animal_type)):\n",
    "    if animal_type[i] == 'Dog':\n",
    "        if ((re.search('Staff' , breed[i]))or\n",
    "            (re.search('Boston' , breed[i]))or\n",
    "            (re.search('Mastiff' , breed[i]))or\n",
    "            (re.search('Bull' , breed[i]))):\n",
    "            dogbreed_bully.append('bully')\n",
    "        else:\n",
    "            dogbreed_bully.append('not_bully')\n",
    "    else:\n",
    "        dogbreed_bully.append('not dog')\n",
    "\n",
    "df['Bully Category'] = pd.Series(dogbreed_bully, index=df.index)\n",
    "df['Bully Category'].value_counts()"
   ]
  },
  {
   "cell_type": "code",
   "execution_count": null,
   "metadata": {
    "collapsed": true
   },
   "outputs": [],
   "source": []
  },
  {
   "cell_type": "code",
   "execution_count": null,
   "metadata": {
    "collapsed": true
   },
   "outputs": [],
   "source": []
  }
 ],
 "metadata": {
  "kernelspec": {
   "display_name": "Python 3",
   "language": "python",
   "name": "python3"
  },
  "language_info": {
   "codemirror_mode": {
    "name": "ipython",
    "version": 3
   },
   "file_extension": ".py",
   "mimetype": "text/x-python",
   "name": "python",
   "nbconvert_exporter": "python",
   "pygments_lexer": "ipython3",
   "version": "3.5.2"
  }
 },
 "nbformat": 4,
 "nbformat_minor": 2
}
