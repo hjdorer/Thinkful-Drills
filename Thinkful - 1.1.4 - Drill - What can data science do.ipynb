{
 "cells": [
  {
   "cell_type": "markdown",
   "metadata": {},
   "source": [
    "**Thinkful - Drill - What can data science do?**\n",
    "\n",
    "Below we have a series of questions for you to translate into a technical plan. For each question, describe how you would make it testable and translate it from a general question into something statistically rigorous."
   ]
  },
  {
   "cell_type": "markdown",
   "metadata": {},
   "source": [
    "**1. You work at an e-commerce company that sells three goods: widgets, doodads, and fizzbangs. The head of advertising asks you which they should feature in their new advertising campaign. You have data on individual visitors' sessions (activity on a website, pageviews, and purchases), as well as whether or not those users converted from an advertisement for that session. You also have the cost and price information for the goods.**\n",
    "\n",
    "The question I would ask here is \"Which item will yield the greatest total profit if it is featured in the advertising campaign?\" There are two components to this question:\n",
    "1. What is the profit per item? Profit = price - cost\n",
    "2. How many items will be sold due to being featured by the campaign? This question is more involved. What is the likelihood that a person will buy the product if it is featured? For those users that converted from an advertisement for a session, what converted them? Was it quality advertising, or a genuinely good product that didn't need excessive advertising?"
   ]
  },
  {
   "cell_type": "markdown",
   "metadata": {},
   "source": [
    "**2. You work at a web design company that offers to build websites for clients. Signups have slowed, and you are tasked with finding out why. The onboarding funnel has three steps: email and password signup, plan choice, and payment. On a user level you have information on what steps they have completed as well as timestamps for all of those events for the past 3 years. You also have information on marketing spending on a weekly level.**\n",
    "\n",
    "I would ask the following questions:\n",
    "1. At which step are users most likely to discontinue the sign-up process? Assuming that not all users have followed through with the sign-up process, there would be three groups: (A) users that have completed step 1, (B) users that have completed steps 1 and 2, and (C) users that have completed all three steps. Evaluating B/A and C/A may indicate that some part of the sign-up process is not intuitive or is off-putting to users (example: annoying popups or upselling).\n",
    "2. Has the time to complete the sign-up process increased over time? An increase in time required to complete a given step could indicate that that some part of the sign-up process got prohibitively more involved (example: a difficult CAPTCHA). The timestamps could be used to determine the time to complete each step, which could be plotted vs. time on a scatterplot and used to evaluate trends.\n",
    "3. What is the relationship between marketing spending and sign-ups per week? If there is a direct correlation between marketing spending and sign-ups, and the marketing spending has decreased, then the decrease in sign-ups may be attributed to reduced spending.\n"
   ]
  },
  {
   "cell_type": "markdown",
   "metadata": {},
   "source": [
    "**3. You work at a hotel website and currently the website ranks search results by price. For simplicity's sake, let's say it's a website for one city with 100 hotels. You are tasked with proposing a better ranking system. You have session information, price information for the hotels, and whether each hotel is currently available.**\n",
    "\n",
    "1. What are users looking for when they visit the website? Are they looking to book a hotel, or are they looking for an aggregated list of hotels for informational purposes only? This can be assessed by whether or not people make purchases on the site or leave after clicking around (however, a person not making a purchase may also be a function of the usability of the website rather than mere intent to book). If they're looking to book, then exclude hotels with no availability from the list.\n",
    "2. Which hotels are most often booked through the website? This can be assessed using the purchase history. Perhaps hotels with more purchases indicate better hotels and therefore they should be placed at the top. Again, it should be noted that the hotel rooms actually purchased may be a function of the already-existing algorithm rather than value.\n",
    "3. What do people look at and click on BEFORE booking a given hotel? This can be assessed using the session activity (activity on a website, pageviews, and purchases).\n",
    "4. I would investigate allowing the customer to sort by other fields. Sorting by price could mean sorting from high to low or low to high, and different customers may have different needs. One customer may desire a cheaper hotel, which could come at the expense of quality, while other customers may be more focused on quality. \n",
    "5. I would investigate adding more search parameters or filtering options, such as hotel reviews or hotel ratings."
   ]
  },
  {
   "cell_type": "markdown",
   "metadata": {},
   "source": [
    "**4. You work at a social network, and the management is worried about churn (users stopping using the product). You are tasked with finding out if their churn is atypical. You have three years of data for users with an entry for every time they've logged in, including the timestamp and length of session.**\n",
    "\n",
    "I would use usage data to define:\n",
    "1. What is baseline usage? Example: logging in daily and using the product for 30 minutes per session\n",
    "2. Does the baseline usage vary based on the age of the account? Perhaps the novelty has worn off for longtime users and therefore the baseline is different for new users vs longtime users.\n",
    "3. What is the definition of a user no longer using the product? Example: when a user only logs in once per month or for 5 minutes every three months.\n",
    "4. Define churn: What percentage of people are below this no-use threshold?\n",
    "5. Has the percentage of people that are below this no-use threshold increased over time? If so, churn may be evident."
   ]
  }
 ],
 "metadata": {
  "kernelspec": {
   "display_name": "Python 3",
   "language": "python",
   "name": "python3"
  },
  "language_info": {
   "codemirror_mode": {
    "name": "ipython",
    "version": 3
   },
   "file_extension": ".py",
   "mimetype": "text/x-python",
   "name": "python",
   "nbconvert_exporter": "python",
   "pygments_lexer": "ipython3",
   "version": "3.5.2"
  }
 },
 "nbformat": 4,
 "nbformat_minor": 2
}
