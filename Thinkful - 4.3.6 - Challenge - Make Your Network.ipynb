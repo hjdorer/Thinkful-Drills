{
 "cells": [
  {
   "cell_type": "markdown",
   "metadata": {},
   "source": [
    "**Thinkful - 4.3.6 - Challenge - Make Your Network**"
   ]
  },
  {
   "cell_type": "code",
   "execution_count": 5,
   "metadata": {},
   "outputs": [
    {
     "name": "stderr",
     "output_type": "stream",
     "text": [
      "/Library/Frameworks/Python.framework/Versions/3.5/lib/python3.5/site-packages/IPython/core/interactiveshell.py:2698: DtypeWarning: Columns (0,19,55) have mixed types. Specify dtype option on import or set low_memory=False.\n",
      "  interactivity=interactivity, compiler=compiler, result=result)\n"
     ]
    }
   ],
   "source": [
    "import pandas as pd\n",
    "import numpy as np\n",
    "import matplotlib.pyplot as plt\n",
    "import time\n",
    "import pydotplus\n",
    "from sklearn import tree\n",
    "from IPython.display import Image\n",
    "from sklearn import ensemble\n",
    "from sklearn.feature_selection import SelectKBest\n",
    "from sklearn.model_selection import cross_val_score\n",
    "from sklearn.neural_network import MLPClassifier\n",
    "%matplotlib inline\n",
    "\n",
    "# Replace the path with the correct path for your data.\n",
    "y2015 = pd.read_csv('data/LoanStats3d.csv',skipinitialspace=True,header=1)\n",
    "\n",
    "# Remove two summary rows at the end that don't actually contain data.\n",
    "y2015 = y2015[:-2]\n",
    "\n",
    "# Drop other columns with many unique variables\n",
    "y2015['id'] = pd.to_numeric(y2015['id'], errors='coerce')\n",
    "y2015['int_rate'] = pd.to_numeric(y2015['int_rate'].str.strip('%'), errors='coerce')\n",
    "y2015.drop(['url', 'emp_title', 'zip_code', 'earliest_cr_line', 'revol_util',\n",
    "            'sub_grade', 'addr_state', 'desc', 'verification_status_joint',\n",
    "           'policy_code'], 1,inplace=True)\n",
    "\n",
    "# Create dataset for use in models\n",
    "X = y2015.drop(['loan_status'], 1)\n",
    "y = y2015['loan_status']\n",
    "X = pd.get_dummies(X)\n",
    "X = X.dropna(axis=1)"
   ]
  },
  {
   "cell_type": "code",
   "execution_count": 6,
   "metadata": {},
   "outputs": [
    {
     "data": {
      "text/plain": [
       "Current               287414\n",
       "Fully Paid             87989\n",
       "Charged Off            29178\n",
       "Late (31-120 days)      9510\n",
       "In Grace Period         4320\n",
       "Late (16-30 days)       1888\n",
       "Default                  796\n",
       "Name: loan_status, dtype: int64"
      ]
     },
     "execution_count": 6,
     "metadata": {},
     "output_type": "execute_result"
    }
   ],
   "source": [
    "y.value_counts()"
   ]
  },
  {
   "cell_type": "code",
   "execution_count": 11,
   "metadata": {},
   "outputs": [
    {
     "data": {
      "text/plain": [
       "(421095, 101)"
      ]
     },
     "execution_count": 11,
     "metadata": {},
     "output_type": "execute_result"
    }
   ],
   "source": [
    "y2015.shape"
   ]
  },
  {
   "cell_type": "markdown",
   "metadata": {},
   "source": [
    "# Decision Tree"
   ]
  },
  {
   "cell_type": "code",
   "execution_count": 8,
   "metadata": {},
   "outputs": [
    {
     "name": "stdout",
     "output_type": "stream",
     "text": [
      "Model Time: 1.5377931594848633 seconds\n",
      "[ 0.90376509  0.90511755  0.93944431  0.92501603  0.92091764]\n",
      "Weighted Accuracy: 0.92 (+/- 0.03)\n",
      "Cross Val Time: 9.442087888717651 seconds\n"
     ]
    }
   ],
   "source": [
    "# Initialize and train our tree.\n",
    "status_options = ['Current','Fully Paid','Charged Off','Late (31-120 days)','In Grace Period',\n",
    "                 'Late (16-30 days)','Default']\n",
    "\n",
    "start_time = time.time()\n",
    "\n",
    "# Build Model\n",
    "decision_tree = tree.DecisionTreeClassifier(criterion='entropy',max_features=9,max_depth=6)\n",
    "dtree = decision_tree.fit(X,y)\n",
    "model_time = time.time()\n",
    "a = (model_time - start_time)\n",
    "print(\"Model Time: %s seconds\" % a)\n",
    "\n",
    "#Evaluate Model\n",
    "#X_new = rfc_kbest.transform(X)\n",
    "score = cross_val_score(dtree, X, y, cv=5)\n",
    "print(score)\n",
    "print(\"Weighted Accuracy: %0.2f (+/- %0.2f)\" % (score.mean(), score.std() * 2))\n",
    "\n",
    "cross_val_time = time.time()\n",
    "b = (cross_val_time - model_time)\n",
    "print(\"Cross Val Time: %s seconds\" % b)"
   ]
  },
  {
   "cell_type": "code",
   "execution_count": 9,
   "metadata": {
    "collapsed": true
   },
   "outputs": [],
   "source": [
    "X = X.drop('pymnt_plan_n',1)"
   ]
  },
  {
   "cell_type": "markdown",
   "metadata": {},
   "source": [
    "# Random Forest\n",
    "\n",
    "**All Estimators**"
   ]
  },
  {
   "cell_type": "code",
   "execution_count": 12,
   "metadata": {},
   "outputs": [
    {
     "name": "stdout",
     "output_type": "stream",
     "text": [
      "Model Time: 15.672481060028076 seconds\n",
      "Cross Val Time: 157.0256631374359 seconds\n",
      "[ 0.91094963  0.91109211  0.91149581  0.93236921  0.9080266   0.91747803\n",
      "  0.92246313  0.91118288  0.90811504  0.91269653]\n",
      "Weighted Accuracy: 0.91 (+/- 0.01)\n"
     ]
    }
   ],
   "source": [
    "start_time = time.time()\n",
    "\n",
    "# Build Model\n",
    "rfc = ensemble.RandomForestClassifier()\n",
    "kbest = SelectKBest(k=3).fit(X,y)\n",
    "model_time = time.time()\n",
    "a = (model_time - start_time)\n",
    "print(\"Model Time: %s seconds\" % a)\n",
    "\n",
    "#Evaluate Model\n",
    "X_new = kbest.transform(X)\n",
    "score = cross_val_score(rfc, X_new, y, cv=5)\n",
    "cross_val_time = time.time()\n",
    "b = (cross_val_time - model_time)\n",
    "print(\"Cross Val Time: %s seconds\" % b)\n",
    "print(score)\n",
    "print(\"Weighted Accuracy: %0.2f (+/- %0.2f)\" % (score.mean(), score.std() * 2))"
   ]
  },
  {
   "cell_type": "markdown",
   "metadata": {},
   "source": [
    "**20 Estimators**"
   ]
  },
  {
   "cell_type": "code",
   "execution_count": 5,
   "metadata": {},
   "outputs": [
    {
     "name": "stdout",
     "output_type": "stream",
     "text": [
      "Model Time: 19.266163110733032 seconds\n",
      "Cross Val Time: 550.0227119922638 seconds\n",
      "[ 0.91111586  0.91104462  0.91092589  0.93296288  0.90790786  0.91707433\n",
      "  0.92272436  0.91177658  0.90711758  0.91141405]\n",
      "Weighted Accuracy: 0.91 (+/- 0.02)\n"
     ]
    }
   ],
   "source": [
    "start_time = time.time()\n",
    "\n",
    "# Build Model\n",
    "rfc = ensemble.RandomForestClassifier(n_estimators=20)\n",
    "kbest = SelectKBest(k=3).fit(X,y)\n",
    "model_time = time.time()\n",
    "a = (model_time - start_time)\n",
    "print(\"Model Time: %s seconds\" % a)\n",
    "\n",
    "#Evaluate Model\n",
    "X_new = kbest.transform(X)\n",
    "score = cross_val_score(rfc, X_new, y, cv=5)\n",
    "cross_val_time = time.time()\n",
    "b = (cross_val_time - model_time)\n",
    "print(\"Cross Val Time: %s seconds\" % b)\n",
    "print(score)\n",
    "print(\"Weighted Accuracy: %0.2f (+/- %0.2f)\" % (score.mean(), score.std() * 2))"
   ]
  },
  {
   "cell_type": "markdown",
   "metadata": {},
   "source": [
    "**5 Estimators**"
   ]
  },
  {
   "cell_type": "code",
   "execution_count": 6,
   "metadata": {},
   "outputs": [
    {
     "name": "stdout",
     "output_type": "stream",
     "text": [
      "Model Time: 41.46573996543884 seconds\n",
      "Cross Val Time: 128.81869220733643 seconds\n",
      "[ 0.91130583  0.90961981  0.91075966  0.93263043  0.90717169  0.91593446\n",
      "  0.92251063  0.91108789  0.90697509  0.9112478 ]\n",
      "Weighted Accuracy: 0.91 (+/- 0.02)\n"
     ]
    }
   ],
   "source": [
    "start_time = time.time()\n",
    "\n",
    "# Build Model\n",
    "rfc = ensemble.RandomForestClassifier(n_estimators=5)\n",
    "kbest = SelectKBest(k=3).fit(X,y)\n",
    "model_time = time.time()\n",
    "a = (model_time - start_time)\n",
    "print(\"Model Time: %s seconds\" % a)\n",
    "\n",
    "#Evaluate Model\n",
    "X_new = kbest.transform(X)\n",
    "score = cross_val_score(rfc, X_new, y, cv=5)\n",
    "cross_val_time = time.time()\n",
    "b = (cross_val_time - model_time)\n",
    "print(\"Cross Val Time: %s seconds\" % b)\n",
    "print(score)\n",
    "print(\"Weighted Accuracy: %0.2f (+/- %0.2f)\" % (score.mean(), score.std() * 2))"
   ]
  },
  {
   "cell_type": "markdown",
   "metadata": {},
   "source": [
    "# Multi-Layer Perceptron\n",
    "\n",
    "**One Layer, 1000 layers wide**"
   ]
  },
  {
   "cell_type": "code",
   "execution_count": 16,
   "metadata": {},
   "outputs": [
    {
     "name": "stdout",
     "output_type": "stream",
     "text": [
      "Score =  0.682955152638\n",
      "Model Time: 256.7434058189392 seconds\n",
      "Cross Val Time: 725.9790360927582 seconds\n",
      "[ 0.68273946  0.24042983  0.88420803  0.6833931   0.68511922]\n",
      "Weighted Accuracy: 0.64 (+/- 0.42)\n"
     ]
    }
   ],
   "source": [
    "start_time = time.time()\n",
    "\n",
    "# Establish and fit the model\n",
    "mlp = MLPClassifier(hidden_layer_sizes=(200,))\n",
    "mlp.fit(X, y)\n",
    "model_time = time.time()\n",
    "score1 = mlp.score(X, y)\n",
    "print(\"Score = \",score1)\n",
    "a = (model_time - start_time)\n",
    "print(\"Model Time: %s seconds\" % a)\n",
    "\n",
    "score2 = cross_val_score(mlp, X, y, cv=5)\n",
    "cross_val_time = time.time()\n",
    "b = (cross_val_time - model_time)\n",
    "print(\"Cross Val Time: %s seconds\" % b)\n",
    "print(score2)\n",
    "print(\"Weighted Accuracy: %0.2f (+/- %0.2f)\" % (score2.mean(), score2.std() * 2))"
   ]
  },
  {
   "cell_type": "code",
   "execution_count": 17,
   "metadata": {},
   "outputs": [
    {
     "name": "stdout",
     "output_type": "stream",
     "text": [
      "Score =  0.682544318978\n",
      "Model Time: 52.61250305175781 seconds\n",
      "Cross Val Time: 334.90957593917847 seconds\n",
      "[ 0.68260885  0.68259321  0.68261696  0.68260942  0.68256626]\n",
      "Weighted Accuracy: 0.68 (+/- 0.00)\n"
     ]
    }
   ],
   "source": [
    "start_time = time.time()\n",
    "\n",
    "# Establish and fit the model\n",
    "mlp = MLPClassifier(hidden_layer_sizes=(50,20))\n",
    "mlp.fit(X, y)\n",
    "model_time = time.time()\n",
    "score1 = mlp.score(X, y)\n",
    "print(\"Score = \",score1)\n",
    "a = (model_time - start_time)\n",
    "print(\"Model Time: %s seconds\" % a)\n",
    "\n",
    "score2 = cross_val_score(mlp, X, y, cv=5)\n",
    "cross_val_time = time.time()\n",
    "b = (cross_val_time - model_time)\n",
    "print(\"Cross Val Time: %s seconds\" % b)\n",
    "print(score2)\n",
    "print(\"Weighted Accuracy: %0.2f (+/- %0.2f)\" % (score2.mean(), score2.std() * 2))"
   ]
  },
  {
   "cell_type": "code",
   "execution_count": 18,
   "metadata": {},
   "outputs": [
    {
     "name": "stdout",
     "output_type": "stream",
     "text": [
      "Score =  0.682539569456\n",
      "Model Time: 23.75485396385193 seconds\n",
      "Cross Val Time: 99.53593301773071 seconds\n",
      "[ 0.68252574  0.68253384  0.68267632  0.6825263   0.68254251]\n",
      "Weighted Accuracy: 0.68 (+/- 0.00)\n"
     ]
    }
   ],
   "source": [
    "start_time = time.time()\n",
    "\n",
    "# Establish and fit the model\n",
    "mlp = MLPClassifier(hidden_layer_sizes=(20,10,5))\n",
    "mlp.fit(X, y)\n",
    "model_time = time.time()\n",
    "score1 = mlp.score(X, y)\n",
    "print(\"Score = \",score1)\n",
    "a = (model_time - start_time)\n",
    "print(\"Model Time: %s seconds\" % a)\n",
    "\n",
    "score2 = cross_val_score(mlp, X, y, cv=5)\n",
    "cross_val_time = time.time()\n",
    "b = (cross_val_time - model_time)\n",
    "print(\"Cross Val Time: %s seconds\" % b)\n",
    "print(score2)\n",
    "print(\"Weighted Accuracy: %0.2f (+/- %0.2f)\" % (score2.mean(), score2.std() * 2))"
   ]
  },
  {
   "cell_type": "markdown",
   "metadata": {},
   "source": [
    "# Conclusions\n",
    "\n",
    "The random forest models ran faster than the MLP models, except in the case where there were fewer neurons in the MLP layers. The random forest models were also more accurate overall and had more consistent cross validation scores."
   ]
  },
  {
   "cell_type": "code",
   "execution_count": null,
   "metadata": {
    "collapsed": true
   },
   "outputs": [],
   "source": []
  }
 ],
 "metadata": {
  "kernelspec": {
   "display_name": "Python 3",
   "language": "python",
   "name": "python3"
  },
  "language_info": {
   "codemirror_mode": {
    "name": "ipython",
    "version": 3
   },
   "file_extension": ".py",
   "mimetype": "text/x-python",
   "name": "python",
   "nbconvert_exporter": "python",
   "pygments_lexer": "ipython3",
   "version": "3.5.2"
  }
 },
 "nbformat": 4,
 "nbformat_minor": 2
}
