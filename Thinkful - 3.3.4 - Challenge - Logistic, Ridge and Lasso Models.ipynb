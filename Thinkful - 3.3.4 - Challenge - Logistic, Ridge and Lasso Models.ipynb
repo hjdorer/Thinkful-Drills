{
 "cells": [
  {
   "cell_type": "markdown",
   "metadata": {},
   "source": [
    "**Thinkful - 3.3.4 - Challenge - Logistic, Ridge and Lasso Models**"
   ]
  },
  {
   "cell_type": "code",
   "execution_count": 5,
   "metadata": {},
   "outputs": [
    {
     "name": "stdout",
     "output_type": "stream",
     "text": [
      "9289\n",
      "9289\n"
     ]
    },
    {
     "data": {
      "text/plain": [
       "\"df[variables] = df[variables].astype(int)\\ndf['State'] = df['State'].map(lambda x: x.title())\\ndf.head()\""
      ]
     },
     "execution_count": 5,
     "metadata": {},
     "output_type": "execute_result"
    }
   ],
   "source": [
    "import math\n",
    "import warnings\n",
    "import pandas as pd\n",
    "import numpy as np\n",
    "import seaborn as sns\n",
    "import matplotlib.pyplot as plt\n",
    "from IPython.display import display\n",
    "from sklearn import linear_model\n",
    "from sklearn.model_selection import cross_val_score\n",
    "from sklearn.linear_model import LogisticRegression\n",
    "from sklearn import preprocessing\n",
    "sns.set(style=\"white\", context=\"talk\")\n",
    "\n",
    "# Display preferences.\n",
    "%matplotlib inline\n",
    "pd.options.display.float_format = '{:.3f}'.format\n",
    "\n",
    "# Suppress annoying harmless error.\n",
    "warnings.filterwarnings(\n",
    "    action=\"ignore\",\n",
    "    module=\"scipy\",\n",
    "    message=\"^internal gelsd\")\n",
    " \n",
    "#Read file and remove commas from numbers (currently strings)\n",
    "df2 = pd.read_csv('Data/Table_8_Offenses_Known_to_Law_Enforcement_by_State_by_City_2013_v2.csv')\n",
    "print(len(df2))\n",
    "#df = df2.iloc[:,:].dropna()\n",
    "df = df2.dropna()\n",
    "print(len(df))\n",
    "\n",
    "variables = ['Population','Murder','Violent crime','Robbery','Aggravated assault','Arson',\n",
    "            'Property crime','Burglary','Larceny-theft','Motor vehicle theft','Rape']\n",
    "'''df[variables] = df[variables].astype(int)\n",
    "df['State'] = df['State'].map(lambda x: x.title())\n",
    "df.head()'''"
   ]
  },
  {
   "cell_type": "markdown",
   "metadata": {},
   "source": [
    "**Create An Outcome Variable**"
   ]
  },
  {
   "cell_type": "code",
   "execution_count": 7,
   "metadata": {},
   "outputs": [],
   "source": [
    "population = df['Population']\n",
    "df['Property Crime Per Capita'] = df['Property crime']/population\n",
    "prop_crime_pc = df['Property Crime Per Capita']\n",
    "\n",
    "is_safe = []\n",
    "for j in range(len(prop_crime_pc)):\n",
    "    if prop_crime_pc[j]<0.05:\n",
    "        is_safe.append(0)\n",
    "    else:\n",
    "        is_safe.append(1)\n",
    "df['Is Safe'] = pd.Series(is_safe, index=df.index)"
   ]
  },
  {
   "cell_type": "markdown",
   "metadata": {},
   "source": [
    "**Creating New Features**\n",
    "\n",
    "We currently have 9 features, so I created 6 more."
   ]
  },
  {
   "cell_type": "code",
   "execution_count": 19,
   "metadata": {},
   "outputs": [],
   "source": [
    "#Create variable for murder per capita and append to dataframe\n",
    "df['Robbery Per Capita'] = df['Robbery']/population\n",
    "df['Murder Per Capita'] = df['Murder']/population\n",
    "df['Robbery-Murder'] = df['Robbery'] * df['Murder']\n",
    "df['Robbery-Larceny'] = df['Robbery'] * df['Larceny-theft']\n",
    "\n",
    "# Create feature for region\n",
    "Region = []\n",
    "Northeast = ['Connecticut','Maine','Massachusetts','New Hampshire','Rhode Island', \n",
    "             'Vermont','New Jersey','New York','Pennsylvania']\n",
    "Midwest = ['Illinois','Indiana','Michigan','Ohio','Wisconsin','Iowa','Kansas', \n",
    "           'Minnesota', 'Missouri', 'Nebraska', 'North Dakota', 'South Dakota']\n",
    "South = ['Delaware','Florida','Georgia','Maryland','North Carolina','South Carolina',\n",
    "        'Virginia','District of Columbia','West Virginia','Alabama','Kentucky', \n",
    "        'Mississippi','Tennessee','Arkansas','Louisiana','Oklahoma','Texas']\n",
    "West = ['Arizona','Colorado','Idaho','Montana','Nevada','New Mexico','Utah','Wyoming', \n",
    "        'Alaska','California','Hawaii','Oregon','Washington']\n",
    "\n",
    "for i in range(len(df['State'])):\n",
    "    if df['State'][i] in Northeast:\n",
    "        Region.append(0)\n",
    "    elif df['State'][i] in Midwest:\n",
    "        Region.append(1)\n",
    "    elif df['State'][i] in South:\n",
    "        Region.append(2)\n",
    "    else:\n",
    "        Region.append(3)\n",
    "\n",
    "df['Region'] = pd.Series(Region, index=df.index) \n",
    "\n",
    "# Create feature for city size\n",
    "Large_City = []\n",
    "for j in range(len(df['Population'])):\n",
    "    if df['Population'][j]<30000:\n",
    "        Large_City.append(0)\n",
    "    elif df['Population'][j]<60000:\n",
    "        Large_City.append(1)\n",
    "    else:\n",
    "        Large_City.append(2)\n",
    "df['Large City'] = pd.Series(Large_City, index=df.index)"
   ]
  },
  {
   "cell_type": "code",
   "execution_count": 20,
   "metadata": {
    "collapsed": true
   },
   "outputs": [],
   "source": [
    "features = ['Murder','Violent crime','Robbery','Aggravated assault','Arson',\n",
    "            'Burglary','Larceny-theft','Motor vehicle theft','Rape',\n",
    "            'Robbery Per Capita','Murder Per Capita','Large City','Region',\n",
    "           'Robbery-Murder','Robbery-Larceny']\n",
    "# Need more features + Region excluded because keyerror could not be converted to float"
   ]
  },
  {
   "cell_type": "markdown",
   "metadata": {},
   "source": [
    "**Selection of regularization parameter for ridge and lasso regression**\n",
    "\n",
    "After evaluating the impact of alpha on the R^2 value for both ridge and lasso regression (below), it appears that the R^2 value for the ridge regression model decreases as alpha increases (which is expected), whereas the R^2 value for lasso regression is consistently zero."
   ]
  },
  {
   "cell_type": "code",
   "execution_count": 59,
   "metadata": {},
   "outputs": [
    {
     "data": {
      "image/png": "[encoded data removed]",
      "text/plain": [
       "<matplotlib.figure.Figure at 0x10d0ee470>"
      ]
     },
     "metadata": {},
     "output_type": "display_data"
    }
   ],
   "source": [
    "alphaStep = []\n",
    "R2_log = []\n",
    "R2_ridge = []\n",
    "R2_lasso = []\n",
    "Alph_1 = 1\n",
    "i = 1\n",
    "y = is_safe\n",
    "    \n",
    "while i < 20:\n",
    "    \n",
    "    #Logistic Regression\n",
    "    lr = LogisticRegression(C=Alph_1)\n",
    "    fit = lr.fit(X, y)\n",
    "    R2_log.append(lr.score(X, y))\n",
    "    \n",
    "    #Ridge Regression\n",
    "    lr_ridge = LogisticRegression(C=Alph_1,penalty='l2')\n",
    "    fit_ridge = lr_ridge.fit(X, y)\n",
    "    R2_ridge.append(lr_ridge.score(X, y))\n",
    "    \n",
    "    # Lasso Regression\n",
    "    lr_lasso = LogisticRegression(C=Alph_1,penalty='l1')\n",
    "    fit_lasso = lr_lasso.fit(X, y)\n",
    "    R2_lasso.append(lr_lasso.score(X, y))\n",
    "    \n",
    "    # Iterate\n",
    "    alphaStep.append(Alph_1)\n",
    "    i += 1\n",
    "    Alph_1 += 1\n",
    "\n",
    "# Plot Results\n",
    "plt.scatter(alphaStep,R2_ridge,color='blue')\n",
    "plt.scatter(alphaStep,R2_lasso,color='red')\n",
    "plt.scatter(alphaStep,R2_log,color='green')\n",
    "plt.legend(['Ridge', 'Lasso','Logistic'])\n",
    "plt.title('R-squared vs. Alpha')\n",
    "plt.xlabel('Alpha')\n",
    "plt.ylabel('R-squared')\n",
    "plt.show()"
   ]
  },
  {
   "cell_type": "markdown",
   "metadata": {},
   "source": [
    "**Logistic Regression**"
   ]
  },
  {
   "cell_type": "code",
   "execution_count": 60,
   "metadata": {},
   "outputs": [
    {
     "name": "stdout",
     "output_type": "stream",
     "text": [
      "Coefficients\n",
      "[[  9.68317240e-05   4.33087213e-04   1.74044941e-03  -5.72846010e-04\n",
      "   -1.06554825e-04   6.79094521e-04  -8.88206385e-04   9.95289284e-04\n",
      "   -8.76287521e-04  -7.04742190e-08  -1.20499371e-08  -1.28115472e-04\n",
      "   -3.50092519e-03  -1.14667111e-05   5.42924650e-08]]\n",
      "[-0.00116698]\n",
      "R^2 =  0.892130476908\n",
      "Cross Validation, CV = 10:\n",
      "[ 0.74301075  0.89569892  0.90204521  0.89451023  0.90419806  0.89128095\n",
      "  0.90419806  0.90193966  0.90517241  0.90409483]\n",
      "Unweighted Accuracy: 0.88 (+/- 0.09)\n"
     ]
    }
   ],
   "source": [
    "# Declare a logistic regression classifier.\n",
    "# Parameter regularization coefficient C described above. L2 = ridge, L2 = lasso\n",
    "lr = LogisticRegression(C=5)\n",
    "y = is_safe\n",
    "X = df[features]\n",
    "\n",
    "# Fit the model.\n",
    "fit = lr.fit(X, y)\n",
    "\n",
    "# Display.\n",
    "print('Coefficients')\n",
    "print(fit.coef_)\n",
    "print(fit.intercept_)\n",
    "pred_y_sklearn = lr.predict(X)\n",
    "\n",
    "print(\"R^2 = \",lr.score(X, y))\n",
    "score_log = cross_val_score(lr, X, y, cv=10)\n",
    "print(\"Cross Validation, CV = 10:\")\n",
    "print(score_log)\n",
    "print(\"Unweighted Accuracy: %0.2f (+/- %0.2f)\" % (score_log.mean(), score_log.std() * 2))"
   ]
  },
  {
   "cell_type": "markdown",
   "metadata": {},
   "source": [
    "**Ridge Regression**"
   ]
  },
  {
   "cell_type": "code",
   "execution_count": 67,
   "metadata": {},
   "outputs": [
    {
     "name": "stdout",
     "output_type": "stream",
     "text": [
      "Coefficients\n",
      "[[  9.68404104e-05   4.33076894e-04   1.74055521e-03  -5.72886801e-04\n",
      "   -1.06569825e-04   6.79021951e-04  -8.88159118e-04   9.95235582e-04\n",
      "   -8.76376421e-04  -7.04812326e-08  -1.20511613e-08  -1.28128384e-04\n",
      "   -3.50128357e-03  -1.14657080e-05   5.42877947e-08]]\n",
      "R^2 =  0.892130476908\n",
      "Cross Validation, CV = 10:\n",
      "[ 0.74193548  0.90752688  0.90204521  0.89989236  0.90527449  0.88912809\n",
      "  0.90527449  0.89116379  0.90517241  0.90193966]\n",
      "Unweighted Accuracy: 0.88 (+/- 0.10)\n"
     ]
    }
   ],
   "source": [
    "Alph_1 = 5\n",
    "\n",
    "#Ridge Regression\n",
    "lr_ridge = LogisticRegression(C=Alph_1,penalty='l2') \n",
    "fit_ridge = lr_ridge.fit(X, y)\n",
    "print('Coefficients')\n",
    "print(fit_ridge.coef_)\n",
    "print(\"R^2 = \",lr_ridge.score(X, y))\n",
    "score_ridge = cross_val_score(lr_ridge, X, y, cv=10)\n",
    "print(\"Cross Validation, CV = 10:\")\n",
    "print(score_ridge)\n",
    "print(\"Unweighted Accuracy: %0.2f (+/- %0.2f)\" % (score_ridge.mean(), score_ridge.std() * 2))"
   ]
  },
  {
   "cell_type": "markdown",
   "metadata": {},
   "source": [
    "**Lasso Regression**"
   ]
  },
  {
   "cell_type": "code",
   "execution_count": 69,
   "metadata": {},
   "outputs": [
    {
     "name": "stdout",
     "output_type": "stream",
     "text": [
      "Coefficients\n",
      "[[ -6.27193835e-02   4.89468711e-03  -8.70617073e-03  -5.13322821e-03\n",
      "   -1.45060079e-02   1.26539083e-03   7.98385754e-04  -3.21323951e-04\n",
      "   -2.14295025e-02   7.96550616e+02   0.00000000e+00  -1.00372363e+00\n",
      "   -7.35298294e-01   2.70857562e-05  -9.21260697e-08]]\n",
      "R^2 =  0.911077618689\n",
      "Cross Validation, CV = 10:\n",
      "[ 0.89784946  0.91505376  0.91173305  0.91280947  0.90742734  0.91065662\n",
      "  0.90742734  0.90625     0.89439655  0.91056034]\n",
      "Unweighted Accuracy: 0.91 (+/- 0.01)\n"
     ]
    }
   ],
   "source": [
    "Alph_1 = 5\n",
    "# Lasso Regression\n",
    "lr_lasso = LogisticRegression(C=Alph_1,penalty='l1')\n",
    "fit_lasso = lr_lasso.fit(X, y)\n",
    "print('Coefficients')\n",
    "print(fit_lasso.coef_)\n",
    "print(\"R^2 = \",lr_lasso.score(X, y))\n",
    "score_lass = cross_val_score(lr_lasso, X, y, cv=10)\n",
    "print(\"Cross Validation, CV = 10:\")\n",
    "print(score_lass)\n",
    "print(\"Unweighted Accuracy: %0.2f (+/- %0.2f)\" % (score_lass.mean(), score_lass.std() * 2))"
   ]
  },
  {
   "cell_type": "markdown",
   "metadata": {},
   "source": [
    "**Discussion**\n",
    "\n",
    "After reviewing all three models, it appears that lasso regression is the best model, which is due to its higher R^2 and average cross validation scores. A summary of these values is below: \n",
    "* Logistic Regression: R^2 = 0.892, Avg. CV = 0.88 +/- 0.09\n",
    "* Ridge Regression: R^2 = 0.892, Avg. CV = 0.88 +/- 0.12\n",
    "* Lasso Regression: R^2 = 0.911, Avg. CV = 0.91 +/- 0.01\n",
    "\n",
    "To build these models, features were chosen which were speculated to be related to the outcome variables of whether or not the city was safe (for the logistic regression model) or what the predicted property crime was per capita (for the ridge and lasso regression models).\n",
    "\n",
    "To assess the magnitude of the regularization parameter that should be used for each model, I first graphed the R^2 value against alpha for all three models. This allowed me to choose the smallest possible regularization parameter, thereby preventing overfitting in the model. Ultimately, the value of alpha that I ended up using for all three models is 5. All three models had decent performance, but the lasso model had the highest R^2 value and highest cross validation scores with minimal variance."
   ]
  }
 ],
 "metadata": {
  "kernelspec": {
   "display_name": "Python 3",
   "language": "python",
   "name": "python3"
  },
  "language_info": {
   "codemirror_mode": {
    "name": "ipython",
    "version": 3
   },
   "file_extension": ".py",
   "mimetype": "text/x-python",
   "name": "python",
   "nbconvert_exporter": "python",
   "pygments_lexer": "ipython3",
   "version": "3.5.2"
  }
 },
 "nbformat": 4,
 "nbformat_minor": 2
}
