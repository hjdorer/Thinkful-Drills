{
 "cells": [
  {
   "cell_type": "markdown",
   "metadata": {},
   "source": [
    "**Thinkful - 4.2.5 - Challenge - Boston Marathon (Clustering)**\n",
    "\n",
    "Use the tools at hand to:\n",
    "* Determine which clustering solution, including number of clusters and algorithm used, is best for the marathon data. \n",
    "* Once you have a solution you like, write a data story, including visualizations, where you teach the reader something about the Boston Marathon based on your clusters. \n",
    "* Write up your report, including your process from start to finish, in a Jupyter notebook and submit it."
   ]
  },
  {
   "cell_type": "code",
   "execution_count": 1,
   "metadata": {
    "collapsed": true
   },
   "outputs": [],
   "source": [
    "import numpy as np\n",
    "import pandas as pd\n",
    "import scipy\n",
    "import matplotlib.pyplot as plt\n",
    "import seaborn as sns\n",
    "import time\n",
    "import re\n",
    "\n",
    "from sklearn.cluster import KMeans\n",
    "from sklearn.cluster import MeanShift, estimate_bandwidth\n",
    "from sklearn.cluster import SpectralClustering\n",
    "from sklearn.cluster import AffinityPropagation\n",
    "from sklearn.preprocessing import normalize\n",
    "from sklearn.preprocessing import LabelEncoder, normalize\n",
    "from sklearn.decomposition import PCA\n",
    "from sklearn.cluster import MiniBatchKMeans\n",
    "from sklearn import metrics\n",
    "from itertools import cycle\n",
    "\n",
    "%matplotlib inline"
   ]
  },
  {
   "cell_type": "code",
   "execution_count": 2,
   "metadata": {},
   "outputs": [
    {
     "name": "stdout",
     "output_type": "stream",
     "text": [
      "8367\n"
     ]
    },
    {
     "data": {
      "text/html": [
       "<div>\n",
       "<style>\n",
       "    .dataframe thead tr:only-child th {\n",
       "        text-align: right;\n",
       "    }\n",
       "\n",
       "    .dataframe thead th {\n",
       "        text-align: left;\n",
       "    }\n",
       "\n",
       "    .dataframe tbody tr th {\n",
       "        vertical-align: top;\n",
       "    }\n",
       "</style>\n",
       "<table border=\"1\" class=\"dataframe\">\n",
       "  <thead>\n",
       "    <tr style=\"text-align: right;\">\n",
       "      <th></th>\n",
       "      <th>name</th>\n",
       "      <th>country</th>\n",
       "      <th>ctz</th>\n",
       "      <th>state</th>\n",
       "      <th>city</th>\n",
       "      <th>bib</th>\n",
       "      <th>gender</th>\n",
       "      <th>overall</th>\n",
       "      <th>division</th>\n",
       "      <th>genderdiv</th>\n",
       "      <th>...</th>\n",
       "      <th>5k</th>\n",
       "      <th>10k</th>\n",
       "      <th>20k</th>\n",
       "      <th>half</th>\n",
       "      <th>25k</th>\n",
       "      <th>30k</th>\n",
       "      <th>35k</th>\n",
       "      <th>40k</th>\n",
       "      <th>official</th>\n",
       "      <th>flag</th>\n",
       "    </tr>\n",
       "  </thead>\n",
       "  <tbody>\n",
       "    <tr>\n",
       "      <th>0</th>\n",
       "      <td>Van Dyk, Ernst F.</td>\n",
       "      <td>RSA</td>\n",
       "      <td>NaN</td>\n",
       "      <td>NaN</td>\n",
       "      <td>Paarl</td>\n",
       "      <td>W2</td>\n",
       "      <td>M</td>\n",
       "      <td>1.0</td>\n",
       "      <td>1</td>\n",
       "      <td>1</td>\n",
       "      <td>...</td>\n",
       "      <td>7.75</td>\n",
       "      <td>16.62</td>\n",
       "      <td>36.10</td>\n",
       "      <td>38.03</td>\n",
       "      <td>45.80</td>\n",
       "      <td>56.45</td>\n",
       "      <td>67.42</td>\n",
       "      <td>76.10</td>\n",
       "      <td>80.60</td>\n",
       "      <td>NaN</td>\n",
       "    </tr>\n",
       "    <tr>\n",
       "      <th>1</th>\n",
       "      <td>Keflezighi, Meb</td>\n",
       "      <td>USA</td>\n",
       "      <td>NaN</td>\n",
       "      <td>CA</td>\n",
       "      <td>San Diego</td>\n",
       "      <td>19</td>\n",
       "      <td>M</td>\n",
       "      <td>1.0</td>\n",
       "      <td>1</td>\n",
       "      <td>1</td>\n",
       "      <td>...</td>\n",
       "      <td>15.15</td>\n",
       "      <td>30.48</td>\n",
       "      <td>61.08</td>\n",
       "      <td>64.35</td>\n",
       "      <td>76.00</td>\n",
       "      <td>91.17</td>\n",
       "      <td>106.62</td>\n",
       "      <td>121.82</td>\n",
       "      <td>128.62</td>\n",
       "      <td>NaN</td>\n",
       "    </tr>\n",
       "    <tr>\n",
       "      <th>2</th>\n",
       "      <td>Hokinoue, Kota</td>\n",
       "      <td>JPN</td>\n",
       "      <td>NaN</td>\n",
       "      <td>NaN</td>\n",
       "      <td>Nogata Fukuoka</td>\n",
       "      <td>W3</td>\n",
       "      <td>M</td>\n",
       "      <td>2.0</td>\n",
       "      <td>2</td>\n",
       "      <td>2</td>\n",
       "      <td>...</td>\n",
       "      <td>8.02</td>\n",
       "      <td>17.12</td>\n",
       "      <td>36.58</td>\n",
       "      <td>38.60</td>\n",
       "      <td>46.37</td>\n",
       "      <td>57.03</td>\n",
       "      <td>67.83</td>\n",
       "      <td>76.72</td>\n",
       "      <td>81.23</td>\n",
       "      <td>NaN</td>\n",
       "    </tr>\n",
       "    <tr>\n",
       "      <th>3</th>\n",
       "      <td>Chebet, Wilson</td>\n",
       "      <td>KEN</td>\n",
       "      <td>NaN</td>\n",
       "      <td>NaN</td>\n",
       "      <td>Marakwet</td>\n",
       "      <td>7</td>\n",
       "      <td>M</td>\n",
       "      <td>2.0</td>\n",
       "      <td>2</td>\n",
       "      <td>2</td>\n",
       "      <td>...</td>\n",
       "      <td>15.18</td>\n",
       "      <td>30.52</td>\n",
       "      <td>61.63</td>\n",
       "      <td>64.87</td>\n",
       "      <td>76.97</td>\n",
       "      <td>92.52</td>\n",
       "      <td>107.47</td>\n",
       "      <td>121.95</td>\n",
       "      <td>128.80</td>\n",
       "      <td>NaN</td>\n",
       "    </tr>\n",
       "    <tr>\n",
       "      <th>4</th>\n",
       "      <td>Soejima, Masazumi</td>\n",
       "      <td>JPN</td>\n",
       "      <td>NaN</td>\n",
       "      <td>NaN</td>\n",
       "      <td>Isahaya</td>\n",
       "      <td>W6</td>\n",
       "      <td>M</td>\n",
       "      <td>3.0</td>\n",
       "      <td>3</td>\n",
       "      <td>3</td>\n",
       "      <td>...</td>\n",
       "      <td>8.00</td>\n",
       "      <td>17.12</td>\n",
       "      <td>36.60</td>\n",
       "      <td>38.60</td>\n",
       "      <td>46.37</td>\n",
       "      <td>57.03</td>\n",
       "      <td>67.83</td>\n",
       "      <td>76.70</td>\n",
       "      <td>81.23</td>\n",
       "      <td>NaN</td>\n",
       "    </tr>\n",
       "  </tbody>\n",
       "</table>\n",
       "<p>5 rows × 22 columns</p>\n",
       "</div>"
      ],
      "text/plain": [
       "                name country  ctz state            city bib gender  overall  \\\n",
       "0  Van Dyk, Ernst F.     RSA  NaN   NaN           Paarl  W2      M      1.0   \n",
       "1    Keflezighi, Meb     USA  NaN    CA       San Diego  19      M      1.0   \n",
       "2     Hokinoue, Kota     JPN  NaN   NaN  Nogata Fukuoka  W3      M      2.0   \n",
       "3     Chebet, Wilson     KEN  NaN   NaN        Marakwet   7      M      2.0   \n",
       "4  Soejima, Masazumi     JPN  NaN   NaN         Isahaya  W6      M      3.0   \n",
       "\n",
       "   division  genderdiv ...      5k    10k    20k   half    25k    30k     35k  \\\n",
       "0         1          1 ...    7.75  16.62  36.10  38.03  45.80  56.45   67.42   \n",
       "1         1          1 ...   15.15  30.48  61.08  64.35  76.00  91.17  106.62   \n",
       "2         2          2 ...    8.02  17.12  36.58  38.60  46.37  57.03   67.83   \n",
       "3         2          2 ...   15.18  30.52  61.63  64.87  76.97  92.52  107.47   \n",
       "4         3          3 ...    8.00  17.12  36.60  38.60  46.37  57.03   67.83   \n",
       "\n",
       "      40k official flag  \n",
       "0   76.10    80.60  NaN  \n",
       "1  121.82   128.62  NaN  \n",
       "2   76.72    81.23  NaN  \n",
       "3  121.95   128.80  NaN  \n",
       "4   76.70    81.23  NaN  \n",
       "\n",
       "[5 rows x 22 columns]"
      ]
     },
     "execution_count": 2,
     "metadata": {},
     "output_type": "execute_result"
    }
   ],
   "source": [
    "df = pd.read_csv(\"Data/Boston Marathon.csv\",encoding='latin1')\n",
    "\n",
    "print(len(df))\n",
    "df.head()"
   ]
  },
  {
   "cell_type": "markdown",
   "metadata": {},
   "source": [
    "**Data Cleaning and Feature Engineering**"
   ]
  },
  {
   "cell_type": "code",
   "execution_count": 3,
   "metadata": {},
   "outputs": [
    {
     "data": {
      "text/plain": [
       "(8367, 22)"
      ]
     },
     "execution_count": 3,
     "metadata": {},
     "output_type": "execute_result"
    }
   ],
   "source": [
    "df.shape"
   ]
  },
  {
   "cell_type": "code",
   "execution_count": 4,
   "metadata": {},
   "outputs": [
    {
     "data": {
      "text/plain": [
       "name            0\n",
       "country         1\n",
       "ctz          7914\n",
       "state         915\n",
       "city            1\n",
       "bib             0\n",
       "gender          0\n",
       "overall         1\n",
       "division        0\n",
       "genderdiv       0\n",
       "age             0\n",
       "pace            1\n",
       "5k              1\n",
       "10k             0\n",
       "20k             1\n",
       "half            1\n",
       "25k             0\n",
       "30k             1\n",
       "35k             1\n",
       "40k             1\n",
       "official        0\n",
       "flag         8366\n",
       "dtype: int64"
      ]
     },
     "execution_count": 4,
     "metadata": {},
     "output_type": "execute_result"
    }
   ],
   "source": [
    "df.isnull().sum()"
   ]
  },
  {
   "cell_type": "code",
   "execution_count": 5,
   "metadata": {},
   "outputs": [
    {
     "name": "stdout",
     "output_type": "stream",
     "text": [
      "(8345, 17)\n"
     ]
    },
    {
     "data": {
      "text/plain": [
       "country      1\n",
       "bib          0\n",
       "gender       0\n",
       "overall      1\n",
       "division     0\n",
       "genderdiv    0\n",
       "age          0\n",
       "pace         1\n",
       "5k           1\n",
       "10k          0\n",
       "20k          1\n",
       "half         1\n",
       "25k          0\n",
       "30k          1\n",
       "35k          1\n",
       "40k          1\n",
       "official     0\n",
       "dtype: int64"
      ]
     },
     "execution_count": 5,
     "metadata": {},
     "output_type": "execute_result"
    }
   ],
   "source": [
    "# Drop columns missing vast amounts of data\n",
    "df = df.drop(['name','ctz','state','flag','city'],axis=1)\n",
    "\n",
    "# Remove rows with hyphens and null values\n",
    "df = df[~((df['5k'] == '-' ) | (df['10k'] == '-' ) | (df['20k'] == '-' ) | (df['half'] == '-' ) | \n",
    "            (df['25k'] == '-' )| (df['30k'] == '-' ) | (df['35k'] == '-' ) | (df['40k'] == '-' ))]\n",
    "\n",
    "# Drop null values\n",
    "#df = df.dropna()\n",
    "#df.drop([2731],axis = 'index')\n",
    "\n",
    "#Rearrange columns\n",
    "df = df[['country','bib','gender','overall','division','genderdiv','age','pace','5k','10k',\n",
    "         '20k','half','25k','30k','35k','40k','official']]\n",
    "\n",
    "print(df.shape)\n",
    "df.isnull().sum()"
   ]
  },
  {
   "cell_type": "code",
   "execution_count": 6,
   "metadata": {},
   "outputs": [
    {
     "name": "stdout",
     "output_type": "stream",
     "text": [
      "(8344, 17)\n"
     ]
    }
   ],
   "source": [
    "# Drop null values\n",
    "df.dropna(inplace=True)\n",
    "#df.drop([2731],axis = 'index')\n",
    "print(df.shape)"
   ]
  },
  {
   "cell_type": "code",
   "execution_count": 7,
   "metadata": {},
   "outputs": [
    {
     "data": {
      "text/plain": [
       "country       object\n",
       "bib           object\n",
       "gender        object\n",
       "overall      float64\n",
       "division       int64\n",
       "genderdiv      int64\n",
       "age            int64\n",
       "pace         float64\n",
       "5k            object\n",
       "10k           object\n",
       "20k           object\n",
       "half          object\n",
       "25k           object\n",
       "30k           object\n",
       "35k           object\n",
       "40k           object\n",
       "official     float64\n",
       "dtype: object"
      ]
     },
     "execution_count": 7,
     "metadata": {},
     "output_type": "execute_result"
    }
   ],
   "source": [
    "df.dtypes"
   ]
  },
  {
   "cell_type": "code",
   "execution_count": 8,
   "metadata": {},
   "outputs": [
    {
     "name": "stdout",
     "output_type": "stream",
     "text": [
      "country       object\n",
      "bib           object\n",
      "gender        object\n",
      "overall      float64\n",
      "division       int64\n",
      "genderdiv      int64\n",
      "age            int64\n",
      "pace         float64\n",
      "5k           float64\n",
      "10k          float64\n",
      "20k          float64\n",
      "half         float64\n",
      "25k          float64\n",
      "30k          float64\n",
      "35k          float64\n",
      "40k          float64\n",
      "official     float64\n",
      "dtype: object\n"
     ]
    },
    {
     "data": {
      "text/html": [
       "<div>\n",
       "<style>\n",
       "    .dataframe thead tr:only-child th {\n",
       "        text-align: right;\n",
       "    }\n",
       "\n",
       "    .dataframe thead th {\n",
       "        text-align: left;\n",
       "    }\n",
       "\n",
       "    .dataframe tbody tr th {\n",
       "        vertical-align: top;\n",
       "    }\n",
       "</style>\n",
       "<table border=\"1\" class=\"dataframe\">\n",
       "  <thead>\n",
       "    <tr style=\"text-align: right;\">\n",
       "      <th></th>\n",
       "      <th>country</th>\n",
       "      <th>bib</th>\n",
       "      <th>gender</th>\n",
       "      <th>overall</th>\n",
       "      <th>division</th>\n",
       "      <th>genderdiv</th>\n",
       "      <th>age</th>\n",
       "      <th>pace</th>\n",
       "      <th>5k</th>\n",
       "      <th>10k</th>\n",
       "      <th>20k</th>\n",
       "      <th>half</th>\n",
       "      <th>25k</th>\n",
       "      <th>30k</th>\n",
       "      <th>35k</th>\n",
       "      <th>40k</th>\n",
       "      <th>official</th>\n",
       "    </tr>\n",
       "  </thead>\n",
       "  <tbody>\n",
       "    <tr>\n",
       "      <th>0</th>\n",
       "      <td>RSA</td>\n",
       "      <td>W2</td>\n",
       "      <td>M</td>\n",
       "      <td>1.0</td>\n",
       "      <td>1</td>\n",
       "      <td>1</td>\n",
       "      <td>41</td>\n",
       "      <td>3.08</td>\n",
       "      <td>7.75</td>\n",
       "      <td>16.62</td>\n",
       "      <td>36.10</td>\n",
       "      <td>38.03</td>\n",
       "      <td>45.80</td>\n",
       "      <td>56.45</td>\n",
       "      <td>67.42</td>\n",
       "      <td>76.10</td>\n",
       "      <td>80.60</td>\n",
       "    </tr>\n",
       "    <tr>\n",
       "      <th>1</th>\n",
       "      <td>USA</td>\n",
       "      <td>19</td>\n",
       "      <td>M</td>\n",
       "      <td>1.0</td>\n",
       "      <td>1</td>\n",
       "      <td>1</td>\n",
       "      <td>38</td>\n",
       "      <td>4.92</td>\n",
       "      <td>15.15</td>\n",
       "      <td>30.48</td>\n",
       "      <td>61.08</td>\n",
       "      <td>64.35</td>\n",
       "      <td>76.00</td>\n",
       "      <td>91.17</td>\n",
       "      <td>106.62</td>\n",
       "      <td>121.82</td>\n",
       "      <td>128.62</td>\n",
       "    </tr>\n",
       "    <tr>\n",
       "      <th>2</th>\n",
       "      <td>JPN</td>\n",
       "      <td>W3</td>\n",
       "      <td>M</td>\n",
       "      <td>2.0</td>\n",
       "      <td>2</td>\n",
       "      <td>2</td>\n",
       "      <td>40</td>\n",
       "      <td>3.10</td>\n",
       "      <td>8.02</td>\n",
       "      <td>17.12</td>\n",
       "      <td>36.58</td>\n",
       "      <td>38.60</td>\n",
       "      <td>46.37</td>\n",
       "      <td>57.03</td>\n",
       "      <td>67.83</td>\n",
       "      <td>76.72</td>\n",
       "      <td>81.23</td>\n",
       "    </tr>\n",
       "    <tr>\n",
       "      <th>3</th>\n",
       "      <td>KEN</td>\n",
       "      <td>7</td>\n",
       "      <td>M</td>\n",
       "      <td>2.0</td>\n",
       "      <td>2</td>\n",
       "      <td>2</td>\n",
       "      <td>28</td>\n",
       "      <td>4.92</td>\n",
       "      <td>15.18</td>\n",
       "      <td>30.52</td>\n",
       "      <td>61.63</td>\n",
       "      <td>64.87</td>\n",
       "      <td>76.97</td>\n",
       "      <td>92.52</td>\n",
       "      <td>107.47</td>\n",
       "      <td>121.95</td>\n",
       "      <td>128.80</td>\n",
       "    </tr>\n",
       "    <tr>\n",
       "      <th>4</th>\n",
       "      <td>JPN</td>\n",
       "      <td>W6</td>\n",
       "      <td>M</td>\n",
       "      <td>3.0</td>\n",
       "      <td>3</td>\n",
       "      <td>3</td>\n",
       "      <td>43</td>\n",
       "      <td>3.10</td>\n",
       "      <td>8.00</td>\n",
       "      <td>17.12</td>\n",
       "      <td>36.60</td>\n",
       "      <td>38.60</td>\n",
       "      <td>46.37</td>\n",
       "      <td>57.03</td>\n",
       "      <td>67.83</td>\n",
       "      <td>76.70</td>\n",
       "      <td>81.23</td>\n",
       "    </tr>\n",
       "  </tbody>\n",
       "</table>\n",
       "</div>"
      ],
      "text/plain": [
       "  country bib gender  overall  division  genderdiv  age  pace     5k    10k  \\\n",
       "0     RSA  W2      M      1.0         1          1   41  3.08   7.75  16.62   \n",
       "1     USA  19      M      1.0         1          1   38  4.92  15.15  30.48   \n",
       "2     JPN  W3      M      2.0         2          2   40  3.10   8.02  17.12   \n",
       "3     KEN   7      M      2.0         2          2   28  4.92  15.18  30.52   \n",
       "4     JPN  W6      M      3.0         3          3   43  3.10   8.00  17.12   \n",
       "\n",
       "     20k   half    25k    30k     35k     40k  official  \n",
       "0  36.10  38.03  45.80  56.45   67.42   76.10     80.60  \n",
       "1  61.08  64.35  76.00  91.17  106.62  121.82    128.62  \n",
       "2  36.58  38.60  46.37  57.03   67.83   76.72     81.23  \n",
       "3  61.63  64.87  76.97  92.52  107.47  121.95    128.80  \n",
       "4  36.60  38.60  46.37  57.03   67.83   76.70     81.23  "
      ]
     },
     "execution_count": 8,
     "metadata": {},
     "output_type": "execute_result"
    }
   ],
   "source": [
    "# Convert numerical variables\n",
    "df[['5k','10k','20k','half','25k','30k','35k','40k']] = df[['5k','10k','20k','half','25k','30k','35k',\n",
    "                                                            '40k']].apply(pd.to_numeric, errors='coerce')\n",
    "\n",
    "print(df.dtypes)\n",
    "df.head()"
   ]
  },
  {
   "cell_type": "code",
   "execution_count": 9,
   "metadata": {},
   "outputs": [
    {
     "name": "stdout",
     "output_type": "stream",
     "text": [
      "(8344, 16)\n"
     ]
    },
    {
     "data": {
      "text/html": [
       "<div>\n",
       "<style>\n",
       "    .dataframe thead tr:only-child th {\n",
       "        text-align: right;\n",
       "    }\n",
       "\n",
       "    .dataframe thead th {\n",
       "        text-align: left;\n",
       "    }\n",
       "\n",
       "    .dataframe tbody tr th {\n",
       "        vertical-align: top;\n",
       "    }\n",
       "</style>\n",
       "<table border=\"1\" class=\"dataframe\">\n",
       "  <thead>\n",
       "    <tr style=\"text-align: right;\">\n",
       "      <th></th>\n",
       "      <th>country</th>\n",
       "      <th>gender</th>\n",
       "      <th>overall</th>\n",
       "      <th>division</th>\n",
       "      <th>genderdiv</th>\n",
       "      <th>age</th>\n",
       "      <th>pace</th>\n",
       "      <th>5k</th>\n",
       "      <th>10k</th>\n",
       "      <th>20k</th>\n",
       "      <th>half</th>\n",
       "      <th>25k</th>\n",
       "      <th>30k</th>\n",
       "      <th>35k</th>\n",
       "      <th>40k</th>\n",
       "      <th>official</th>\n",
       "    </tr>\n",
       "  </thead>\n",
       "  <tbody>\n",
       "    <tr>\n",
       "      <th>0</th>\n",
       "      <td>0</td>\n",
       "      <td>1</td>\n",
       "      <td>1.0</td>\n",
       "      <td>1</td>\n",
       "      <td>1</td>\n",
       "      <td>41</td>\n",
       "      <td>3.08</td>\n",
       "      <td>7.75</td>\n",
       "      <td>16.62</td>\n",
       "      <td>36.10</td>\n",
       "      <td>38.03</td>\n",
       "      <td>45.80</td>\n",
       "      <td>56.45</td>\n",
       "      <td>67.42</td>\n",
       "      <td>76.10</td>\n",
       "      <td>80.60</td>\n",
       "    </tr>\n",
       "    <tr>\n",
       "      <th>1</th>\n",
       "      <td>1</td>\n",
       "      <td>1</td>\n",
       "      <td>1.0</td>\n",
       "      <td>1</td>\n",
       "      <td>1</td>\n",
       "      <td>38</td>\n",
       "      <td>4.92</td>\n",
       "      <td>15.15</td>\n",
       "      <td>30.48</td>\n",
       "      <td>61.08</td>\n",
       "      <td>64.35</td>\n",
       "      <td>76.00</td>\n",
       "      <td>91.17</td>\n",
       "      <td>106.62</td>\n",
       "      <td>121.82</td>\n",
       "      <td>128.62</td>\n",
       "    </tr>\n",
       "    <tr>\n",
       "      <th>2</th>\n",
       "      <td>0</td>\n",
       "      <td>1</td>\n",
       "      <td>2.0</td>\n",
       "      <td>2</td>\n",
       "      <td>2</td>\n",
       "      <td>40</td>\n",
       "      <td>3.10</td>\n",
       "      <td>8.02</td>\n",
       "      <td>17.12</td>\n",
       "      <td>36.58</td>\n",
       "      <td>38.60</td>\n",
       "      <td>46.37</td>\n",
       "      <td>57.03</td>\n",
       "      <td>67.83</td>\n",
       "      <td>76.72</td>\n",
       "      <td>81.23</td>\n",
       "    </tr>\n",
       "    <tr>\n",
       "      <th>3</th>\n",
       "      <td>0</td>\n",
       "      <td>1</td>\n",
       "      <td>2.0</td>\n",
       "      <td>2</td>\n",
       "      <td>2</td>\n",
       "      <td>28</td>\n",
       "      <td>4.92</td>\n",
       "      <td>15.18</td>\n",
       "      <td>30.52</td>\n",
       "      <td>61.63</td>\n",
       "      <td>64.87</td>\n",
       "      <td>76.97</td>\n",
       "      <td>92.52</td>\n",
       "      <td>107.47</td>\n",
       "      <td>121.95</td>\n",
       "      <td>128.80</td>\n",
       "    </tr>\n",
       "    <tr>\n",
       "      <th>4</th>\n",
       "      <td>0</td>\n",
       "      <td>1</td>\n",
       "      <td>3.0</td>\n",
       "      <td>3</td>\n",
       "      <td>3</td>\n",
       "      <td>43</td>\n",
       "      <td>3.10</td>\n",
       "      <td>8.00</td>\n",
       "      <td>17.12</td>\n",
       "      <td>36.60</td>\n",
       "      <td>38.60</td>\n",
       "      <td>46.37</td>\n",
       "      <td>57.03</td>\n",
       "      <td>67.83</td>\n",
       "      <td>76.70</td>\n",
       "      <td>81.23</td>\n",
       "    </tr>\n",
       "  </tbody>\n",
       "</table>\n",
       "</div>"
      ],
      "text/plain": [
       "   country  gender  overall  division  genderdiv  age  pace     5k    10k  \\\n",
       "0        0       1      1.0         1          1   41  3.08   7.75  16.62   \n",
       "1        1       1      1.0         1          1   38  4.92  15.15  30.48   \n",
       "2        0       1      2.0         2          2   40  3.10   8.02  17.12   \n",
       "3        0       1      2.0         2          2   28  4.92  15.18  30.52   \n",
       "4        0       1      3.0         3          3   43  3.10   8.00  17.12   \n",
       "\n",
       "     20k   half    25k    30k     35k     40k  official  \n",
       "0  36.10  38.03  45.80  56.45   67.42   76.10     80.60  \n",
       "1  61.08  64.35  76.00  91.17  106.62  121.82    128.62  \n",
       "2  36.58  38.60  46.37  57.03   67.83   76.72     81.23  \n",
       "3  61.63  64.87  76.97  92.52  107.47  121.95    128.80  \n",
       "4  36.60  38.60  46.37  57.03   67.83   76.70     81.23  "
      ]
     },
     "execution_count": 9,
     "metadata": {},
     "output_type": "execute_result"
    }
   ],
   "source": [
    "'''# Create category for wheelchair users and visually impaired\n",
    "wheelchair = []\n",
    "vis_imp = []\n",
    "bib = df['bib']\n",
    "for i in range(len(bib)):\n",
    "    if (re.search('W' , bib[i])):\n",
    "        wheelchair.append(1)\n",
    "        vis_imp.append(0)\n",
    "    elif (re.search('F' , bib[i])):\n",
    "        wheelchair.append(0)\n",
    "        vis_imp.append(1)\n",
    "    else:\n",
    "        wheelchair.append(0)\n",
    "        vis_imp.append(0)\n",
    "\n",
    "df['Wheelchair'] = pd.Series(wheelchair, index=df.index)\n",
    "df['Visually Impaired'] = pd.Series(vis_imp, index=df.index)'''\n",
    "\n",
    "# Convert categories to integers\n",
    "df['gender']= df['gender'].apply(lambda x: 1 if x == 'M' else 0)\n",
    "df['country']= df['country'].apply(lambda x: 1 if x == 'USA' else 0)\n",
    "\n",
    "df = df.drop(['bib'],axis=1)\n",
    "print(df.shape)\n",
    "\n",
    "df.head(5)"
   ]
  },
  {
   "cell_type": "markdown",
   "metadata": {
    "collapsed": true
   },
   "source": [
    "**Cluster Exploration**\n",
    "\n",
    "I attempted to model two different outcome variables: gender (male vs. female) and nationality (USA vs. non-USA). \n",
    "\n",
    "For both models, I plotted the data using K-means, minibatch K-means, and mean shifting. The clustering was not ideal. For example, for the gender prediction models, we can visually see that there is a clear trend for males vs. females when plotting division placement vs. overall time, however, rather than clustering based on gender, all three models segmented both lines and clustered based on time. Ideally, there wouldn't be any shared colors between both trendlines. Although the outcome clustering was not ideal, it makes sense for these three models, as they tend to cluster based on proximity.\n",
    "\n",
    "A spectral clustering model may have been able to more accurately cluster the data, since it tends to cluster based on how similar two points are, however, when I attempted to model using spectral clustering the model was taking excessive time to run (in the realm of hours) without outputting any results and therefore I abandoned those efforts. I experienced a similar result when attempting affinity propogation."
   ]
  },
  {
   "cell_type": "code",
   "execution_count": 10,
   "metadata": {
    "collapsed": true
   },
   "outputs": [],
   "source": [
    "X = df.drop(['gender'],axis=1)\n",
    "y = df['gender']"
   ]
  },
  {
   "cell_type": "code",
   "execution_count": 11,
   "metadata": {},
   "outputs": [
    {
     "name": "stdout",
     "output_type": "stream",
     "text": [
      "K-MEANS\n",
      "Comparing k-means clusters against the data:\n",
      "gender    0     1\n",
      "row_0            \n",
      "0       488  3178\n",
      "1        88  1268\n",
      "2       289  2652\n",
      "3        20   361\n",
      "Rand Score =  -0.0148666470671\n"
     ]
    },
    {
     "data": {
      "image/png": "[encoded data removed]",
      "text/plain": [
       "<matplotlib.figure.Figure at 0x10af7b898>"
      ]
     },
     "metadata": {},
     "output_type": "display_data"
    }
   ],
   "source": [
    "print(\"K-MEANS\")\n",
    "# Calculate predicted values.\n",
    "y_pred = KMeans(n_clusters=4).fit_predict(X)\n",
    "\n",
    "# Check the solution against the data.\n",
    "print('Comparing k-means clusters against the data:')\n",
    "print(pd.crosstab(y_pred, y))\n",
    "print(\"Rand Score = \",metrics.adjusted_rand_score(y, y_pred))\n",
    "\n",
    "# Plot the solution.\n",
    "plt.scatter(x = df['official'], y = df['genderdiv'], c = y_pred)\n",
    "plt.xlabel('Official time')\n",
    "plt.ylabel('Gender Division')\n",
    "plt.title('Gender Division v Official Time')\n",
    "plt.grid(True)\n",
    "plt.show()"
   ]
  },
  {
   "cell_type": "code",
   "execution_count": 12,
   "metadata": {},
   "outputs": [
    {
     "name": "stdout",
     "output_type": "stream",
     "text": [
      "\n",
      "Minibatch K-MEANS\n",
      "Comparing k-means clusters against the data:\n",
      "gender    0     1\n",
      "row_0            \n",
      "0       150  1996\n",
      "1        51   862\n",
      "2       384  2310\n",
      "3       300  2291\n",
      "Rand Score =  -0.00702647943473\n"
     ]
    },
    {
     "data": {
      "image/png": "[encoded data removed]",
      "text/plain": [
       "<matplotlib.figure.Figure at 0x10483f4a8>"
      ]
     },
     "metadata": {},
     "output_type": "display_data"
    }
   ],
   "source": [
    "print(\"\\nMinibatch K-MEANS\")\n",
    "# Calculate predicted values.\n",
    "minibatchkmeans = MiniBatchKMeans(init='random',n_clusters=4,batch_size=200)\n",
    "minibatchkmeans.fit(X)\n",
    "predict_mini = minibatchkmeans.predict(X)\n",
    "\n",
    "# Check the solution against the data.\n",
    "print('Comparing k-means clusters against the data:')\n",
    "print(pd.crosstab(predict_mini,y))\n",
    "print(\"Rand Score = \",metrics.adjusted_rand_score(y, predict_mini))\n",
    "\n",
    "# Plot the solution.\n",
    "plt.scatter(x = df['official'], y = df['genderdiv'], c = predict_mini)\n",
    "plt.xlabel('Official time')\n",
    "plt.ylabel('Gender Division')\n",
    "plt.title('Gender Division v Official Time')\n",
    "plt.grid(True)\n",
    "plt.show()"
   ]
  },
  {
   "cell_type": "code",
   "execution_count": 13,
   "metadata": {},
   "outputs": [
    {
     "name": "stdout",
     "output_type": "stream",
     "text": [
      "\n",
      "MEAN SHIFT\n",
      "Number of estimated clusters: 3\n",
      "Comparing k-means clusters against the data:\n",
      "gender    0     1\n",
      "row_0            \n",
      "0       807  6420\n",
      "1        74   931\n",
      "2         4   108\n",
      "Rand Score =  -0.0344770186782\n"
     ]
    },
    {
     "data": {
      "image/png": "[encoded data removed]",
      "text/plain": [
       "<matplotlib.figure.Figure at 0x10b8a1278>"
      ]
     },
     "metadata": {},
     "output_type": "display_data"
    }
   ],
   "source": [
    "print(\"\\nMEAN SHIFT\")\n",
    "\n",
    "# Here we set the bandwidth. This function automatically derives a bandwidth\n",
    "# number based on an inspection of the distances among points in the data.\n",
    "bandwidth = estimate_bandwidth(X, quantile=0.2, n_samples=500)\n",
    "\n",
    "# Declare and fit the model.\n",
    "ms = MeanShift(bandwidth=bandwidth, bin_seeding=True)\n",
    "ms.fit(X)\n",
    "\n",
    "# Extract cluster assignments for each data point.\n",
    "labels = ms.labels_\n",
    "\n",
    "# Coordinates of the cluster centers.\n",
    "cluster_centers = ms.cluster_centers_\n",
    "\n",
    "# Count our clusters.\n",
    "n_clusters_ = len(np.unique(labels))\n",
    "\n",
    "print(\"Number of estimated clusters: {}\".format(n_clusters_))\n",
    "\n",
    "# Check the solution against the data.\n",
    "print('Comparing k-means clusters against the data:')\n",
    "print(pd.crosstab(labels, y))\n",
    "print(\"Rand Score = \",metrics.adjusted_rand_score(y, labels))\n",
    "\n",
    "plt.scatter(x = df['official'], y = df['genderdiv'], c = labels)\n",
    "plt.xlabel('Official time')\n",
    "plt.ylabel('Gender Division')\n",
    "plt.title('Gender Division v Official Time')\n",
    "plt.grid(True)\n",
    "plt.show()"
   ]
  },
  {
   "cell_type": "markdown",
   "metadata": {
    "collapsed": true
   },
   "source": [
    "**USA vs. Non-USA**\n",
    "\n",
    "Again, the clustering for this model was not ideal, however, I wouldn't expect to see any significant clustering based on nationality with only two groups (USA vs. Non-USA). We can visually see that there is a clear trend for each division, but the all three models segmented the trendlines lines and clustered based on time/division ranking. Although the outcome clustering was not ideal, it makes sense for these three models, as they tend to cluster based on proximity."
   ]
  },
  {
   "cell_type": "code",
   "execution_count": 38,
   "metadata": {
    "collapsed": true
   },
   "outputs": [],
   "source": [
    "X = df.drop(['country'],axis=1)\n",
    "y = df['country']"
   ]
  },
  {
   "cell_type": "code",
   "execution_count": 34,
   "metadata": {},
   "outputs": [
    {
     "name": "stdout",
     "output_type": "stream",
     "text": [
      "K-MEANS\n",
      "Comparing k-means clusters against the data:\n",
      "country    0     1\n",
      "row_0             \n",
      "0        563  2231\n",
      "1        846  3978\n",
      "2        132   594\n",
      "Rand Score =  0.00646592851258\n"
     ]
    },
    {
     "data": {
      "image/png": "[encoded data removed]",
      "text/plain": [
       "<matplotlib.figure.Figure at 0x10d8e9940>"
      ]
     },
     "metadata": {},
     "output_type": "display_data"
    }
   ],
   "source": [
    "print(\"K-MEANS\")\n",
    "# Calculate predicted values.\n",
    "y_pred = KMeans(n_clusters=3).fit_predict(X)\n",
    "\n",
    "# Check the solution against the data.\n",
    "print('Comparing k-means clusters against the data:')\n",
    "print(pd.crosstab(y_pred, y))\n",
    "print(\"Rand Score = \",metrics.adjusted_rand_score(y, y_pred))\n",
    "\n",
    "# Plot the solution.\n",
    "plt.scatter(x = df['official'], y = df['division'], c = y_pred)\n",
    "plt.xlabel('Official time')\n",
    "plt.ylabel('Division')\n",
    "plt.title('Division v Official Time')\n",
    "plt.grid(True)\n",
    "plt.show()"
   ]
  },
  {
   "cell_type": "code",
   "execution_count": 36,
   "metadata": {},
   "outputs": [
    {
     "name": "stdout",
     "output_type": "stream",
     "text": [
      "\n",
      "Minibatch K-MEANS\n",
      "Comparing k-means clusters against the data:\n",
      "country    0     1\n",
      "row_0             \n",
      "0        512  2046\n",
      "1        883  4104\n",
      "2        146   653\n",
      "Rand Score =  0.00655472871172\n"
     ]
    },
    {
     "data": {
      "image/png": "[encoded data removed]",
      "text/plain": [
       "<matplotlib.figure.Figure at 0x10b51f4e0>"
      ]
     },
     "metadata": {},
     "output_type": "display_data"
    }
   ],
   "source": [
    "print(\"\\nMinibatch K-MEANS\")\n",
    "# Calculate predicted values.\n",
    "minibatchkmeans = MiniBatchKMeans(init='random',n_clusters=3,batch_size=200)\n",
    "minibatchkmeans.fit(X)\n",
    "predict_mini = minibatchkmeans.predict(X)\n",
    "\n",
    "# Check the solution against the data.\n",
    "print('Comparing k-means clusters against the data:')\n",
    "print(pd.crosstab(predict_mini,y))\n",
    "print(\"Rand Score = \",metrics.adjusted_rand_score(y, predict_mini))\n",
    "\n",
    "# Plot the solution.\n",
    "plt.scatter(x = df['official'], y = df['division'], c = predict_mini)\n",
    "plt.xlabel('Official time')\n",
    "plt.ylabel('Division')\n",
    "plt.title('Division v Official Time')\n",
    "plt.grid(True)\n",
    "plt.show()"
   ]
  },
  {
   "cell_type": "code",
   "execution_count": 37,
   "metadata": {},
   "outputs": [
    {
     "name": "stdout",
     "output_type": "stream",
     "text": [
      "\n",
      "MEAN SHIFT\n",
      "Number of estimated clusters: 3\n",
      "Comparing k-means clusters against the data:\n",
      "country     0     1\n",
      "row_0              \n",
      "0        1332  5895\n",
      "1         189   816\n",
      "2          20    92\n",
      "Rand Score =  0.00145080614185\n"
     ]
    },
    {
     "data": {
      "image/png": "[encoded data removed]",
      "text/plain": [
       "<matplotlib.figure.Figure at 0x10dac4828>"
      ]
     },
     "metadata": {},
     "output_type": "display_data"
    }
   ],
   "source": [
    "print(\"\\nMEAN SHIFT\")\n",
    "\n",
    "# Here we set the bandwidth. This function automatically derives a bandwidth\n",
    "# number based on an inspection of the distances among points in the data.\n",
    "bandwidth = estimate_bandwidth(X, quantile=0.2, n_samples=500)\n",
    "\n",
    "# Declare and fit the model.\n",
    "ms = MeanShift(bandwidth=bandwidth, bin_seeding=True)\n",
    "ms.fit(X)\n",
    "\n",
    "# Extract cluster assignments for each data point.\n",
    "labels = ms.labels_\n",
    "\n",
    "# Coordinates of the cluster centers.\n",
    "cluster_centers = ms.cluster_centers_\n",
    "\n",
    "# Count our clusters.\n",
    "n_clusters_ = len(np.unique(labels))\n",
    "\n",
    "print(\"Number of estimated clusters: {}\".format(n_clusters_))\n",
    "\n",
    "# Check the solution against the data.\n",
    "print('Comparing k-means clusters against the data:')\n",
    "print(pd.crosstab(labels, y))\n",
    "print(\"Rand Score = \",metrics.adjusted_rand_score(y, labels))\n",
    "\n",
    "plt.scatter(x = df['official'], y = df['division'], c = labels)\n",
    "plt.xlabel('Official time')\n",
    "plt.ylabel('Division')\n",
    "plt.title('Division v Official Time')\n",
    "plt.grid(True)\n",
    "plt.show()"
   ]
  },
  {
   "cell_type": "markdown",
   "metadata": {},
   "source": [
    "After plotting this data and attempting to find clusters, I discovered that:\n",
    "* More men compete in the Boston marathon than women.\n",
    "* Overall, men are faster runners than women (for a man and woman who finished at the same place in their division, the man had a time which was about 25 minutes faster than the woman's), which was expected, however, the slowest runners are also men, which was unexpected.\n",
    "* Different models are more appropriate for clustering different types of data."
   ]
  }
 ],
 "metadata": {
  "kernelspec": {
   "display_name": "Python 3",
   "language": "python",
   "name": "python3"
  },
  "language_info": {
   "codemirror_mode": {
    "name": "ipython",
    "version": 3
   },
   "file_extension": ".py",
   "mimetype": "text/x-python",
   "name": "python",
   "nbconvert_exporter": "python",
   "pygments_lexer": "ipython3",
   "version": "3.5.2"
  }
 },
 "nbformat": 4,
 "nbformat_minor": 2
}
