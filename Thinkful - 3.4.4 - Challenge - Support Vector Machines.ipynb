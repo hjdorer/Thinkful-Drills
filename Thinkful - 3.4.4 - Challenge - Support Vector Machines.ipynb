{
 "cells": [
  {
   "cell_type": "markdown",
   "metadata": {},
   "source": [
    "**Thinkful - 3.4.4 - Challenge - Support Vector Machines**\n",
    "* Transform this regression problem into a binary classifier\n",
    "* Cut your feature set down to the 30 most valuable features\n",
    "* Take a moment to think about bias. Is there anything in this dataset that makes you think it could be biased, perhaps extremely so?"
   ]
  },
  {
   "cell_type": "code",
   "execution_count": 1,
   "metadata": {},
   "outputs": [
    {
     "data": {
      "image/png": "[encoded data removed]",
      "text/plain": [
       "<matplotlib.figure.Figure at 0x1047407f0>"
      ]
     },
     "metadata": {},
     "output_type": "display_data"
    },
    {
     "data": {
      "text/plain": [
       "calories    4117\n",
       "protein     4162\n",
       "fat         4183\n",
       "sodium      4119\n",
       "dtype: int64"
      ]
     },
     "execution_count": 1,
     "metadata": {},
     "output_type": "execute_result"
    }
   ],
   "source": [
    "import numpy as np\n",
    "import pandas as pd\n",
    "import scipy\n",
    "import matplotlib.pyplot as plt\n",
    "import seaborn as sns\n",
    "from sklearn.svm import SVR\n",
    "from sklearn.model_selection import cross_val_score\n",
    "%matplotlib inline\n",
    "\n",
    "raw_data = pd.read_csv('Data/epi_r.csv')\n",
    "\n",
    "raw_data.rating.describe()\n",
    "\n",
    "raw_data.rating.hist(bins=20)\n",
    "plt.title('Histogram of Recipe Ratings')\n",
    "plt.show()\n",
    "\n",
    "# Count nulls \n",
    "null_count = raw_data.isnull().sum()\n",
    "null_count[null_count>0]"
   ]
  },
  {
   "cell_type": "code",
   "execution_count": 2,
   "metadata": {},
   "outputs": [
    {
     "data": {
      "text/plain": [
       "array([ 0.01818511,  0.026411  ,  0.03037705,  0.01957949,  0.02451197])"
      ]
     },
     "execution_count": 2,
     "metadata": {},
     "output_type": "execute_result"
    }
   ],
   "source": [
    "svr = SVR()\n",
    "X = raw_data.drop(['rating', 'title', 'calories', 'protein', 'fat', 'sodium'], 1)\n",
    "Y = raw_data.rating\n",
    "svr.fit(X,Y)\n",
    "\n",
    "svr.score(X, Y)\n",
    "cross_val_score(svr, X, Y, cv=5)"
   ]
  },
  {
   "cell_type": "markdown",
   "metadata": {},
   "source": [
    "**Create Binary Classifier**"
   ]
  },
  {
   "cell_type": "code",
   "execution_count": 3,
   "metadata": {
    "collapsed": true
   },
   "outputs": [],
   "source": [
    "rec_score = []\n",
    "for j in range(len(raw_data['rating'])):\n",
    "    if raw_data['rating'][j]>3.5:\n",
    "        rec_score.append(1)\n",
    "    else:\n",
    "        rec_score.append(0)\n",
    "raw_data['rating'] = pd.Series(rec_score, index=raw_data.index)"
   ]
  },
  {
   "cell_type": "markdown",
   "metadata": {},
   "source": [
    "**Reduce Feature Set to 30 Most Valuable Features**"
   ]
  },
  {
   "cell_type": "code",
   "execution_count": 10,
   "metadata": {},
   "outputs": [
    {
     "name": "stdout",
     "output_type": "stream",
     "text": [
      "R^2 =  0.801216836226\n",
      "Cross Validation, CV = 10:\n",
      "[ 0.79910269  0.79810568  0.80109671  0.8000997   0.8000997   0.80548628\n",
      "  0.80349127  0.79790419  0.79640719  0.80638723]\n",
      "Unweighted Accuracy: 0.80 (+/- 0.01)\n"
     ]
    }
   ],
   "source": [
    "from sklearn.svm import SVC\n",
    "from sklearn.decomposition import PCA \n",
    "\n",
    "X = raw_data.drop(['rating', 'title', 'calories', 'protein', 'fat', 'sodium'], 1)\n",
    "Y = raw_data.rating\n",
    "sklearn_pca = PCA(n_components=30)\n",
    "X_pca = sklearn_pca.fit_transform(X)\n",
    "\n",
    "svc = SVC()\n",
    "svc_pca = svc.fit(X_pca,Y)\n",
    "\n",
    "print(\"R^2 = \",svc.score(X_pca, Y))\n",
    "score_pca = cross_val_score(svc_pca, X_pca, Y, cv=10)\n",
    "print(\"Cross Validation, CV = 10:\")\n",
    "print(score_pca)\n",
    "print(\"Unweighted Accuracy: %0.2f (+/- %0.2f)\" % (score_pca.mean(), score_pca.std() * 2))"
   ]
  },
  {
   "cell_type": "markdown",
   "metadata": {},
   "source": [
    "**Evaluating Bias**\n",
    "\n",
    "Take a moment to think about bias. Is there anything in this dataset that makes you think it could be biased, perhaps extremely so?\n",
    "\n",
    "Potential sources of bias is the nationality of the people voting, as people from different countries may have different palettes and preferences, and therefore recipes with certain ingredients may get higher ratings not because those recipes are objectively better, but because the users have a preference for certain ingredients that are common to the cuisine that they're familiar with."
   ]
  }
 ],
 "metadata": {
  "kernelspec": {
   "display_name": "Python 3",
   "language": "python",
   "name": "python3"
  },
  "language_info": {
   "codemirror_mode": {
    "name": "ipython",
    "version": 3
   },
   "file_extension": ".py",
   "mimetype": "text/x-python",
   "name": "python",
   "nbconvert_exporter": "python",
   "pygments_lexer": "ipython3",
   "version": "3.5.2"
  }
 },
 "nbformat": 4,
 "nbformat_minor": 2
}
