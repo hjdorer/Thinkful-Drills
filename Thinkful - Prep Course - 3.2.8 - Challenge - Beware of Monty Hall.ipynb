{
 "cells": [
  {
   "cell_type": "markdown",
   "metadata": {},
   "source": [
    "**Thinkful - Challenge - Monty Hall**"
   ]
  },
  {
   "cell_type": "markdown",
   "metadata": {},
   "source": [
    "One of the classic problems in this space is referred to as the Monty Hall Problem. Some people even use this as an interview question! It is deceptively simple, and really digging into it reveals a myriad of approaches and some serious applications of conditional probability. The story goes like this:\n",
    "You are on a game show and given the choice of whatever is behind three doors. Behind one door is a fantastic prize (some examples use a car, others use cash) while behind the other two doors is a dud (some examples say a goat, others say it's just empty). You pick a door. Then the host opens one of the other two doors to reveal a dud. But here's the wrinkle: the host now gives you the opportunity to switch your door. What should you do?\n",
    "Switch doors due to the new information received between the door selection in the first round as compared to the door selection in the second round, as the host will always choose a dud door.\n",
    "Write up some notes on this problem, including how you think Bayes' Rule might apply. Drop a link to your notes below and discuss it with your mentor. After that check out the Wikipedia page for this problem. It's quite thorough."
   ]
  },
  {
   "cell_type": "markdown",
   "metadata": {},
   "source": [
    "**Notes on the Monty Hall Problem**"
   ]
  },
  {
   "cell_type": "markdown",
   "metadata": {},
   "source": [
    "Bayes' rule is the assessment of conditional probability. The key item here is the fact that we know that the host knows which door the prize is behind and will never choose that door, so every round we receive new information in which door he doesn't choose. We can use this information when making a decision during subsequent rounds by assessing conditional probabilities using Bayes' rule.\n",
    "\n",
    "Applying Bayes' rule (below) shows us that it is advantageous to switch doors to the door that the host didn't choose during the previous round.\n",
    "\n",
    "The trickiest part of this analysis is understanding that for both scenarios you are assessing the *probability* of each outcome (p(C1|D3) and p(C2|D3)) occurring and neither outcome is guaranteed for every repetition of the exercise. The more exercise is repeated, the more closely the frequency of each outcome will converge with the statistical prediction of each outcome (p(C1|D3) = 1/3 and p(C2|D3) = 2/3)."
   ]
  },
  {
   "cell_type": "markdown",
   "metadata": {},
   "source": [
    "**Applying Bayes' Rule to the Problem**"
   ]
  },
  {
   "cell_type": "markdown",
   "metadata": {},
   "source": [
    "I used the following website to guide me to the final answer, however, I included a lot of substeps to walk myself through the process:\n",
    "https://www.quora.com/How-do-I-solve-the-Monty-Hall-Problem-using-Bayes-Theorem\n",
    "\n",
    "The following rules apply:\n",
    "* Rule 1: The host will never open the door that you picked for that round\n",
    "* Rule 2: The host will never pick the door with the prize throughout the entire game and therefore the final round occurs when there are only two doors left\n",
    "* Rule 3: This is kind of implied, but the host will never open the same door twice because then the game would never end (the host could just keep open the same prizeless door and never tell the contestant if they were right or not)\n",
    "\n",
    "Given the following events:\n",
    "* D1: The host opens door 1\n",
    "* D2: The host opens door 2\n",
    "* D3: The host opens door 3\n",
    "* C1: The prize is behind door 1\n",
    "* C2: The prize is behind door 2\n",
    "* C3: The prize is behind door 3\n",
    "\n",
    "From the contestant's perspective, the intuitive thinking is that the following probabilities apply consistently throughout the game:\n",
    "* p(D1) = p(D2) = p(D3) = 1/number of unchecked doors\n",
    "* p(C1) = p(C2) = p(C3) = 1/3\n",
    "\n",
    "Therefore, these probabilities can mislead the contestant into believing that there is no advantage to switching doors after the first round. In actuality, the fact that the host will never open the door with the prize gives the contestant information to use when making a decision during subsequent rounds and therefore conditional probability must be applied. For example, let's say that the prize is behind door 2. \n",
    "\n",
    "**Round 1**\n",
    "Given the above probabilities, let's say that we chose door 1 for the first round. Due to the rules of the game, the host will open door 3:\n",
    "* p(D1) = 0 because the contestant chose this door (Rule 1)\n",
    "* p(D2|C2) = 0 because the prize is behind this door (Rule 2)\n",
    "* p(D3|C2) = 1 because it's the only remaining option. If there were more than 3 doors, the probability of the host choosing any of the remaining doors is 1/(n-2), where n is the total number of doors.\n",
    "\n",
    "**Round 2**\n",
    "Now, as the contestant, we don't know the above probabilities and need to ask ourselves why the host didn't choose doors 1 or 2. We don't know if the host didn't choose door number 1 because we chose it (Rule 1), or because it has the prize behind it (Rule 2). So the fact that the host didn't choose door number 1 during round 1 doesn't give us any new information and therefore going into round 2, we can only make the following assertion about door 1 from round 1: \n",
    "* p(D3|C1) = 1/2 (probability = 1/number of unchecked doors).\n",
    "\n",
    "Going into round 2, we also know the following about door 3:\n",
    "* p(D3|C3) = 0 because round 1 showed us that the prize is not behind this door (p(C3|D3) = 0) and therefore it's not even an option for round 2 (Rule 3).\n",
    "\n",
    "-----\n",
    "\n",
    "To summarize, there are two possible scenarios. The first is that the prize is behind door 1, meaning that we have to assess the probability of the prize being behind door 1 given that the host opened door 3 (p(C1|D3)):\n",
    "* p(D3|C1) = 1/2 (explained above)\n",
    "* p(D3|C2) = 1/2. Here, we are first asking ourselves why the host did not pick door 2. In this scenario, the prize is behind door 1 and therefore the host had a 50% chance of picking door 2 and a 50% chance of picking door 3 (p(D2|C1) = 1/2). Therefore, p(D3|C2) = 1 - p(D2|C1) = 1 - 1/2 = 1/2. This is good to know to understand the scenario completely, but we don't need this information to assess p(C1|D3).\n",
    "* p(D3|C3) = 0 (explained above)\n",
    "\n",
    "**p(C1|D3) = p(D3|C1) x p(C1) / p(D3) = (1/2 * 1/3) / (1/2) = 1/3** Using Bayes' Rule\n",
    "\n",
    "-----\n",
    "\n",
    "The second scenario is that the prize is behind door 2, meaning that we have to assess the probability of the prize being behind door 2 given that the host opened door 3 (p(C2|D3)):\n",
    "* p(D3|C1) = 1/2 (explained above). This is good to know to understand the scenario completely, but we don't need this information to assess p(C2|D3).\n",
    "* p(D3|C2) = 1. Here, we are again asking ourselves why the host did not pick door 2. In this scenario, the prize is behind door 2 and therefore the host had a 0% chance of picking door 2 (p(D2|C2) = 0). Therefore, p(D3|C2) = 1 - p(D2|C2) = 1 - 0 = 1. \n",
    "* p(D3|C3) = 0 (explained above)\n",
    "\n",
    "**p(C2|D3) = p(D3|C2) x p(C2) / p(D3) = (1 * 1/3) / (1/2) = 2/3** Using Baye's Rule\n",
    "\n",
    "-------\n",
    "\n",
    "Therefore, it is advantageous to switch doors to one that the host did not choose."
   ]
  },
  {
   "cell_type": "code",
   "execution_count": null,
   "metadata": {
    "collapsed": true
   },
   "outputs": [],
   "source": []
  }
 ],
 "metadata": {
  "kernelspec": {
   "display_name": "Python 3",
   "language": "python",
   "name": "python3"
  },
  "language_info": {
   "codemirror_mode": {
    "name": "ipython",
    "version": 3
   },
   "file_extension": ".py",
   "mimetype": "text/x-python",
   "name": "python",
   "nbconvert_exporter": "python",
   "pygments_lexer": "ipython3",
   "version": "3.5.2"
  }
 },
 "nbformat": 4,
 "nbformat_minor": 2
}
